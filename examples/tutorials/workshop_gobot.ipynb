{
 "cells": [
  {
   "cell_type": "code",
   "execution_count": null,
   "metadata": {},
   "outputs": [],
   "source": [
    "!pip install deeppavlov"
   ]
  },
  {
   "cell_type": "code",
   "execution_count": 1,
   "metadata": {},
   "outputs": [],
   "source": [
    "import deeppavlov"
   ]
  },
  {
   "cell_type": "code",
   "execution_count": 2,
   "metadata": {},
   "outputs": [
    {
     "name": "stderr",
     "output_type": "stream",
     "text": [
      "2018-11-28 16:42:47.294 INFO in 'deeppavlov.dataset_readers.dstc2_reader'['dstc2_reader'] at line 113: [loading dialogs from ../../download/dstc2/dstc2-trn.jsonlist]\n",
      "2018-11-28 16:42:47.426 INFO in 'deeppavlov.dataset_readers.dstc2_reader'['dstc2_reader'] at line 113: [loading dialogs from ../../download/dstc2/dstc2-val.jsonlist]\n",
      "2018-11-28 16:42:47.527 INFO in 'deeppavlov.dataset_readers.dstc2_reader'['dstc2_reader'] at line 113: [loading dialogs from ../../download/dstc2/dstc2-tst.jsonlist]\n"
     ]
    }
   ],
   "source": [
    "from deeppavlov.dataset_readers.dstc2_reader import DSTC2DatasetReader\n",
    "\n",
    "data = DSTC2DatasetReader().read('../../download/dstc2/')"
   ]
  },
  {
   "cell_type": "code",
   "execution_count": 3,
   "metadata": {},
   "outputs": [
    {
     "data": {
      "text/plain": [
       "({'text': 'cheap restaurant',\n",
       "  'intents': [{'slots': [['pricerange', 'cheap']], 'act': 'inform'}]},\n",
       " {'text': 'What kind of food would you like?', 'act': 'request_food'})"
      ]
     },
     "execution_count": 3,
     "metadata": {},
     "output_type": "execute_result"
    }
   ],
   "source": [
    "data['train'][1]"
   ]
  },
  {
   "cell_type": "code",
   "execution_count": 4,
   "metadata": {},
   "outputs": [],
   "source": [
    "from overrides import overrides\n",
    "\n",
    "from deeppavlov.core.common.registry import register\n",
    "from deeppavlov.core.data.data_learning_iterator import DataLearningIterator\n",
    "\n",
    "\n",
    "@register('my_dialog_iterator')\n",
    "class MyDialogDatasetIterator(DataLearningIterator):\n",
    "\n",
    "    @staticmethod\n",
    "    def _dialogs(data):\n",
    "        dialogs = []\n",
    "        prev_resp_act = None\n",
    "        for x, y in data:\n",
    "            if x.get('episode_done'):\n",
    "                del x['episode_done']\n",
    "                prev_resp_act = None\n",
    "                dialogs.append(([], []))\n",
    "            x['prev_resp_act'] = prev_resp_act\n",
    "            prev_resp_act = y['act']\n",
    "            dialogs[-1][0].append(x)\n",
    "            dialogs[-1][1].append(y)\n",
    "        return dialogs\n",
    "\n",
    "    @overrides\n",
    "    def split(self, *args, **kwargs):\n",
    "        self.train = self._dialogs(self.train)\n",
    "        self.valid = self._dialogs(self.valid)\n",
    "        self.test = self._dialogs(self.test)"
   ]
  },
  {
   "cell_type": "code",
   "execution_count": 5,
   "metadata": {},
   "outputs": [],
   "source": [
    "iterator = MyDialogDatasetIterator(data)"
   ]
  },
  {
   "cell_type": "code",
   "execution_count": 12,
   "metadata": {},
   "outputs": [
    {
     "data": {
      "text/plain": [
       "[{'text': '', 'intents': [], 'prev_resp_act': None},\n",
       " {'text': 'cheap restaurant',\n",
       "  'intents': [{'slots': [['pricerange', 'cheap']], 'act': 'inform'}],\n",
       "  'prev_resp_act': 'welcomemsg'},\n",
       " {'text': 'any',\n",
       "  'intents': [{'slots': [['this', 'dontcare']], 'act': 'inform'}],\n",
       "  'prev_resp_act': 'request_food'},\n",
       " {'text': 'south',\n",
       "  'intents': [{'slots': [['area', 'south']], 'act': 'inform'}],\n",
       "  'prev_resp_act': 'request_area'},\n",
       " {'text': 'south',\n",
       "  'intents': [{'slots': [['area', 'south']], 'act': 'inform'}],\n",
       "  'db_result': {'food': 'chinese',\n",
       "   'pricerange': 'cheap',\n",
       "   'area': 'south',\n",
       "   'addr': 'cambridge leisure park clifton way cherry hinton',\n",
       "   'phone': '01223 244277',\n",
       "   'postcode': 'c.b 1, 7 d.y',\n",
       "   'name': 'the lucky star'},\n",
       "  'prev_resp_act': 'api_call'},\n",
       " {'text': 'address',\n",
       "  'intents': [{'slots': [['slot', 'addr']], 'act': 'request'}],\n",
       "  'prev_resp_act': 'inform_area+inform_food+offer_name'},\n",
       " {'text': 'phone number',\n",
       "  'intents': [{'slots': [['slot', 'phone']], 'act': 'request'}],\n",
       "  'prev_resp_act': 'inform_addr+offer_name'},\n",
       " {'text': 'thank you good bye',\n",
       "  'intents': [{'slots': [], 'act': 'thankyou'}, {'slots': [], 'act': 'bye'}],\n",
       "  'prev_resp_act': 'inform_phone+offer_name'}]"
      ]
     },
     "execution_count": 12,
     "metadata": {},
     "output_type": "execute_result"
    }
   ],
   "source": [
    "x_dialog, y_dialog = iterator.train[0]\n",
    "x_dialog"
   ]
  },
  {
   "cell_type": "code",
   "execution_count": 15,
   "metadata": {},
   "outputs": [
    {
     "data": {
      "text/plain": [
       "{'text': 'cheap restaurant',\n",
       " 'intents': [{'slots': [['pricerange', 'cheap']], 'act': 'inform'}],\n",
       " 'prev_resp_act': 'welcomemsg'}"
      ]
     },
     "execution_count": 15,
     "metadata": {},
     "output_type": "execute_result"
    }
   ],
   "source": [
    "x_dialog[1]"
   ]
  },
  {
   "cell_type": "code",
   "execution_count": 16,
   "metadata": {},
   "outputs": [
    {
     "data": {
      "text/plain": [
       "{'text': 'What kind of food would you like?', 'act': 'request_food'}"
      ]
     },
     "execution_count": 16,
     "metadata": {},
     "output_type": "execute_result"
    }
   ],
   "source": [
    "y_dialog[1]"
   ]
  },
  {
   "cell_type": "markdown",
   "metadata": {},
   "source": [
    "## Обучаем бот без NER (распознавания сущностей)"
   ]
  },
  {
   "cell_type": "code",
   "execution_count": 17,
   "metadata": {},
   "outputs": [],
   "source": [
    "tokenizer = {\n",
    "    \"class_name\": \"deeppavlov.models.go_bot.wrapper:DialogComponentWrapper\",\n",
    "    \"component\": { \"class_name\": \"split_tokenizer\" },\n",
    "    \"in\": [\"x\"],\n",
    "    \"out\": [\"x_tokens\"]\n",
    "}\n",
    "token_vocabulary = {\n",
    "    \"id\": \"token_vocab\",\n",
    "    \"class_name\": \"simple_vocab\",\n",
    "    \"fit_on\": [\"x_tokens\"],\n",
    "    \"save_path\": \"{MODELS_PATH}/my_gobot/token.dict\",\n",
    "    \"load_path\": \"{MODELS_PATH}/my_gobot/token.dict\"\n",
    "}\n",
    "network = {\n",
    "    \"in\": [\"x\"],\n",
    "    \"in_y\": [\"y\"],\n",
    "    \"out\": [\"y_predicted\"],\n",
    "    \"main\": True,\n",
    "    \"class_name\": \"go_bot\",\n",
    "    \"load_path\": \"{MODELS_PATH}/my_gobot/model\",\n",
    "    \"save_path\": \"{MODELS_PATH}/my_gobot/model\",\n",
    "    \"debug\": False,\n",
    "    \"word_vocab\": \"#token_vocab\",\n",
    "    \"template_path\": \"{DOWNLOADS_PATH}/dstc2/dstc2-templates.txt\",\n",
    "    \"template_type\": \"DualTemplate\",\n",
    "    \"api_call_action\": \"api_call\",\n",
    "    \"use_action_mask\": False,\n",
    "    \"network_parameters\": {\n",
    "      \"learning_rate\": 0.005,\n",
    "      \"dropout_rate\": 0.5,\n",
    "      \"l2_reg_coef\": 7e-4,\n",
    "      \"hidden_size\": 128,\n",
    "      \"dense_size\": 160\n",
    "    },\n",
    "    \"slot_filler\": None,\n",
    "    \"intent_classifier\": None,\n",
    "    \"embedder\": None,\n",
    "    \"bow_embedder\": {\n",
    "      \"class_name\": \"bow\",\n",
    "      \"depth\": \"#token_vocab.__len__()\",\n",
    "      \"with_counts\": True\n",
    "    },\n",
    "    \"tokenizer\": {\n",
    "      \"class_name\": \"stream_spacy_tokenizer\",\n",
    "      \"lowercase\": False\n",
    "    },\n",
    "    \"tracker\": {\n",
    "      \"class_name\": \"featurized_tracker\",\n",
    "      \"slot_names\": []\n",
    "    }\n",
    "}\n",
    "\n",
    "\n",
    "basic_config = {\n",
    "  \"dataset_reader\": {\n",
    "    \"class_name\": \"dstc2_reader\",\n",
    "    \"data_path\": \"{DOWNLOADS_PATH}/dstc2\"\n",
    "  },\n",
    "  \"dataset_iterator\": {\n",
    "    \"class_name\": \"my_dialog_iterator\"\n",
    "  },\n",
    "  \"chainer\": {\n",
    "    \"in\": [\"x\"],\n",
    "    \"in_y\": [\"y\"],\n",
    "    \"out\": [\"y_predicted\"],\n",
    "    \"pipe\": [\n",
    "        tokenizer,\n",
    "        token_vocabulary,\n",
    "        network\n",
    "    ]\n",
    "  },\n",
    "  \"train\": {\n",
    "    \"epochs\": 200,\n",
    "    \"batch_size\": 4,\n",
    "\n",
    "    \"metrics\": [\"per_item_dialog_accuracy\"],\n",
    "    \"validation_patience\": 10,\n",
    "    \n",
    "    \"val_every_n_batches\": 15,\n",
    "    \"val_every_n_epochs\": -1,\n",
    "\n",
    "    \"log_every_n_batches\": 15,\n",
    "    \"log_every_n_epochs\": -1,\n",
    "    \"show_examples\": False,\n",
    "    \"validate_best\": True,\n",
    "    \"test_best\": True\n",
    "  },\n",
    "  \"metadata\": {\n",
    "    \"variables\": {\n",
    "      \"ROOT_PATH\": \"~/.deeppavlov\",\n",
    "      \"DOWNLOADS_PATH\": \"{ROOT_PATH}/downloads\",\n",
    "      \"MODELS_PATH\": \"./models\",\n",
    "      \"CONFIGS_PATH\": \"./configs\"\n",
    "    },\n",
    "    \"requirements\": [\n",
    "      \"{DEEPPAVLOV_PATH}/requirements/tf.txt\",\n",
    "      \"{DEEPPAVLOV_PATH}/requirements/fasttext.txt\",\n",
    "      \"{DEEPPAVLOV_PATH}/requirements/spacy.txt\",\n",
    "      \"{DEEPPAVLOV_PATH}/requirements/en_core_web_sm.txt\"\n",
    "    ],\n",
    "    \"labels\": {\n",
    "      \"telegram_utils\": \"GoalOrientedBot\",\n",
    "      \"server_utils\": \"GoalOrientedBot\"\n",
    "    },\n",
    "    \"download\": [\n",
    "      {\n",
    "        \"url\": \"http://files.deeppavlov.ai/datasets/dstc2_v2.tar.gz\",\n",
    "        \"subdir\": \"{DOWNLOADS_PATH}/dstc2\"\n",
    "      }\n",
    "    ]\n",
    "  }\n",
    "}"
   ]
  },
  {
   "cell_type": "code",
   "execution_count": 18,
   "metadata": {},
   "outputs": [],
   "source": [
    "from deeppavlov import train_model, build_model\n",
    "\n",
    "from copy import copy"
   ]
  },
  {
   "cell_type": "code",
   "execution_count": 19,
   "metadata": {},
   "outputs": [
    {
     "name": "stderr",
     "output_type": "stream",
     "text": [
      "2018-11-28 16:44:45.590 DEBUG in 'urllib3.connectionpool'['connectionpool'] at line 205: Starting new HTTP connection (1): files.deeppavlov.ai:80\n",
      "2018-11-28 16:44:45.631 DEBUG in 'urllib3.connectionpool'['connectionpool'] at line 393: http://files.deeppavlov.ai:80 \"GET /datasets/dstc2_v2.tar.gz.md5 HTTP/1.1\" 200 260\n",
      "2018-11-28 16:44:45.678 INFO in 'deeppavlov.download'['download'] at line 115: Skipped http://files.deeppavlov.ai/datasets/dstc2_v2.tar.gz download because of matching hashes\n",
      "2018-11-28 16:44:45.679 INFO in 'deeppavlov.dataset_readers.dstc2_reader'['dstc2_reader'] at line 113: [loading dialogs from /home/vimary/.deeppavlov/downloads/dstc2/dstc2-trn.jsonlist]\n",
      "2018-11-28 16:44:45.906 INFO in 'deeppavlov.dataset_readers.dstc2_reader'['dstc2_reader'] at line 113: [loading dialogs from /home/vimary/.deeppavlov/downloads/dstc2/dstc2-val.jsonlist]\n",
      "2018-11-28 16:44:46.56 INFO in 'deeppavlov.dataset_readers.dstc2_reader'['dstc2_reader'] at line 113: [loading dialogs from /home/vimary/.deeppavlov/downloads/dstc2/dstc2-tst.jsonlist]\n",
      "[nltk_data] Downloading package punkt to /home/vimary/nltk_data...\n",
      "[nltk_data]   Package punkt is already up-to-date!\n",
      "[nltk_data] Downloading package stopwords to /home/vimary/nltk_data...\n",
      "[nltk_data]   Package stopwords is already up-to-date!\n",
      "[nltk_data] Downloading package perluniprops to\n",
      "[nltk_data]     /home/vimary/nltk_data...\n",
      "[nltk_data]   Package perluniprops is already up-to-date!\n",
      "[nltk_data] Downloading package nonbreaking_prefixes to\n",
      "[nltk_data]     /home/vimary/nltk_data...\n",
      "[nltk_data]   Package nonbreaking_prefixes is already up-to-date!\n",
      "2018-11-28 16:44:46.973 INFO in 'deeppavlov.core.data.simple_vocab'['simple_vocab'] at line 89: [saving vocabulary to /home/vimary/ipavlov/Pilot/examples/tutorials/models/my_gobot/token.dict]\n",
      "2018-11-28 16:44:52.821 INFO in 'deeppavlov.models.go_bot.bot'['bot'] at line 108: [loading templates from /home/vimary/.deeppavlov/downloads/dstc2/dstc2-templates.txt]\n",
      "2018-11-28 16:44:52.822 INFO in 'deeppavlov.models.go_bot.bot'['bot'] at line 111: 46 templates loaded\n",
      "2018-11-28 16:44:52.822 INFO in 'deeppavlov.models.go_bot.bot'['bot'] at line 139: Calculated input size for `GoalOrientedBotNetwork` is 496\n",
      "Using TensorFlow backend.\n",
      "2018-11-28 16:44:53.308 INFO in 'deeppavlov.models.go_bot.network'['network'] at line 123: [initializing `GoalOrientedBotNetwork` from scratch]\n",
      "2018-11-28 16:45:01.606 INFO in 'deeppavlov.core.commands.train'['train'] at line 363: New best per_item_dialog_accuracy of 0.0042\n",
      "2018-11-28 16:45:01.606 INFO in 'deeppavlov.core.commands.train'['train'] at line 365: Saving model\n",
      "2018-11-28 16:45:01.607 INFO in 'deeppavlov.core.models.tf_model'['tf_model'] at line 52: [saving model to /home/vimary/ipavlov/Pilot/examples/tutorials/models/my_gobot/model]\n",
      "2018-11-28 16:45:01.804 INFO in 'deeppavlov.models.go_bot.network'['network'] at line 354: [saving parameters to /home/vimary/ipavlov/Pilot/examples/tutorials/models/my_gobot/model.json]\n"
     ]
    },
    {
     "name": "stdout",
     "output_type": "stream",
     "text": [
      "{\"valid\": {\"eval_examples_count\": 575, \"metrics\": {\"per_item_dialog_accuracy\": 0.0042}, \"time_spent\": \"0:00:09\", \"epochs_done\": 0, \"batches_seen\": 0, \"train_examples_seen\": 0, \"impatience\": 0, \"patience_limit\": 10}}\n",
      "{\"train\": {\"epochs_done\": 0, \"batches_seen\": 15, \"examples_seen\": 60, \"metrics\": {\"per_item_dialog_accuracy\": 0.0898}, \"time_spent\": \"0:00:10\"}}\n"
     ]
    },
    {
     "name": "stderr",
     "output_type": "stream",
     "text": [
      "2018-11-28 16:45:10.688 INFO in 'deeppavlov.core.commands.train'['train'] at line 459: New best per_item_dialog_accuracy of 0.1436\n",
      "2018-11-28 16:45:10.688 INFO in 'deeppavlov.core.commands.train'['train'] at line 461: Saving model\n",
      "2018-11-28 16:45:10.689 INFO in 'deeppavlov.core.models.tf_model'['tf_model'] at line 52: [saving model to /home/vimary/ipavlov/Pilot/examples/tutorials/models/my_gobot/model]\n",
      "2018-11-28 16:45:10.749 INFO in 'deeppavlov.models.go_bot.network'['network'] at line 354: [saving parameters to /home/vimary/ipavlov/Pilot/examples/tutorials/models/my_gobot/model.json]\n"
     ]
    },
    {
     "name": "stdout",
     "output_type": "stream",
     "text": [
      "{\"valid\": {\"eval_examples_count\": 575, \"metrics\": {\"per_item_dialog_accuracy\": 0.1436}, \"time_spent\": \"0:00:18\", \"epochs_done\": 0, \"batches_seen\": 15, \"train_examples_seen\": 60, \"impatience\": 0, \"patience_limit\": 10}}\n",
      "{\"train\": {\"epochs_done\": 0, \"batches_seen\": 30, \"examples_seen\": 120, \"metrics\": {\"per_item_dialog_accuracy\": 0.211}, \"time_spent\": \"0:00:19\"}}\n"
     ]
    },
    {
     "name": "stderr",
     "output_type": "stream",
     "text": [
      "2018-11-28 16:45:19.548 INFO in 'deeppavlov.core.commands.train'['train'] at line 459: New best per_item_dialog_accuracy of 0.25\n",
      "2018-11-28 16:45:19.549 INFO in 'deeppavlov.core.commands.train'['train'] at line 461: Saving model\n",
      "2018-11-28 16:45:19.549 INFO in 'deeppavlov.core.models.tf_model'['tf_model'] at line 52: [saving model to /home/vimary/ipavlov/Pilot/examples/tutorials/models/my_gobot/model]\n",
      "2018-11-28 16:45:19.609 INFO in 'deeppavlov.models.go_bot.network'['network'] at line 354: [saving parameters to /home/vimary/ipavlov/Pilot/examples/tutorials/models/my_gobot/model.json]\n"
     ]
    },
    {
     "name": "stdout",
     "output_type": "stream",
     "text": [
      "{\"valid\": {\"eval_examples_count\": 575, \"metrics\": {\"per_item_dialog_accuracy\": 0.25}, \"time_spent\": \"0:00:27\", \"epochs_done\": 0, \"batches_seen\": 30, \"train_examples_seen\": 120, \"impatience\": 0, \"patience_limit\": 10}}\n",
      "{\"train\": {\"epochs_done\": 0, \"batches_seen\": 45, \"examples_seen\": 180, \"metrics\": {\"per_item_dialog_accuracy\": 0.3106}, \"time_spent\": \"0:00:28\"}}\n"
     ]
    },
    {
     "name": "stderr",
     "output_type": "stream",
     "text": [
      "2018-11-28 16:45:28.496 INFO in 'deeppavlov.core.commands.train'['train'] at line 466: Did not improve on the per_item_dialog_accuracy of 0.25\n"
     ]
    },
    {
     "name": "stdout",
     "output_type": "stream",
     "text": [
      "{\"valid\": {\"eval_examples_count\": 575, \"metrics\": {\"per_item_dialog_accuracy\": 0.2329}, \"time_spent\": \"0:00:36\", \"epochs_done\": 0, \"batches_seen\": 45, \"train_examples_seen\": 180, \"impatience\": 1, \"patience_limit\": 10}}\n",
      "{\"train\": {\"epochs_done\": 0, \"batches_seen\": 60, \"examples_seen\": 240, \"metrics\": {\"per_item_dialog_accuracy\": 0.3409}, \"time_spent\": \"0:00:37\"}}\n"
     ]
    },
    {
     "name": "stderr",
     "output_type": "stream",
     "text": [
      "2018-11-28 16:45:37.419 INFO in 'deeppavlov.core.commands.train'['train'] at line 459: New best per_item_dialog_accuracy of 0.2773\n",
      "2018-11-28 16:45:37.420 INFO in 'deeppavlov.core.commands.train'['train'] at line 461: Saving model\n",
      "2018-11-28 16:45:37.420 INFO in 'deeppavlov.core.models.tf_model'['tf_model'] at line 52: [saving model to /home/vimary/ipavlov/Pilot/examples/tutorials/models/my_gobot/model]\n",
      "2018-11-28 16:45:37.478 INFO in 'deeppavlov.models.go_bot.network'['network'] at line 354: [saving parameters to /home/vimary/ipavlov/Pilot/examples/tutorials/models/my_gobot/model.json]\n"
     ]
    },
    {
     "name": "stdout",
     "output_type": "stream",
     "text": [
      "{\"valid\": {\"eval_examples_count\": 575, \"metrics\": {\"per_item_dialog_accuracy\": 0.2773}, \"time_spent\": \"0:00:45\", \"epochs_done\": 0, \"batches_seen\": 60, \"train_examples_seen\": 240, \"impatience\": 0, \"patience_limit\": 10}}\n",
      "{\"train\": {\"epochs_done\": 0, \"batches_seen\": 75, \"examples_seen\": 300, \"metrics\": {\"per_item_dialog_accuracy\": 0.3657}, \"time_spent\": \"0:00:46\"}}\n"
     ]
    },
    {
     "name": "stderr",
     "output_type": "stream",
     "text": [
      "2018-11-28 16:45:46.819 INFO in 'deeppavlov.core.commands.train'['train'] at line 459: New best per_item_dialog_accuracy of 0.2905\n",
      "2018-11-28 16:45:46.820 INFO in 'deeppavlov.core.commands.train'['train'] at line 461: Saving model\n",
      "2018-11-28 16:45:46.821 INFO in 'deeppavlov.core.models.tf_model'['tf_model'] at line 52: [saving model to /home/vimary/ipavlov/Pilot/examples/tutorials/models/my_gobot/model]\n",
      "2018-11-28 16:45:46.881 INFO in 'deeppavlov.models.go_bot.network'['network'] at line 354: [saving parameters to /home/vimary/ipavlov/Pilot/examples/tutorials/models/my_gobot/model.json]\n"
     ]
    },
    {
     "name": "stdout",
     "output_type": "stream",
     "text": [
      "{\"valid\": {\"eval_examples_count\": 575, \"metrics\": {\"per_item_dialog_accuracy\": 0.2905}, \"time_spent\": \"0:00:54\", \"epochs_done\": 0, \"batches_seen\": 75, \"train_examples_seen\": 300, \"impatience\": 0, \"patience_limit\": 10}}\n",
      "{\"train\": {\"epochs_done\": 0, \"batches_seen\": 90, \"examples_seen\": 360, \"metrics\": {\"per_item_dialog_accuracy\": 0.3339}, \"time_spent\": \"0:00:55\"}}\n"
     ]
    },
    {
     "name": "stderr",
     "output_type": "stream",
     "text": [
      "2018-11-28 16:45:56.185 INFO in 'deeppavlov.core.commands.train'['train'] at line 466: Did not improve on the per_item_dialog_accuracy of 0.2905\n"
     ]
    },
    {
     "name": "stdout",
     "output_type": "stream",
     "text": [
      "{\"valid\": {\"eval_examples_count\": 575, \"metrics\": {\"per_item_dialog_accuracy\": 0.2868}, \"time_spent\": \"0:01:03\", \"epochs_done\": 0, \"batches_seen\": 90, \"train_examples_seen\": 360, \"impatience\": 1, \"patience_limit\": 10}}\n",
      "{\"train\": {\"epochs_done\": 0, \"batches_seen\": 105, \"examples_seen\": 420, \"metrics\": {\"per_item_dialog_accuracy\": 0.3656}, \"time_spent\": \"0:01:04\"}}\n"
     ]
    },
    {
     "name": "stderr",
     "output_type": "stream",
     "text": [
      "2018-11-28 16:46:05.99 INFO in 'deeppavlov.core.commands.train'['train'] at line 459: New best per_item_dialog_accuracy of 0.3004\n",
      "2018-11-28 16:46:05.100 INFO in 'deeppavlov.core.commands.train'['train'] at line 461: Saving model\n",
      "2018-11-28 16:46:05.100 INFO in 'deeppavlov.core.models.tf_model'['tf_model'] at line 52: [saving model to /home/vimary/ipavlov/Pilot/examples/tutorials/models/my_gobot/model]\n",
      "2018-11-28 16:46:05.158 INFO in 'deeppavlov.models.go_bot.network'['network'] at line 354: [saving parameters to /home/vimary/ipavlov/Pilot/examples/tutorials/models/my_gobot/model.json]\n"
     ]
    },
    {
     "name": "stdout",
     "output_type": "stream",
     "text": [
      "{\"valid\": {\"eval_examples_count\": 575, \"metrics\": {\"per_item_dialog_accuracy\": 0.3004}, \"time_spent\": \"0:01:12\", \"epochs_done\": 0, \"batches_seen\": 105, \"train_examples_seen\": 420, \"impatience\": 0, \"patience_limit\": 10}}\n",
      "{\"train\": {\"epochs_done\": 0, \"batches_seen\": 120, \"examples_seen\": 480, \"metrics\": {\"per_item_dialog_accuracy\": 0.359}, \"time_spent\": \"0:01:13\"}}\n"
     ]
    },
    {
     "name": "stderr",
     "output_type": "stream",
     "text": [
      "2018-11-28 16:46:13.972 INFO in 'deeppavlov.core.commands.train'['train'] at line 466: Did not improve on the per_item_dialog_accuracy of 0.3004\n"
     ]
    },
    {
     "name": "stdout",
     "output_type": "stream",
     "text": [
      "{\"valid\": {\"eval_examples_count\": 575, \"metrics\": {\"per_item_dialog_accuracy\": 0.2951}, \"time_spent\": \"0:01:21\", \"epochs_done\": 0, \"batches_seen\": 120, \"train_examples_seen\": 480, \"impatience\": 1, \"patience_limit\": 10}}\n",
      "{\"train\": {\"epochs_done\": 0, \"batches_seen\": 135, \"examples_seen\": 540, \"metrics\": {\"per_item_dialog_accuracy\": 0.3806}, \"time_spent\": \"0:01:22\"}}\n"
     ]
    },
    {
     "name": "stderr",
     "output_type": "stream",
     "text": [
      "2018-11-28 16:46:22.791 INFO in 'deeppavlov.core.commands.train'['train'] at line 459: New best per_item_dialog_accuracy of 0.3065\n",
      "2018-11-28 16:46:22.791 INFO in 'deeppavlov.core.commands.train'['train'] at line 461: Saving model\n",
      "2018-11-28 16:46:22.792 INFO in 'deeppavlov.core.models.tf_model'['tf_model'] at line 52: [saving model to /home/vimary/ipavlov/Pilot/examples/tutorials/models/my_gobot/model]\n",
      "2018-11-28 16:46:22.849 INFO in 'deeppavlov.models.go_bot.network'['network'] at line 354: [saving parameters to /home/vimary/ipavlov/Pilot/examples/tutorials/models/my_gobot/model.json]\n"
     ]
    },
    {
     "name": "stdout",
     "output_type": "stream",
     "text": [
      "{\"valid\": {\"eval_examples_count\": 575, \"metrics\": {\"per_item_dialog_accuracy\": 0.3065}, \"time_spent\": \"0:01:30\", \"epochs_done\": 0, \"batches_seen\": 135, \"train_examples_seen\": 540, \"impatience\": 0, \"patience_limit\": 10}}\n",
      "{\"train\": {\"epochs_done\": 0, \"batches_seen\": 150, \"examples_seen\": 600, \"metrics\": {\"per_item_dialog_accuracy\": 0.3644}, \"time_spent\": \"0:01:31\"}}\n"
     ]
    },
    {
     "name": "stderr",
     "output_type": "stream",
     "text": [
      "2018-11-28 16:46:31.773 INFO in 'deeppavlov.core.commands.train'['train'] at line 459: New best per_item_dialog_accuracy of 0.3088\n",
      "2018-11-28 16:46:31.773 INFO in 'deeppavlov.core.commands.train'['train'] at line 461: Saving model\n",
      "2018-11-28 16:46:31.774 INFO in 'deeppavlov.core.models.tf_model'['tf_model'] at line 52: [saving model to /home/vimary/ipavlov/Pilot/examples/tutorials/models/my_gobot/model]\n",
      "2018-11-28 16:46:31.831 INFO in 'deeppavlov.models.go_bot.network'['network'] at line 354: [saving parameters to /home/vimary/ipavlov/Pilot/examples/tutorials/models/my_gobot/model.json]\n"
     ]
    },
    {
     "name": "stdout",
     "output_type": "stream",
     "text": [
      "{\"valid\": {\"eval_examples_count\": 575, \"metrics\": {\"per_item_dialog_accuracy\": 0.3088}, \"time_spent\": \"0:01:39\", \"epochs_done\": 0, \"batches_seen\": 150, \"train_examples_seen\": 600, \"impatience\": 0, \"patience_limit\": 10}}\n",
      "{\"train\": {\"epochs_done\": 0, \"batches_seen\": 165, \"examples_seen\": 660, \"metrics\": {\"per_item_dialog_accuracy\": 0.3793}, \"time_spent\": \"0:01:40\"}}\n"
     ]
    },
    {
     "name": "stderr",
     "output_type": "stream",
     "text": [
      "2018-11-28 16:46:41.132 INFO in 'deeppavlov.core.commands.train'['train'] at line 459: New best per_item_dialog_accuracy of 0.316\n",
      "2018-11-28 16:46:41.133 INFO in 'deeppavlov.core.commands.train'['train'] at line 461: Saving model\n",
      "2018-11-28 16:46:41.134 INFO in 'deeppavlov.core.models.tf_model'['tf_model'] at line 52: [saving model to /home/vimary/ipavlov/Pilot/examples/tutorials/models/my_gobot/model]\n",
      "2018-11-28 16:46:41.195 INFO in 'deeppavlov.models.go_bot.network'['network'] at line 354: [saving parameters to /home/vimary/ipavlov/Pilot/examples/tutorials/models/my_gobot/model.json]\n"
     ]
    },
    {
     "name": "stdout",
     "output_type": "stream",
     "text": [
      "{\"valid\": {\"eval_examples_count\": 575, \"metrics\": {\"per_item_dialog_accuracy\": 0.316}, \"time_spent\": \"0:01:48\", \"epochs_done\": 0, \"batches_seen\": 165, \"train_examples_seen\": 660, \"impatience\": 0, \"patience_limit\": 10}}\n",
      "{\"train\": {\"epochs_done\": 0, \"batches_seen\": 180, \"examples_seen\": 720, \"metrics\": {\"per_item_dialog_accuracy\": 0.4218}, \"time_spent\": \"0:01:49\"}}\n"
     ]
    },
    {
     "name": "stderr",
     "output_type": "stream",
     "text": [
      "2018-11-28 16:46:50.4 INFO in 'deeppavlov.core.commands.train'['train'] at line 466: Did not improve on the per_item_dialog_accuracy of 0.316\n"
     ]
    },
    {
     "name": "stdout",
     "output_type": "stream",
     "text": [
      "{\"valid\": {\"eval_examples_count\": 575, \"metrics\": {\"per_item_dialog_accuracy\": 0.3117}, \"time_spent\": \"0:01:57\", \"epochs_done\": 0, \"batches_seen\": 180, \"train_examples_seen\": 720, \"impatience\": 1, \"patience_limit\": 10}}\n",
      "{\"train\": {\"epochs_done\": 0, \"batches_seen\": 195, \"examples_seen\": 780, \"metrics\": {\"per_item_dialog_accuracy\": 0.3911}, \"time_spent\": \"0:01:58\"}}\n"
     ]
    },
    {
     "name": "stderr",
     "output_type": "stream",
     "text": [
      "2018-11-28 16:46:58.630 INFO in 'deeppavlov.core.commands.train'['train'] at line 466: Did not improve on the per_item_dialog_accuracy of 0.316\n"
     ]
    },
    {
     "name": "stdout",
     "output_type": "stream",
     "text": [
      "{\"valid\": {\"eval_examples_count\": 575, \"metrics\": {\"per_item_dialog_accuracy\": 0.3117}, \"time_spent\": \"0:02:06\", \"epochs_done\": 0, \"batches_seen\": 195, \"train_examples_seen\": 780, \"impatience\": 2, \"patience_limit\": 10}}\n",
      "{\"train\": {\"epochs_done\": 0, \"batches_seen\": 210, \"examples_seen\": 840, \"metrics\": {\"per_item_dialog_accuracy\": 0.383}, \"time_spent\": \"0:02:07\"}}\n"
     ]
    },
    {
     "name": "stderr",
     "output_type": "stream",
     "text": [
      "2018-11-28 16:47:07.305 INFO in 'deeppavlov.core.commands.train'['train'] at line 466: Did not improve on the per_item_dialog_accuracy of 0.316\n"
     ]
    },
    {
     "name": "stdout",
     "output_type": "stream",
     "text": [
      "{\"valid\": {\"eval_examples_count\": 575, \"metrics\": {\"per_item_dialog_accuracy\": 0.3131}, \"time_spent\": \"0:02:14\", \"epochs_done\": 0, \"batches_seen\": 210, \"train_examples_seen\": 840, \"impatience\": 3, \"patience_limit\": 10}}\n",
      "{\"train\": {\"epochs_done\": 0, \"batches_seen\": 225, \"examples_seen\": 900, \"metrics\": {\"per_item_dialog_accuracy\": 0.3801}, \"time_spent\": \"0:02:15\"}}\n"
     ]
    },
    {
     "name": "stderr",
     "output_type": "stream",
     "text": [
      "2018-11-28 16:47:15.954 INFO in 'deeppavlov.core.commands.train'['train'] at line 459: New best per_item_dialog_accuracy of 0.3231\n",
      "2018-11-28 16:47:15.954 INFO in 'deeppavlov.core.commands.train'['train'] at line 461: Saving model\n",
      "2018-11-28 16:47:15.955 INFO in 'deeppavlov.core.models.tf_model'['tf_model'] at line 52: [saving model to /home/vimary/ipavlov/Pilot/examples/tutorials/models/my_gobot/model]\n",
      "2018-11-28 16:47:16.12 INFO in 'deeppavlov.models.go_bot.network'['network'] at line 354: [saving parameters to /home/vimary/ipavlov/Pilot/examples/tutorials/models/my_gobot/model.json]\n"
     ]
    },
    {
     "name": "stdout",
     "output_type": "stream",
     "text": [
      "{\"valid\": {\"eval_examples_count\": 575, \"metrics\": {\"per_item_dialog_accuracy\": 0.3231}, \"time_spent\": \"0:02:23\", \"epochs_done\": 0, \"batches_seen\": 225, \"train_examples_seen\": 900, \"impatience\": 0, \"patience_limit\": 10}}\n",
      "{\"train\": {\"epochs_done\": 0, \"batches_seen\": 240, \"examples_seen\": 960, \"metrics\": {\"per_item_dialog_accuracy\": 0.3732}, \"time_spent\": \"0:02:24\"}}\n"
     ]
    },
    {
     "name": "stderr",
     "output_type": "stream",
     "text": [
      "2018-11-28 16:47:24.679 INFO in 'deeppavlov.core.commands.train'['train'] at line 466: Did not improve on the per_item_dialog_accuracy of 0.3231\n",
      "2018-11-28 16:47:24.771 INFO in 'deeppavlov.models.go_bot.network'['network'] at line 372: Updating global step, learning rate = 0.005000.\n"
     ]
    },
    {
     "name": "stdout",
     "output_type": "stream",
     "text": [
      "{\"valid\": {\"eval_examples_count\": 575, \"metrics\": {\"per_item_dialog_accuracy\": 0.3224}, \"time_spent\": \"0:02:32\", \"epochs_done\": 0, \"batches_seen\": 240, \"train_examples_seen\": 960, \"impatience\": 1, \"patience_limit\": 10}}\n",
      "{\"train\": {\"epochs_done\": 1, \"batches_seen\": 255, \"examples_seen\": 1019, \"metrics\": {\"per_item_dialog_accuracy\": 0.4174}, \"time_spent\": \"0:02:33\"}}\n"
     ]
    },
    {
     "name": "stderr",
     "output_type": "stream",
     "text": [
      "2018-11-28 16:47:33.322 INFO in 'deeppavlov.core.commands.train'['train'] at line 459: New best per_item_dialog_accuracy of 0.3277\n",
      "2018-11-28 16:47:33.322 INFO in 'deeppavlov.core.commands.train'['train'] at line 461: Saving model\n",
      "2018-11-28 16:47:33.323 INFO in 'deeppavlov.core.models.tf_model'['tf_model'] at line 52: [saving model to /home/vimary/ipavlov/Pilot/examples/tutorials/models/my_gobot/model]\n",
      "2018-11-28 16:47:33.381 INFO in 'deeppavlov.models.go_bot.network'['network'] at line 354: [saving parameters to /home/vimary/ipavlov/Pilot/examples/tutorials/models/my_gobot/model.json]\n"
     ]
    },
    {
     "name": "stdout",
     "output_type": "stream",
     "text": [
      "{\"valid\": {\"eval_examples_count\": 575, \"metrics\": {\"per_item_dialog_accuracy\": 0.3277}, \"time_spent\": \"0:02:41\", \"epochs_done\": 1, \"batches_seen\": 255, \"train_examples_seen\": 1019, \"impatience\": 0, \"patience_limit\": 10}}\n",
      "{\"train\": {\"epochs_done\": 1, \"batches_seen\": 270, \"examples_seen\": 1079, \"metrics\": {\"per_item_dialog_accuracy\": 0.4074}, \"time_spent\": \"0:02:41\"}}\n"
     ]
    },
    {
     "name": "stderr",
     "output_type": "stream",
     "text": [
      "2018-11-28 16:47:42.67 INFO in 'deeppavlov.core.commands.train'['train'] at line 466: Did not improve on the per_item_dialog_accuracy of 0.3277\n"
     ]
    },
    {
     "name": "stdout",
     "output_type": "stream",
     "text": [
      "{\"valid\": {\"eval_examples_count\": 575, \"metrics\": {\"per_item_dialog_accuracy\": 0.3255}, \"time_spent\": \"0:02:49\", \"epochs_done\": 1, \"batches_seen\": 270, \"train_examples_seen\": 1079, \"impatience\": 1, \"patience_limit\": 10}}\n",
      "{\"train\": {\"epochs_done\": 1, \"batches_seen\": 285, \"examples_seen\": 1139, \"metrics\": {\"per_item_dialog_accuracy\": 0.4772}, \"time_spent\": \"0:02:50\"}}\n"
     ]
    },
    {
     "name": "stderr",
     "output_type": "stream",
     "text": [
      "2018-11-28 16:47:50.802 INFO in 'deeppavlov.core.commands.train'['train'] at line 459: New best per_item_dialog_accuracy of 0.3489\n",
      "2018-11-28 16:47:50.803 INFO in 'deeppavlov.core.commands.train'['train'] at line 461: Saving model\n",
      "2018-11-28 16:47:50.803 INFO in 'deeppavlov.core.models.tf_model'['tf_model'] at line 52: [saving model to /home/vimary/ipavlov/Pilot/examples/tutorials/models/my_gobot/model]\n",
      "2018-11-28 16:47:50.862 INFO in 'deeppavlov.models.go_bot.network'['network'] at line 354: [saving parameters to /home/vimary/ipavlov/Pilot/examples/tutorials/models/my_gobot/model.json]\n"
     ]
    },
    {
     "name": "stdout",
     "output_type": "stream",
     "text": [
      "{\"valid\": {\"eval_examples_count\": 575, \"metrics\": {\"per_item_dialog_accuracy\": 0.3489}, \"time_spent\": \"0:02:58\", \"epochs_done\": 1, \"batches_seen\": 285, \"train_examples_seen\": 1139, \"impatience\": 0, \"patience_limit\": 10}}\n",
      "{\"train\": {\"epochs_done\": 1, \"batches_seen\": 300, \"examples_seen\": 1199, \"metrics\": {\"per_item_dialog_accuracy\": 0.4474}, \"time_spent\": \"0:02:59\"}}\n"
     ]
    },
    {
     "name": "stderr",
     "output_type": "stream",
     "text": [
      "2018-11-28 16:47:59.625 INFO in 'deeppavlov.core.commands.train'['train'] at line 466: Did not improve on the per_item_dialog_accuracy of 0.3489\n"
     ]
    },
    {
     "name": "stdout",
     "output_type": "stream",
     "text": [
      "{\"valid\": {\"eval_examples_count\": 575, \"metrics\": {\"per_item_dialog_accuracy\": 0.3346}, \"time_spent\": \"0:03:07\", \"epochs_done\": 1, \"batches_seen\": 300, \"train_examples_seen\": 1199, \"impatience\": 1, \"patience_limit\": 10}}\n",
      "{\"train\": {\"epochs_done\": 1, \"batches_seen\": 315, \"examples_seen\": 1259, \"metrics\": {\"per_item_dialog_accuracy\": 0.3623}, \"time_spent\": \"0:03:08\"}}\n"
     ]
    },
    {
     "name": "stderr",
     "output_type": "stream",
     "text": [
      "2018-11-28 16:48:08.369 INFO in 'deeppavlov.core.commands.train'['train'] at line 466: Did not improve on the per_item_dialog_accuracy of 0.3489\n"
     ]
    },
    {
     "name": "stdout",
     "output_type": "stream",
     "text": [
      "{\"valid\": {\"eval_examples_count\": 575, \"metrics\": {\"per_item_dialog_accuracy\": 0.3231}, \"time_spent\": \"0:03:16\", \"epochs_done\": 1, \"batches_seen\": 315, \"train_examples_seen\": 1259, \"impatience\": 2, \"patience_limit\": 10}}\n",
      "{\"train\": {\"epochs_done\": 1, \"batches_seen\": 330, \"examples_seen\": 1319, \"metrics\": {\"per_item_dialog_accuracy\": 0.3897}, \"time_spent\": \"0:03:16\"}}\n"
     ]
    },
    {
     "name": "stderr",
     "output_type": "stream",
     "text": [
      "2018-11-28 16:48:17.97 INFO in 'deeppavlov.core.commands.train'['train'] at line 466: Did not improve on the per_item_dialog_accuracy of 0.3489\n"
     ]
    },
    {
     "name": "stdout",
     "output_type": "stream",
     "text": [
      "{\"valid\": {\"eval_examples_count\": 575, \"metrics\": {\"per_item_dialog_accuracy\": 0.3415}, \"time_spent\": \"0:03:24\", \"epochs_done\": 1, \"batches_seen\": 330, \"train_examples_seen\": 1319, \"impatience\": 3, \"patience_limit\": 10}}\n",
      "{\"train\": {\"epochs_done\": 1, \"batches_seen\": 345, \"examples_seen\": 1379, \"metrics\": {\"per_item_dialog_accuracy\": 0.4191}, \"time_spent\": \"0:03:25\"}}\n"
     ]
    },
    {
     "name": "stderr",
     "output_type": "stream",
     "text": [
      "2018-11-28 16:48:26.81 INFO in 'deeppavlov.core.commands.train'['train'] at line 466: Did not improve on the per_item_dialog_accuracy of 0.3489\n"
     ]
    },
    {
     "name": "stdout",
     "output_type": "stream",
     "text": [
      "{\"valid\": {\"eval_examples_count\": 575, \"metrics\": {\"per_item_dialog_accuracy\": 0.3479}, \"time_spent\": \"0:03:33\", \"epochs_done\": 1, \"batches_seen\": 345, \"train_examples_seen\": 1379, \"impatience\": 4, \"patience_limit\": 10}}\n",
      "{\"train\": {\"epochs_done\": 1, \"batches_seen\": 360, \"examples_seen\": 1439, \"metrics\": {\"per_item_dialog_accuracy\": 0.3779}, \"time_spent\": \"0:03:34\"}}\n"
     ]
    },
    {
     "name": "stderr",
     "output_type": "stream",
     "text": [
      "2018-11-28 16:48:34.827 INFO in 'deeppavlov.core.commands.train'['train'] at line 466: Did not improve on the per_item_dialog_accuracy of 0.3489\n"
     ]
    },
    {
     "name": "stdout",
     "output_type": "stream",
     "text": [
      "{\"valid\": {\"eval_examples_count\": 575, \"metrics\": {\"per_item_dialog_accuracy\": 0.3479}, \"time_spent\": \"0:03:42\", \"epochs_done\": 1, \"batches_seen\": 360, \"train_examples_seen\": 1439, \"impatience\": 5, \"patience_limit\": 10}}\n",
      "{\"train\": {\"epochs_done\": 1, \"batches_seen\": 375, \"examples_seen\": 1499, \"metrics\": {\"per_item_dialog_accuracy\": 0.4409}, \"time_spent\": \"0:03:43\"}}\n"
     ]
    },
    {
     "name": "stderr",
     "output_type": "stream",
     "text": [
      "2018-11-28 16:48:43.631 INFO in 'deeppavlov.core.commands.train'['train'] at line 466: Did not improve on the per_item_dialog_accuracy of 0.3489\n"
     ]
    },
    {
     "name": "stdout",
     "output_type": "stream",
     "text": [
      "{\"valid\": {\"eval_examples_count\": 575, \"metrics\": {\"per_item_dialog_accuracy\": 0.3428}, \"time_spent\": \"0:03:51\", \"epochs_done\": 1, \"batches_seen\": 375, \"train_examples_seen\": 1499, \"impatience\": 6, \"patience_limit\": 10}}\n",
      "{\"train\": {\"epochs_done\": 1, \"batches_seen\": 390, \"examples_seen\": 1559, \"metrics\": {\"per_item_dialog_accuracy\": 0.4048}, \"time_spent\": \"0:03:52\"}}\n"
     ]
    },
    {
     "name": "stderr",
     "output_type": "stream",
     "text": [
      "2018-11-28 16:48:52.522 INFO in 'deeppavlov.core.commands.train'['train'] at line 466: Did not improve on the per_item_dialog_accuracy of 0.3489\n"
     ]
    },
    {
     "name": "stdout",
     "output_type": "stream",
     "text": [
      "{\"valid\": {\"eval_examples_count\": 575, \"metrics\": {\"per_item_dialog_accuracy\": 0.347}, \"time_spent\": \"0:04:00\", \"epochs_done\": 1, \"batches_seen\": 390, \"train_examples_seen\": 1559, \"impatience\": 7, \"patience_limit\": 10}}\n",
      "{\"train\": {\"epochs_done\": 1, \"batches_seen\": 405, \"examples_seen\": 1619, \"metrics\": {\"per_item_dialog_accuracy\": 0.4164}, \"time_spent\": \"0:04:01\"}}\n"
     ]
    },
    {
     "name": "stderr",
     "output_type": "stream",
     "text": [
      "2018-11-28 16:49:01.719 INFO in 'deeppavlov.core.commands.train'['train'] at line 466: Did not improve on the per_item_dialog_accuracy of 0.3489\n"
     ]
    },
    {
     "name": "stdout",
     "output_type": "stream",
     "text": [
      "{\"valid\": {\"eval_examples_count\": 575, \"metrics\": {\"per_item_dialog_accuracy\": 0.3324}, \"time_spent\": \"0:04:09\", \"epochs_done\": 1, \"batches_seen\": 405, \"train_examples_seen\": 1619, \"impatience\": 8, \"patience_limit\": 10}}\n",
      "{\"train\": {\"epochs_done\": 1, \"batches_seen\": 420, \"examples_seen\": 1679, \"metrics\": {\"per_item_dialog_accuracy\": 0.4105}, \"time_spent\": \"0:04:10\"}}\n"
     ]
    },
    {
     "name": "stderr",
     "output_type": "stream",
     "text": [
      "2018-11-28 16:49:10.694 INFO in 'deeppavlov.core.commands.train'['train'] at line 459: New best per_item_dialog_accuracy of 0.3542\n",
      "2018-11-28 16:49:10.694 INFO in 'deeppavlov.core.commands.train'['train'] at line 461: Saving model\n",
      "2018-11-28 16:49:10.695 INFO in 'deeppavlov.core.models.tf_model'['tf_model'] at line 52: [saving model to /home/vimary/ipavlov/Pilot/examples/tutorials/models/my_gobot/model]\n",
      "2018-11-28 16:49:10.758 INFO in 'deeppavlov.models.go_bot.network'['network'] at line 354: [saving parameters to /home/vimary/ipavlov/Pilot/examples/tutorials/models/my_gobot/model.json]\n"
     ]
    },
    {
     "name": "stdout",
     "output_type": "stream",
     "text": [
      "{\"valid\": {\"eval_examples_count\": 575, \"metrics\": {\"per_item_dialog_accuracy\": 0.3542}, \"time_spent\": \"0:04:18\", \"epochs_done\": 1, \"batches_seen\": 420, \"train_examples_seen\": 1679, \"impatience\": 0, \"patience_limit\": 10}}\n",
      "{\"train\": {\"epochs_done\": 1, \"batches_seen\": 435, \"examples_seen\": 1739, \"metrics\": {\"per_item_dialog_accuracy\": 0.4283}, \"time_spent\": \"0:04:19\"}}\n"
     ]
    },
    {
     "name": "stderr",
     "output_type": "stream",
     "text": [
      "2018-11-28 16:49:19.636 INFO in 'deeppavlov.core.commands.train'['train'] at line 466: Did not improve on the per_item_dialog_accuracy of 0.3542\n"
     ]
    },
    {
     "name": "stdout",
     "output_type": "stream",
     "text": [
      "{\"valid\": {\"eval_examples_count\": 575, \"metrics\": {\"per_item_dialog_accuracy\": 0.3503}, \"time_spent\": \"0:04:27\", \"epochs_done\": 1, \"batches_seen\": 435, \"train_examples_seen\": 1739, \"impatience\": 1, \"patience_limit\": 10}}\n",
      "{\"train\": {\"epochs_done\": 1, \"batches_seen\": 450, \"examples_seen\": 1799, \"metrics\": {\"per_item_dialog_accuracy\": 0.4489}, \"time_spent\": \"0:04:28\"}}\n"
     ]
    },
    {
     "name": "stderr",
     "output_type": "stream",
     "text": [
      "2018-11-28 16:49:28.397 INFO in 'deeppavlov.core.commands.train'['train'] at line 466: Did not improve on the per_item_dialog_accuracy of 0.3542\n"
     ]
    },
    {
     "name": "stdout",
     "output_type": "stream",
     "text": [
      "{\"valid\": {\"eval_examples_count\": 575, \"metrics\": {\"per_item_dialog_accuracy\": 0.3353}, \"time_spent\": \"0:04:36\", \"epochs_done\": 1, \"batches_seen\": 450, \"train_examples_seen\": 1799, \"impatience\": 2, \"patience_limit\": 10}}\n",
      "{\"train\": {\"epochs_done\": 1, \"batches_seen\": 465, \"examples_seen\": 1859, \"metrics\": {\"per_item_dialog_accuracy\": 0.3576}, \"time_spent\": \"0:04:37\"}}\n"
     ]
    },
    {
     "name": "stderr",
     "output_type": "stream",
     "text": [
      "2018-11-28 16:49:37.288 INFO in 'deeppavlov.core.commands.train'['train'] at line 466: Did not improve on the per_item_dialog_accuracy of 0.3542\n"
     ]
    },
    {
     "name": "stdout",
     "output_type": "stream",
     "text": [
      "{\"valid\": {\"eval_examples_count\": 575, \"metrics\": {\"per_item_dialog_accuracy\": 0.3295}, \"time_spent\": \"0:04:44\", \"epochs_done\": 1, \"batches_seen\": 465, \"train_examples_seen\": 1859, \"impatience\": 3, \"patience_limit\": 10}}\n",
      "{\"train\": {\"epochs_done\": 1, \"batches_seen\": 480, \"examples_seen\": 1919, \"metrics\": {\"per_item_dialog_accuracy\": 0.4412}, \"time_spent\": \"0:04:45\"}}\n"
     ]
    },
    {
     "name": "stderr",
     "output_type": "stream",
     "text": [
      "2018-11-28 16:49:46.104 INFO in 'deeppavlov.core.commands.train'['train'] at line 466: Did not improve on the per_item_dialog_accuracy of 0.3542\n"
     ]
    },
    {
     "name": "stdout",
     "output_type": "stream",
     "text": [
      "{\"valid\": {\"eval_examples_count\": 575, \"metrics\": {\"per_item_dialog_accuracy\": 0.3285}, \"time_spent\": \"0:04:53\", \"epochs_done\": 1, \"batches_seen\": 480, \"train_examples_seen\": 1919, \"impatience\": 4, \"patience_limit\": 10}}\n"
     ]
    },
    {
     "name": "stderr",
     "output_type": "stream",
     "text": [
      "2018-11-28 16:49:46.342 INFO in 'deeppavlov.models.go_bot.network'['network'] at line 372: Updating global step, learning rate = 0.005000.\n"
     ]
    },
    {
     "name": "stdout",
     "output_type": "stream",
     "text": [
      "{\"train\": {\"epochs_done\": 2, \"batches_seen\": 495, \"examples_seen\": 1978, \"metrics\": {\"per_item_dialog_accuracy\": 0.3868}, \"time_spent\": \"0:04:54\"}}\n"
     ]
    },
    {
     "name": "stderr",
     "output_type": "stream",
     "text": [
      "2018-11-28 16:49:55.270 INFO in 'deeppavlov.core.commands.train'['train'] at line 466: Did not improve on the per_item_dialog_accuracy of 0.3542\n"
     ]
    },
    {
     "name": "stdout",
     "output_type": "stream",
     "text": [
      "{\"valid\": {\"eval_examples_count\": 575, \"metrics\": {\"per_item_dialog_accuracy\": 0.3314}, \"time_spent\": \"0:05:02\", \"epochs_done\": 2, \"batches_seen\": 495, \"train_examples_seen\": 1978, \"impatience\": 5, \"patience_limit\": 10}}\n",
      "{\"train\": {\"epochs_done\": 2, \"batches_seen\": 510, \"examples_seen\": 2038, \"metrics\": {\"per_item_dialog_accuracy\": 0.4198}, \"time_spent\": \"0:05:03\"}}\n"
     ]
    },
    {
     "name": "stderr",
     "output_type": "stream",
     "text": [
      "2018-11-28 16:50:04.350 INFO in 'deeppavlov.core.commands.train'['train'] at line 466: Did not improve on the per_item_dialog_accuracy of 0.3542\n"
     ]
    },
    {
     "name": "stdout",
     "output_type": "stream",
     "text": [
      "{\"valid\": {\"eval_examples_count\": 575, \"metrics\": {\"per_item_dialog_accuracy\": 0.3317}, \"time_spent\": \"0:05:12\", \"epochs_done\": 2, \"batches_seen\": 510, \"train_examples_seen\": 2038, \"impatience\": 6, \"patience_limit\": 10}}\n",
      "{\"train\": {\"epochs_done\": 2, \"batches_seen\": 525, \"examples_seen\": 2098, \"metrics\": {\"per_item_dialog_accuracy\": 0.4291}, \"time_spent\": \"0:05:12\"}}\n"
     ]
    },
    {
     "name": "stderr",
     "output_type": "stream",
     "text": [
      "2018-11-28 16:50:13.152 INFO in 'deeppavlov.core.commands.train'['train'] at line 466: Did not improve on the per_item_dialog_accuracy of 0.3542\n"
     ]
    },
    {
     "name": "stdout",
     "output_type": "stream",
     "text": [
      "{\"valid\": {\"eval_examples_count\": 575, \"metrics\": {\"per_item_dialog_accuracy\": 0.3455}, \"time_spent\": \"0:05:20\", \"epochs_done\": 2, \"batches_seen\": 525, \"train_examples_seen\": 2098, \"impatience\": 7, \"patience_limit\": 10}}\n",
      "{\"train\": {\"epochs_done\": 2, \"batches_seen\": 540, \"examples_seen\": 2158, \"metrics\": {\"per_item_dialog_accuracy\": 0.4339}, \"time_spent\": \"0:05:21\"}}\n"
     ]
    },
    {
     "name": "stderr",
     "output_type": "stream",
     "text": [
      "2018-11-28 16:50:22.4 INFO in 'deeppavlov.core.commands.train'['train'] at line 466: Did not improve on the per_item_dialog_accuracy of 0.3542\n"
     ]
    },
    {
     "name": "stdout",
     "output_type": "stream",
     "text": [
      "{\"valid\": {\"eval_examples_count\": 575, \"metrics\": {\"per_item_dialog_accuracy\": 0.3383}, \"time_spent\": \"0:05:29\", \"epochs_done\": 2, \"batches_seen\": 540, \"train_examples_seen\": 2158, \"impatience\": 8, \"patience_limit\": 10}}\n",
      "{\"train\": {\"epochs_done\": 2, \"batches_seen\": 555, \"examples_seen\": 2218, \"metrics\": {\"per_item_dialog_accuracy\": 0.4201}, \"time_spent\": \"0:05:30\"}}\n"
     ]
    },
    {
     "name": "stderr",
     "output_type": "stream",
     "text": [
      "2018-11-28 16:50:30.874 INFO in 'deeppavlov.core.commands.train'['train'] at line 466: Did not improve on the per_item_dialog_accuracy of 0.3542\n"
     ]
    },
    {
     "name": "stdout",
     "output_type": "stream",
     "text": [
      "{\"valid\": {\"eval_examples_count\": 575, \"metrics\": {\"per_item_dialog_accuracy\": 0.3494}, \"time_spent\": \"0:05:38\", \"epochs_done\": 2, \"batches_seen\": 555, \"train_examples_seen\": 2218, \"impatience\": 9, \"patience_limit\": 10}}\n",
      "{\"train\": {\"epochs_done\": 2, \"batches_seen\": 570, \"examples_seen\": 2278, \"metrics\": {\"per_item_dialog_accuracy\": 0.4462}, \"time_spent\": \"0:05:39\"}}\n"
     ]
    },
    {
     "name": "stderr",
     "output_type": "stream",
     "text": [
      "2018-11-28 16:50:40.183 INFO in 'deeppavlov.core.commands.train'['train'] at line 466: Did not improve on the per_item_dialog_accuracy of 0.3542\n",
      "2018-11-28 16:50:40.184 INFO in 'deeppavlov.core.commands.train'['train'] at line 477: Ran out of patience\n",
      "2018-11-28 16:50:40.185 INFO in 'deeppavlov.core.data.simple_vocab'['simple_vocab'] at line 100: [loading vocabulary from /home/vimary/ipavlov/Pilot/examples/tutorials/models/my_gobot/token.dict]\n"
     ]
    },
    {
     "name": "stdout",
     "output_type": "stream",
     "text": [
      "{\"valid\": {\"eval_examples_count\": 575, \"metrics\": {\"per_item_dialog_accuracy\": 0.3471}, \"time_spent\": \"0:05:47\", \"epochs_done\": 2, \"batches_seen\": 570, \"train_examples_seen\": 2278, \"impatience\": 10, \"patience_limit\": 10}}\n"
     ]
    },
    {
     "name": "stderr",
     "output_type": "stream",
     "text": [
      "2018-11-28 16:50:40.428 INFO in 'deeppavlov.models.go_bot.bot'['bot'] at line 108: [loading templates from /home/vimary/.deeppavlov/downloads/dstc2/dstc2-templates.txt]\n",
      "2018-11-28 16:50:40.429 INFO in 'deeppavlov.models.go_bot.bot'['bot'] at line 111: 46 templates loaded\n",
      "2018-11-28 16:50:40.429 INFO in 'deeppavlov.models.go_bot.bot'['bot'] at line 139: Calculated input size for `GoalOrientedBotNetwork` is 496\n",
      "2018-11-28 16:50:40.883 INFO in 'deeppavlov.models.go_bot.network'['network'] at line 120: [initializing `GoalOrientedBotNetwork` from saved]\n",
      "2018-11-28 16:50:40.884 INFO in 'deeppavlov.models.go_bot.network'['network'] at line 360: [loading parameters from /home/vimary/ipavlov/Pilot/examples/tutorials/models/my_gobot/model.json]\n",
      "2018-11-28 16:50:40.885 INFO in 'deeppavlov.core.models.tf_model'['tf_model'] at line 43: [loading model from /home/vimary/ipavlov/Pilot/examples/tutorials/models/my_gobot/model]\n",
      "2018-11-28 16:50:40.894 INFO in 'tensorflow'['tf_logging'] at line 115: Restoring parameters from /home/vimary/ipavlov/Pilot/examples/tutorials/models/my_gobot/model\n",
      "2018-11-28 16:50:40.908 INFO in 'deeppavlov.core.commands.train'['train'] at line 217: Testing the best saved model\n"
     ]
    },
    {
     "name": "stdout",
     "output_type": "stream",
     "text": [
      "{\"valid\": {\"eval_examples_count\": 575, \"metrics\": {\"per_item_dialog_accuracy\": 0.3542}, \"time_spent\": \"0:00:09\"}}\n"
     ]
    },
    {
     "name": "stderr",
     "output_type": "stream",
     "text": [
      "2018-11-28 16:50:57.30 INFO in 'deeppavlov.core.data.simple_vocab'['simple_vocab'] at line 100: [loading vocabulary from /home/vimary/ipavlov/Pilot/examples/tutorials/models/my_gobot/token.dict]\n"
     ]
    },
    {
     "name": "stdout",
     "output_type": "stream",
     "text": [
      "{\"test\": {\"eval_examples_count\": 576, \"metrics\": {\"per_item_dialog_accuracy\": 0.3595}, \"time_spent\": \"0:00:09\"}}\n"
     ]
    },
    {
     "name": "stderr",
     "output_type": "stream",
     "text": [
      "2018-11-28 16:50:57.273 INFO in 'deeppavlov.models.go_bot.bot'['bot'] at line 108: [loading templates from /home/vimary/.deeppavlov/downloads/dstc2/dstc2-templates.txt]\n",
      "2018-11-28 16:50:57.273 INFO in 'deeppavlov.models.go_bot.bot'['bot'] at line 111: 46 templates loaded\n",
      "2018-11-28 16:50:57.274 INFO in 'deeppavlov.models.go_bot.bot'['bot'] at line 139: Calculated input size for `GoalOrientedBotNetwork` is 496\n",
      "2018-11-28 16:50:57.878 INFO in 'deeppavlov.models.go_bot.network'['network'] at line 120: [initializing `GoalOrientedBotNetwork` from saved]\n",
      "2018-11-28 16:50:57.879 INFO in 'deeppavlov.models.go_bot.network'['network'] at line 360: [loading parameters from /home/vimary/ipavlov/Pilot/examples/tutorials/models/my_gobot/model.json]\n",
      "2018-11-28 16:50:57.880 INFO in 'deeppavlov.core.models.tf_model'['tf_model'] at line 43: [loading model from /home/vimary/ipavlov/Pilot/examples/tutorials/models/my_gobot/model]\n",
      "2018-11-28 16:50:57.891 INFO in 'tensorflow'['tf_logging'] at line 115: Restoring parameters from /home/vimary/ipavlov/Pilot/examples/tutorials/models/my_gobot/model\n"
     ]
    }
   ],
   "source": [
    "bot = train_model(basic_config, download=True)"
   ]
  },
  {
   "cell_type": "code",
   "execution_count": null,
   "metadata": {},
   "outputs": [],
   "source": [
    "# or load trained bot from disk\n",
    "bot = build_model(basic_config)"
   ]
  },
  {
   "cell_type": "code",
   "execution_count": 20,
   "metadata": {},
   "outputs": [
    {
     "data": {
      "text/plain": [
       "['Hello, welcome to the Cambridge restaurant system. You can ask for restaurants by area, price range or food type. How may I help you?']"
      ]
     },
     "execution_count": 20,
     "metadata": {},
     "output_type": "execute_result"
    }
   ],
   "source": [
    "bot(['hi, i want some cheap food'])"
   ]
  },
  {
   "cell_type": "code",
   "execution_count": 21,
   "metadata": {},
   "outputs": [
    {
     "data": {
      "text/plain": [
       "['Hello, welcome to the Cambridge restaurant system. You can ask for restaurants by area, price range or food type. How may I help you?']"
      ]
     },
     "execution_count": 21,
     "metadata": {},
     "output_type": "execute_result"
    }
   ],
   "source": [
    "bot(['bye'])"
   ]
  },
  {
   "cell_type": "code",
   "execution_count": 35,
   "metadata": {},
   "outputs": [],
   "source": [
    "# free memory\n",
    "del bot"
   ]
  },
  {
   "cell_type": "markdown",
   "metadata": {},
   "source": [
    "## Добавляем эмбеддинги"
   ]
  },
  {
   "cell_type": "code",
   "execution_count": 22,
   "metadata": {},
   "outputs": [
    {
     "data": {
      "text/plain": [
       "{'class_name': 'deeppavlov.models.go_bot.wrapper:DialogComponentWrapper',\n",
       " 'component': {'class_name': 'split_tokenizer'},\n",
       " 'in': ['x'],\n",
       " 'out': ['x_tokens']}"
      ]
     },
     "execution_count": 22,
     "metadata": {},
     "output_type": "execute_result"
    }
   ],
   "source": [
    "tokenizer"
   ]
  },
  {
   "cell_type": "code",
   "execution_count": 23,
   "metadata": {},
   "outputs": [],
   "source": [
    "token_vocabulary_emb = copy(token_vocabulary)\n",
    "\n",
    "token_vocabulary_emb['save_path'] = '{MODELS_PATH}/my_gobot_emb/token.dict'\n",
    "token_vocabulary_emb['load_path'] = '{MODELS_PATH}/my_gobot_emb/token.dict'"
   ]
  },
  {
   "cell_type": "code",
   "execution_count": 24,
   "metadata": {},
   "outputs": [
    {
     "name": "stdout",
     "output_type": "stream",
     "text": [
      "None\n"
     ]
    }
   ],
   "source": [
    "print(network['embedder'])"
   ]
  },
  {
   "cell_type": "markdown",
   "metadata": {},
   "source": [
    "##### Англиские эмбеддинги"
   ]
  },
  {
   "cell_type": "code",
   "execution_count": 25,
   "metadata": {},
   "outputs": [],
   "source": [
    "network_emb = copy(network)\n",
    "network_emb['embedder'] = {\n",
    "    \"class_name\": \"fasttext\",\n",
    "    \"load_path\": \"{DOWNLOADS_PATH}/embeddings/wiki.en.bin\"\n",
    "}\n",
    "network_emb['load_path'] = \"{MODELS_PATH}/my_gobot_emb/model\"\n",
    "network_emb['save_path'] = \"{MODELS_PATH}/my_gobot_emb/model\""
   ]
  },
  {
   "cell_type": "code",
   "execution_count": 28,
   "metadata": {},
   "outputs": [
    {
     "name": "stdout",
     "output_type": "stream",
     "text": [
      "[{'url': 'http://files.deeppavlov.ai/datasets/dstc2_v2.tar.gz', 'subdir': '{DOWNLOADS_PATH}/dstc2'}]\n"
     ]
    }
   ],
   "source": [
    "print(basic_config['metadata']['download'])"
   ]
  },
  {
   "cell_type": "code",
   "execution_count": 29,
   "metadata": {},
   "outputs": [],
   "source": [
    "config_emb = copy(basic_config)\n",
    "\n",
    "config_emb['metadata']['download'].append({\n",
    "    \"url\": \"http://files.deeppavlov.ai/deeppavlov_data/embeddings/wiki.en.bin\",\n",
    "    \"subdir\": \"{DOWNLOADS_PATH}/embeddings\"\n",
    "})"
   ]
  },
  {
   "cell_type": "markdown",
   "metadata": {},
   "source": [
    "##### Русские эмбеддинги"
   ]
  },
  {
   "cell_type": "code",
   "execution_count": null,
   "metadata": {},
   "outputs": [],
   "source": [
    "network_emb = copy(network)\n",
    "network_emb['embedder'] = {\n",
    "    \"class_name\": \"fasttext\",\n",
    "    \"load_path\": \"{DOWNLOADS_PATH}/embeddings/wiki.ru.bin\"\n",
    "}\n",
    "network_emb['load_path'] = \"{MODELS_PATH}/my_gobot_emb/model\"\n",
    "network_emb['save_path'] = \"{MODELS_PATH}/my_gobot_emb/model\""
   ]
  },
  {
   "cell_type": "code",
   "execution_count": null,
   "metadata": {},
   "outputs": [],
   "source": [
    "config_emb = copy(basic_config)\n",
    "\n",
    "config_emb['metadata']['download'].append({\n",
    "    \"url\": \"http://files.deeppavlov.ai/deeppavlov_data/embeddings/wiki.ru.bin\",\n",
    "    \"subdir\": \"{DOWNLOADS_PATH}/embeddings\"\n",
    "})"
   ]
  },
  {
   "cell_type": "code",
   "execution_count": null,
   "metadata": {},
   "outputs": [],
   "source": [
    "###"
   ]
  },
  {
   "cell_type": "code",
   "execution_count": 30,
   "metadata": {},
   "outputs": [],
   "source": [
    "config_emb['chainer']['pipe'] = [\n",
    "    tokenizer,\n",
    "    token_vocabulary_emb,\n",
    "    network_emb\n",
    "]"
   ]
  },
  {
   "cell_type": "code",
   "execution_count": 31,
   "metadata": {},
   "outputs": [
    {
     "name": "stderr",
     "output_type": "stream",
     "text": [
      "2018-11-28 16:52:45.690 DEBUG in 'urllib3.connectionpool'['connectionpool'] at line 205: Starting new HTTP connection (1): files.deeppavlov.ai:80\n",
      "2018-11-28 16:52:45.726 DEBUG in 'urllib3.connectionpool'['connectionpool'] at line 393: http://files.deeppavlov.ai:80 \"GET /datasets/dstc2_v2.tar.gz.md5 HTTP/1.1\" 200 260\n",
      "2018-11-28 16:52:45.737 INFO in 'deeppavlov.download'['download'] at line 115: Skipped http://files.deeppavlov.ai/datasets/dstc2_v2.tar.gz download because of matching hashes\n",
      "2018-11-28 16:52:45.738 DEBUG in 'urllib3.connectionpool'['connectionpool'] at line 205: Starting new HTTP connection (1): files.deeppavlov.ai:80\n",
      "2018-11-28 16:52:45.774 DEBUG in 'urllib3.connectionpool'['connectionpool'] at line 393: http://files.deeppavlov.ai:80 \"GET /deeppavlov_data/embeddings/wiki.en.bin.md5 HTTP/1.1\" 200 46\n",
      "2018-11-28 16:53:01.910 INFO in 'deeppavlov.download'['download'] at line 115: Skipped http://files.deeppavlov.ai/deeppavlov_data/embeddings/wiki.en.bin download because of matching hashes\n",
      "2018-11-28 16:53:01.911 INFO in 'deeppavlov.dataset_readers.dstc2_reader'['dstc2_reader'] at line 113: [loading dialogs from /home/vimary/.deeppavlov/downloads/dstc2/dstc2-trn.jsonlist]\n",
      "2018-11-28 16:53:02.23 INFO in 'deeppavlov.dataset_readers.dstc2_reader'['dstc2_reader'] at line 113: [loading dialogs from /home/vimary/.deeppavlov/downloads/dstc2/dstc2-val.jsonlist]\n",
      "2018-11-28 16:53:02.265 INFO in 'deeppavlov.dataset_readers.dstc2_reader'['dstc2_reader'] at line 113: [loading dialogs from /home/vimary/.deeppavlov/downloads/dstc2/dstc2-tst.jsonlist]\n",
      "2018-11-28 16:53:02.386 INFO in 'deeppavlov.core.data.simple_vocab'['simple_vocab'] at line 89: [saving vocabulary to /home/vimary/ipavlov/Pilot/examples/tutorials/models/my_gobot_emb/token.dict]\n",
      "2018-11-28 16:53:02.393 INFO in 'deeppavlov.models.embedders.fasttext_embedder'['fasttext_embedder'] at line 52: [loading fastText embeddings from `/home/vimary/.deeppavlov/downloads/embeddings/wiki.en.bin`]\n",
      "2018-11-28 16:53:08.749 INFO in 'deeppavlov.models.go_bot.bot'['bot'] at line 108: [loading templates from /home/vimary/.deeppavlov/downloads/dstc2/dstc2-templates.txt]\n",
      "2018-11-28 16:53:08.750 INFO in 'deeppavlov.models.go_bot.bot'['bot'] at line 111: 46 templates loaded\n",
      "2018-11-28 16:53:08.750 INFO in 'deeppavlov.models.go_bot.bot'['bot'] at line 139: Calculated input size for `GoalOrientedBotNetwork` is 796\n",
      "2018-11-28 16:53:09.415 INFO in 'deeppavlov.models.go_bot.network'['network'] at line 123: [initializing `GoalOrientedBotNetwork` from scratch]\n",
      "2018-11-28 16:53:17.774 INFO in 'deeppavlov.core.commands.train'['train'] at line 363: New best per_item_dialog_accuracy of 0.0029\n",
      "2018-11-28 16:53:17.775 INFO in 'deeppavlov.core.commands.train'['train'] at line 365: Saving model\n",
      "2018-11-28 16:53:17.775 INFO in 'deeppavlov.core.models.tf_model'['tf_model'] at line 52: [saving model to /home/vimary/ipavlov/Pilot/examples/tutorials/models/my_gobot_emb/model]\n",
      "2018-11-28 16:53:17.841 INFO in 'deeppavlov.models.go_bot.network'['network'] at line 354: [saving parameters to /home/vimary/ipavlov/Pilot/examples/tutorials/models/my_gobot_emb/model.json]\n"
     ]
    },
    {
     "name": "stdout",
     "output_type": "stream",
     "text": [
      "{\"valid\": {\"eval_examples_count\": 575, \"metrics\": {\"per_item_dialog_accuracy\": 0.0029}, \"time_spent\": \"0:00:09\", \"epochs_done\": 0, \"batches_seen\": 0, \"train_examples_seen\": 0, \"impatience\": 0, \"patience_limit\": 10}}\n",
      "{\"train\": {\"epochs_done\": 0, \"batches_seen\": 15, \"examples_seen\": 60, \"metrics\": {\"per_item_dialog_accuracy\": 0.0857}, \"time_spent\": \"0:00:10\"}}\n"
     ]
    },
    {
     "name": "stderr",
     "output_type": "stream",
     "text": [
      "2018-11-28 16:53:27.247 INFO in 'deeppavlov.core.commands.train'['train'] at line 459: New best per_item_dialog_accuracy of 0.094\n",
      "2018-11-28 16:53:27.247 INFO in 'deeppavlov.core.commands.train'['train'] at line 461: Saving model\n",
      "2018-11-28 16:53:27.248 INFO in 'deeppavlov.core.models.tf_model'['tf_model'] at line 52: [saving model to /home/vimary/ipavlov/Pilot/examples/tutorials/models/my_gobot_emb/model]\n",
      "2018-11-28 16:53:27.306 INFO in 'deeppavlov.models.go_bot.network'['network'] at line 354: [saving parameters to /home/vimary/ipavlov/Pilot/examples/tutorials/models/my_gobot_emb/model.json]\n"
     ]
    },
    {
     "name": "stdout",
     "output_type": "stream",
     "text": [
      "{\"valid\": {\"eval_examples_count\": 575, \"metrics\": {\"per_item_dialog_accuracy\": 0.094}, \"time_spent\": \"0:00:18\", \"epochs_done\": 0, \"batches_seen\": 15, \"train_examples_seen\": 60, \"impatience\": 0, \"patience_limit\": 10}}\n",
      "{\"train\": {\"epochs_done\": 0, \"batches_seen\": 30, \"examples_seen\": 120, \"metrics\": {\"per_item_dialog_accuracy\": 0.147}, \"time_spent\": \"0:00:19\"}}\n"
     ]
    },
    {
     "name": "stderr",
     "output_type": "stream",
     "text": [
      "2018-11-28 16:53:36.610 INFO in 'deeppavlov.core.commands.train'['train'] at line 459: New best per_item_dialog_accuracy of 0.248\n",
      "2018-11-28 16:53:36.610 INFO in 'deeppavlov.core.commands.train'['train'] at line 461: Saving model\n",
      "2018-11-28 16:53:36.611 INFO in 'deeppavlov.core.models.tf_model'['tf_model'] at line 52: [saving model to /home/vimary/ipavlov/Pilot/examples/tutorials/models/my_gobot_emb/model]\n",
      "2018-11-28 16:53:36.672 INFO in 'deeppavlov.models.go_bot.network'['network'] at line 354: [saving parameters to /home/vimary/ipavlov/Pilot/examples/tutorials/models/my_gobot_emb/model.json]\n"
     ]
    },
    {
     "name": "stdout",
     "output_type": "stream",
     "text": [
      "{\"valid\": {\"eval_examples_count\": 575, \"metrics\": {\"per_item_dialog_accuracy\": 0.248}, \"time_spent\": \"0:00:28\", \"epochs_done\": 0, \"batches_seen\": 30, \"train_examples_seen\": 120, \"impatience\": 0, \"patience_limit\": 10}}\n",
      "{\"train\": {\"epochs_done\": 0, \"batches_seen\": 45, \"examples_seen\": 180, \"metrics\": {\"per_item_dialog_accuracy\": 0.2691}, \"time_spent\": \"0:00:29\"}}\n"
     ]
    },
    {
     "name": "stderr",
     "output_type": "stream",
     "text": [
      "2018-11-28 16:53:46.26 INFO in 'deeppavlov.core.commands.train'['train'] at line 459: New best per_item_dialog_accuracy of 0.2643\n",
      "2018-11-28 16:53:46.26 INFO in 'deeppavlov.core.commands.train'['train'] at line 461: Saving model\n",
      "2018-11-28 16:53:46.26 INFO in 'deeppavlov.core.models.tf_model'['tf_model'] at line 52: [saving model to /home/vimary/ipavlov/Pilot/examples/tutorials/models/my_gobot_emb/model]\n",
      "2018-11-28 16:53:46.85 INFO in 'deeppavlov.models.go_bot.network'['network'] at line 354: [saving parameters to /home/vimary/ipavlov/Pilot/examples/tutorials/models/my_gobot_emb/model.json]\n"
     ]
    },
    {
     "name": "stdout",
     "output_type": "stream",
     "text": [
      "{\"valid\": {\"eval_examples_count\": 575, \"metrics\": {\"per_item_dialog_accuracy\": 0.2643}, \"time_spent\": \"0:00:37\", \"epochs_done\": 0, \"batches_seen\": 45, \"train_examples_seen\": 180, \"impatience\": 0, \"patience_limit\": 10}}\n",
      "{\"train\": {\"epochs_done\": 0, \"batches_seen\": 60, \"examples_seen\": 240, \"metrics\": {\"per_item_dialog_accuracy\": 0.3214}, \"time_spent\": \"0:00:38\"}}\n"
     ]
    },
    {
     "name": "stderr",
     "output_type": "stream",
     "text": [
      "2018-11-28 16:53:55.366 INFO in 'deeppavlov.core.commands.train'['train'] at line 459: New best per_item_dialog_accuracy of 0.2751\n",
      "2018-11-28 16:53:55.366 INFO in 'deeppavlov.core.commands.train'['train'] at line 461: Saving model\n",
      "2018-11-28 16:53:55.367 INFO in 'deeppavlov.core.models.tf_model'['tf_model'] at line 52: [saving model to /home/vimary/ipavlov/Pilot/examples/tutorials/models/my_gobot_emb/model]\n",
      "2018-11-28 16:53:55.426 INFO in 'deeppavlov.models.go_bot.network'['network'] at line 354: [saving parameters to /home/vimary/ipavlov/Pilot/examples/tutorials/models/my_gobot_emb/model.json]\n"
     ]
    },
    {
     "name": "stdout",
     "output_type": "stream",
     "text": [
      "{\"valid\": {\"eval_examples_count\": 575, \"metrics\": {\"per_item_dialog_accuracy\": 0.2751}, \"time_spent\": \"0:00:46\", \"epochs_done\": 0, \"batches_seen\": 60, \"train_examples_seen\": 240, \"impatience\": 0, \"patience_limit\": 10}}\n",
      "{\"train\": {\"epochs_done\": 0, \"batches_seen\": 75, \"examples_seen\": 300, \"metrics\": {\"per_item_dialog_accuracy\": 0.3541}, \"time_spent\": \"0:00:47\"}}\n"
     ]
    },
    {
     "name": "stderr",
     "output_type": "stream",
     "text": [
      "2018-11-28 16:54:04.720 INFO in 'deeppavlov.core.commands.train'['train'] at line 459: New best per_item_dialog_accuracy of 0.2892\n",
      "2018-11-28 16:54:04.721 INFO in 'deeppavlov.core.commands.train'['train'] at line 461: Saving model\n",
      "2018-11-28 16:54:04.721 INFO in 'deeppavlov.core.models.tf_model'['tf_model'] at line 52: [saving model to /home/vimary/ipavlov/Pilot/examples/tutorials/models/my_gobot_emb/model]\n",
      "2018-11-28 16:54:04.785 INFO in 'deeppavlov.models.go_bot.network'['network'] at line 354: [saving parameters to /home/vimary/ipavlov/Pilot/examples/tutorials/models/my_gobot_emb/model.json]\n"
     ]
    },
    {
     "name": "stdout",
     "output_type": "stream",
     "text": [
      "{\"valid\": {\"eval_examples_count\": 575, \"metrics\": {\"per_item_dialog_accuracy\": 0.2892}, \"time_spent\": \"0:00:56\", \"epochs_done\": 0, \"batches_seen\": 75, \"train_examples_seen\": 300, \"impatience\": 0, \"patience_limit\": 10}}\n",
      "{\"train\": {\"epochs_done\": 0, \"batches_seen\": 90, \"examples_seen\": 360, \"metrics\": {\"per_item_dialog_accuracy\": 0.358}, \"time_spent\": \"0:00:57\"}}\n"
     ]
    },
    {
     "name": "stderr",
     "output_type": "stream",
     "text": [
      "2018-11-28 16:54:13.917 INFO in 'deeppavlov.core.commands.train'['train'] at line 459: New best per_item_dialog_accuracy of 0.2906\n",
      "2018-11-28 16:54:13.918 INFO in 'deeppavlov.core.commands.train'['train'] at line 461: Saving model\n",
      "2018-11-28 16:54:13.918 INFO in 'deeppavlov.core.models.tf_model'['tf_model'] at line 52: [saving model to /home/vimary/ipavlov/Pilot/examples/tutorials/models/my_gobot_emb/model]\n",
      "2018-11-28 16:54:13.979 INFO in 'deeppavlov.models.go_bot.network'['network'] at line 354: [saving parameters to /home/vimary/ipavlov/Pilot/examples/tutorials/models/my_gobot_emb/model.json]\n"
     ]
    },
    {
     "name": "stdout",
     "output_type": "stream",
     "text": [
      "{\"valid\": {\"eval_examples_count\": 575, \"metrics\": {\"per_item_dialog_accuracy\": 0.2906}, \"time_spent\": \"0:01:05\", \"epochs_done\": 0, \"batches_seen\": 90, \"train_examples_seen\": 360, \"impatience\": 0, \"patience_limit\": 10}}\n",
      "{\"train\": {\"epochs_done\": 0, \"batches_seen\": 105, \"examples_seen\": 420, \"metrics\": {\"per_item_dialog_accuracy\": 0.3792}, \"time_spent\": \"0:01:06\"}}\n"
     ]
    },
    {
     "name": "stderr",
     "output_type": "stream",
     "text": [
      "2018-11-28 16:54:23.107 INFO in 'deeppavlov.core.commands.train'['train'] at line 466: Did not improve on the per_item_dialog_accuracy of 0.2906\n"
     ]
    },
    {
     "name": "stdout",
     "output_type": "stream",
     "text": [
      "{\"valid\": {\"eval_examples_count\": 575, \"metrics\": {\"per_item_dialog_accuracy\": 0.29}, \"time_spent\": \"0:01:14\", \"epochs_done\": 0, \"batches_seen\": 105, \"train_examples_seen\": 420, \"impatience\": 1, \"patience_limit\": 10}}\n",
      "{\"train\": {\"epochs_done\": 0, \"batches_seen\": 120, \"examples_seen\": 480, \"metrics\": {\"per_item_dialog_accuracy\": 0.4058}, \"time_spent\": \"0:01:15\"}}\n"
     ]
    },
    {
     "name": "stderr",
     "output_type": "stream",
     "text": [
      "2018-11-28 16:54:32.827 INFO in 'deeppavlov.core.commands.train'['train'] at line 466: Did not improve on the per_item_dialog_accuracy of 0.2906\n"
     ]
    },
    {
     "name": "stdout",
     "output_type": "stream",
     "text": [
      "{\"valid\": {\"eval_examples_count\": 575, \"metrics\": {\"per_item_dialog_accuracy\": 0.2839}, \"time_spent\": \"0:01:24\", \"epochs_done\": 0, \"batches_seen\": 120, \"train_examples_seen\": 480, \"impatience\": 2, \"patience_limit\": 10}}\n",
      "{\"train\": {\"epochs_done\": 0, \"batches_seen\": 135, \"examples_seen\": 540, \"metrics\": {\"per_item_dialog_accuracy\": 0.3581}, \"time_spent\": \"0:01:25\"}}\n"
     ]
    },
    {
     "name": "stderr",
     "output_type": "stream",
     "text": [
      "2018-11-28 16:54:43.545 INFO in 'deeppavlov.core.commands.train'['train'] at line 459: New best per_item_dialog_accuracy of 0.3085\n",
      "2018-11-28 16:54:43.545 INFO in 'deeppavlov.core.commands.train'['train'] at line 461: Saving model\n",
      "2018-11-28 16:54:43.546 INFO in 'deeppavlov.core.models.tf_model'['tf_model'] at line 52: [saving model to /home/vimary/ipavlov/Pilot/examples/tutorials/models/my_gobot_emb/model]\n",
      "2018-11-28 16:54:43.608 INFO in 'deeppavlov.models.go_bot.network'['network'] at line 354: [saving parameters to /home/vimary/ipavlov/Pilot/examples/tutorials/models/my_gobot_emb/model.json]\n"
     ]
    },
    {
     "name": "stdout",
     "output_type": "stream",
     "text": [
      "{\"valid\": {\"eval_examples_count\": 575, \"metrics\": {\"per_item_dialog_accuracy\": 0.3085}, \"time_spent\": \"0:01:35\", \"epochs_done\": 0, \"batches_seen\": 135, \"train_examples_seen\": 540, \"impatience\": 0, \"patience_limit\": 10}}\n",
      "{\"train\": {\"epochs_done\": 0, \"batches_seen\": 150, \"examples_seen\": 600, \"metrics\": {\"per_item_dialog_accuracy\": 0.4067}, \"time_spent\": \"0:01:36\"}}\n"
     ]
    },
    {
     "name": "stderr",
     "output_type": "stream",
     "text": [
      "2018-11-28 16:54:53.733 INFO in 'deeppavlov.core.commands.train'['train'] at line 459: New best per_item_dialog_accuracy of 0.3329\n",
      "2018-11-28 16:54:53.734 INFO in 'deeppavlov.core.commands.train'['train'] at line 461: Saving model\n",
      "2018-11-28 16:54:53.734 INFO in 'deeppavlov.core.models.tf_model'['tf_model'] at line 52: [saving model to /home/vimary/ipavlov/Pilot/examples/tutorials/models/my_gobot_emb/model]\n",
      "2018-11-28 16:54:53.796 INFO in 'deeppavlov.models.go_bot.network'['network'] at line 354: [saving parameters to /home/vimary/ipavlov/Pilot/examples/tutorials/models/my_gobot_emb/model.json]\n"
     ]
    },
    {
     "name": "stdout",
     "output_type": "stream",
     "text": [
      "{\"valid\": {\"eval_examples_count\": 575, \"metrics\": {\"per_item_dialog_accuracy\": 0.3329}, \"time_spent\": \"0:01:45\", \"epochs_done\": 0, \"batches_seen\": 150, \"train_examples_seen\": 600, \"impatience\": 0, \"patience_limit\": 10}}\n",
      "{\"train\": {\"epochs_done\": 0, \"batches_seen\": 165, \"examples_seen\": 660, \"metrics\": {\"per_item_dialog_accuracy\": 0.4202}, \"time_spent\": \"0:01:46\"}}\n"
     ]
    },
    {
     "name": "stderr",
     "output_type": "stream",
     "text": [
      "2018-11-28 16:55:03.39 INFO in 'deeppavlov.core.commands.train'['train'] at line 459: New best per_item_dialog_accuracy of 0.3381\n",
      "2018-11-28 16:55:03.40 INFO in 'deeppavlov.core.commands.train'['train'] at line 461: Saving model\n",
      "2018-11-28 16:55:03.40 INFO in 'deeppavlov.core.models.tf_model'['tf_model'] at line 52: [saving model to /home/vimary/ipavlov/Pilot/examples/tutorials/models/my_gobot_emb/model]\n",
      "2018-11-28 16:55:03.98 INFO in 'deeppavlov.models.go_bot.network'['network'] at line 354: [saving parameters to /home/vimary/ipavlov/Pilot/examples/tutorials/models/my_gobot_emb/model.json]\n"
     ]
    },
    {
     "name": "stdout",
     "output_type": "stream",
     "text": [
      "{\"valid\": {\"eval_examples_count\": 575, \"metrics\": {\"per_item_dialog_accuracy\": 0.3381}, \"time_spent\": \"0:01:54\", \"epochs_done\": 0, \"batches_seen\": 165, \"train_examples_seen\": 660, \"impatience\": 0, \"patience_limit\": 10}}\n",
      "{\"train\": {\"epochs_done\": 0, \"batches_seen\": 180, \"examples_seen\": 720, \"metrics\": {\"per_item_dialog_accuracy\": 0.4159}, \"time_spent\": \"0:01:55\"}}\n"
     ]
    },
    {
     "name": "stderr",
     "output_type": "stream",
     "text": [
      "2018-11-28 16:55:12.442 INFO in 'deeppavlov.core.commands.train'['train'] at line 466: Did not improve on the per_item_dialog_accuracy of 0.3381\n"
     ]
    },
    {
     "name": "stdout",
     "output_type": "stream",
     "text": [
      "{\"valid\": {\"eval_examples_count\": 575, \"metrics\": {\"per_item_dialog_accuracy\": 0.3375}, \"time_spent\": \"0:02:04\", \"epochs_done\": 0, \"batches_seen\": 180, \"train_examples_seen\": 720, \"impatience\": 1, \"patience_limit\": 10}}\n",
      "{\"train\": {\"epochs_done\": 0, \"batches_seen\": 195, \"examples_seen\": 780, \"metrics\": {\"per_item_dialog_accuracy\": 0.4017}, \"time_spent\": \"0:02:05\"}}\n"
     ]
    },
    {
     "name": "stderr",
     "output_type": "stream",
     "text": [
      "2018-11-28 16:55:22.121 INFO in 'deeppavlov.core.commands.train'['train'] at line 459: New best per_item_dialog_accuracy of 0.3407\n",
      "2018-11-28 16:55:22.121 INFO in 'deeppavlov.core.commands.train'['train'] at line 461: Saving model\n",
      "2018-11-28 16:55:22.122 INFO in 'deeppavlov.core.models.tf_model'['tf_model'] at line 52: [saving model to /home/vimary/ipavlov/Pilot/examples/tutorials/models/my_gobot_emb/model]\n",
      "2018-11-28 16:55:22.183 INFO in 'deeppavlov.models.go_bot.network'['network'] at line 354: [saving parameters to /home/vimary/ipavlov/Pilot/examples/tutorials/models/my_gobot_emb/model.json]\n"
     ]
    },
    {
     "name": "stdout",
     "output_type": "stream",
     "text": [
      "{\"valid\": {\"eval_examples_count\": 575, \"metrics\": {\"per_item_dialog_accuracy\": 0.3407}, \"time_spent\": \"0:02:13\", \"epochs_done\": 0, \"batches_seen\": 195, \"train_examples_seen\": 780, \"impatience\": 0, \"patience_limit\": 10}}\n",
      "{\"train\": {\"epochs_done\": 0, \"batches_seen\": 210, \"examples_seen\": 840, \"metrics\": {\"per_item_dialog_accuracy\": 0.4185}, \"time_spent\": \"0:02:14\"}}\n"
     ]
    },
    {
     "name": "stderr",
     "output_type": "stream",
     "text": [
      "2018-11-28 16:55:33.230 INFO in 'deeppavlov.core.commands.train'['train'] at line 459: New best per_item_dialog_accuracy of 0.3475\n",
      "2018-11-28 16:55:33.230 INFO in 'deeppavlov.core.commands.train'['train'] at line 461: Saving model\n",
      "2018-11-28 16:55:33.231 INFO in 'deeppavlov.core.models.tf_model'['tf_model'] at line 52: [saving model to /home/vimary/ipavlov/Pilot/examples/tutorials/models/my_gobot_emb/model]\n",
      "2018-11-28 16:55:33.293 INFO in 'deeppavlov.models.go_bot.network'['network'] at line 354: [saving parameters to /home/vimary/ipavlov/Pilot/examples/tutorials/models/my_gobot_emb/model.json]\n"
     ]
    },
    {
     "name": "stdout",
     "output_type": "stream",
     "text": [
      "{\"valid\": {\"eval_examples_count\": 575, \"metrics\": {\"per_item_dialog_accuracy\": 0.3475}, \"time_spent\": \"0:02:24\", \"epochs_done\": 0, \"batches_seen\": 210, \"train_examples_seen\": 840, \"impatience\": 0, \"patience_limit\": 10}}\n",
      "{\"train\": {\"epochs_done\": 0, \"batches_seen\": 225, \"examples_seen\": 900, \"metrics\": {\"per_item_dialog_accuracy\": 0.4336}, \"time_spent\": \"0:02:25\"}}\n"
     ]
    },
    {
     "name": "stderr",
     "output_type": "stream",
     "text": [
      "2018-11-28 16:55:43.13 INFO in 'deeppavlov.core.commands.train'['train'] at line 459: New best per_item_dialog_accuracy of 0.3494\n",
      "2018-11-28 16:55:43.14 INFO in 'deeppavlov.core.commands.train'['train'] at line 461: Saving model\n",
      "2018-11-28 16:55:43.15 INFO in 'deeppavlov.core.models.tf_model'['tf_model'] at line 52: [saving model to /home/vimary/ipavlov/Pilot/examples/tutorials/models/my_gobot_emb/model]\n",
      "2018-11-28 16:55:43.76 INFO in 'deeppavlov.models.go_bot.network'['network'] at line 354: [saving parameters to /home/vimary/ipavlov/Pilot/examples/tutorials/models/my_gobot_emb/model.json]\n"
     ]
    },
    {
     "name": "stdout",
     "output_type": "stream",
     "text": [
      "{\"valid\": {\"eval_examples_count\": 575, \"metrics\": {\"per_item_dialog_accuracy\": 0.3494}, \"time_spent\": \"0:02:34\", \"epochs_done\": 0, \"batches_seen\": 225, \"train_examples_seen\": 900, \"impatience\": 0, \"patience_limit\": 10}}\n",
      "{\"train\": {\"epochs_done\": 0, \"batches_seen\": 240, \"examples_seen\": 960, \"metrics\": {\"per_item_dialog_accuracy\": 0.4399}, \"time_spent\": \"0:02:35\"}}\n"
     ]
    },
    {
     "name": "stderr",
     "output_type": "stream",
     "text": [
      "2018-11-28 16:55:52.338 INFO in 'deeppavlov.core.commands.train'['train'] at line 459: New best per_item_dialog_accuracy of 0.3536\n",
      "2018-11-28 16:55:52.339 INFO in 'deeppavlov.core.commands.train'['train'] at line 461: Saving model\n",
      "2018-11-28 16:55:52.339 INFO in 'deeppavlov.core.models.tf_model'['tf_model'] at line 52: [saving model to /home/vimary/ipavlov/Pilot/examples/tutorials/models/my_gobot_emb/model]\n",
      "2018-11-28 16:55:52.400 INFO in 'deeppavlov.models.go_bot.network'['network'] at line 354: [saving parameters to /home/vimary/ipavlov/Pilot/examples/tutorials/models/my_gobot_emb/model.json]\n",
      "2018-11-28 16:55:52.508 INFO in 'deeppavlov.models.go_bot.network'['network'] at line 372: Updating global step, learning rate = 0.005000.\n"
     ]
    },
    {
     "name": "stdout",
     "output_type": "stream",
     "text": [
      "{\"valid\": {\"eval_examples_count\": 575, \"metrics\": {\"per_item_dialog_accuracy\": 0.3536}, \"time_spent\": \"0:02:43\", \"epochs_done\": 0, \"batches_seen\": 240, \"train_examples_seen\": 960, \"impatience\": 0, \"patience_limit\": 10}}\n",
      "{\"train\": {\"epochs_done\": 1, \"batches_seen\": 255, \"examples_seen\": 1019, \"metrics\": {\"per_item_dialog_accuracy\": 0.3907}, \"time_spent\": \"0:02:45\"}}\n"
     ]
    },
    {
     "name": "stderr",
     "output_type": "stream",
     "text": [
      "2018-11-28 16:56:01.746 INFO in 'deeppavlov.core.commands.train'['train'] at line 466: Did not improve on the per_item_dialog_accuracy of 0.3536\n"
     ]
    },
    {
     "name": "stdout",
     "output_type": "stream",
     "text": [
      "{\"valid\": {\"eval_examples_count\": 575, \"metrics\": {\"per_item_dialog_accuracy\": 0.3478}, \"time_spent\": \"0:02:53\", \"epochs_done\": 1, \"batches_seen\": 255, \"train_examples_seen\": 1019, \"impatience\": 1, \"patience_limit\": 10}}\n",
      "{\"train\": {\"epochs_done\": 1, \"batches_seen\": 270, \"examples_seen\": 1079, \"metrics\": {\"per_item_dialog_accuracy\": 0.4038}, \"time_spent\": \"0:02:54\"}}\n"
     ]
    },
    {
     "name": "stderr",
     "output_type": "stream",
     "text": [
      "2018-11-28 16:56:11.246 INFO in 'deeppavlov.core.commands.train'['train'] at line 466: Did not improve on the per_item_dialog_accuracy of 0.3536\n"
     ]
    },
    {
     "name": "stdout",
     "output_type": "stream",
     "text": [
      "{\"valid\": {\"eval_examples_count\": 575, \"metrics\": {\"per_item_dialog_accuracy\": 0.3471}, \"time_spent\": \"0:03:02\", \"epochs_done\": 1, \"batches_seen\": 270, \"train_examples_seen\": 1079, \"impatience\": 2, \"patience_limit\": 10}}\n",
      "{\"train\": {\"epochs_done\": 1, \"batches_seen\": 285, \"examples_seen\": 1139, \"metrics\": {\"per_item_dialog_accuracy\": 0.442}, \"time_spent\": \"0:03:03\"}}\n"
     ]
    },
    {
     "name": "stderr",
     "output_type": "stream",
     "text": [
      "2018-11-28 16:56:21.439 INFO in 'deeppavlov.core.commands.train'['train'] at line 466: Did not improve on the per_item_dialog_accuracy of 0.3536\n"
     ]
    },
    {
     "name": "stdout",
     "output_type": "stream",
     "text": [
      "{\"valid\": {\"eval_examples_count\": 575, \"metrics\": {\"per_item_dialog_accuracy\": 0.3431}, \"time_spent\": \"0:03:13\", \"epochs_done\": 1, \"batches_seen\": 285, \"train_examples_seen\": 1139, \"impatience\": 3, \"patience_limit\": 10}}\n",
      "{\"train\": {\"epochs_done\": 1, \"batches_seen\": 300, \"examples_seen\": 1199, \"metrics\": {\"per_item_dialog_accuracy\": 0.4288}, \"time_spent\": \"0:03:14\"}}\n"
     ]
    },
    {
     "name": "stderr",
     "output_type": "stream",
     "text": [
      "2018-11-28 16:56:31.873 INFO in 'deeppavlov.core.commands.train'['train'] at line 466: Did not improve on the per_item_dialog_accuracy of 0.3536\n"
     ]
    },
    {
     "name": "stdout",
     "output_type": "stream",
     "text": [
      "{\"valid\": {\"eval_examples_count\": 575, \"metrics\": {\"per_item_dialog_accuracy\": 0.3492}, \"time_spent\": \"0:03:23\", \"epochs_done\": 1, \"batches_seen\": 300, \"train_examples_seen\": 1199, \"impatience\": 4, \"patience_limit\": 10}}\n",
      "{\"train\": {\"epochs_done\": 1, \"batches_seen\": 315, \"examples_seen\": 1259, \"metrics\": {\"per_item_dialog_accuracy\": 0.4061}, \"time_spent\": \"0:03:24\"}}\n"
     ]
    },
    {
     "name": "stderr",
     "output_type": "stream",
     "text": [
      "2018-11-28 16:56:42.840 INFO in 'deeppavlov.core.commands.train'['train'] at line 466: Did not improve on the per_item_dialog_accuracy of 0.3536\n"
     ]
    },
    {
     "name": "stdout",
     "output_type": "stream",
     "text": [
      "{\"valid\": {\"eval_examples_count\": 575, \"metrics\": {\"per_item_dialog_accuracy\": 0.3422}, \"time_spent\": \"0:03:34\", \"epochs_done\": 1, \"batches_seen\": 315, \"train_examples_seen\": 1259, \"impatience\": 5, \"patience_limit\": 10}}\n",
      "{\"train\": {\"epochs_done\": 1, \"batches_seen\": 330, \"examples_seen\": 1319, \"metrics\": {\"per_item_dialog_accuracy\": 0.4309}, \"time_spent\": \"0:03:35\"}}\n"
     ]
    },
    {
     "name": "stderr",
     "output_type": "stream",
     "text": [
      "2018-11-28 16:56:52.654 INFO in 'deeppavlov.core.commands.train'['train'] at line 466: Did not improve on the per_item_dialog_accuracy of 0.3536\n"
     ]
    },
    {
     "name": "stdout",
     "output_type": "stream",
     "text": [
      "{\"valid\": {\"eval_examples_count\": 575, \"metrics\": {\"per_item_dialog_accuracy\": 0.32}, \"time_spent\": \"0:03:44\", \"epochs_done\": 1, \"batches_seen\": 330, \"train_examples_seen\": 1319, \"impatience\": 6, \"patience_limit\": 10}}\n",
      "{\"train\": {\"epochs_done\": 1, \"batches_seen\": 345, \"examples_seen\": 1379, \"metrics\": {\"per_item_dialog_accuracy\": 0.4003}, \"time_spent\": \"0:03:45\"}}\n"
     ]
    },
    {
     "name": "stderr",
     "output_type": "stream",
     "text": [
      "2018-11-28 16:57:02.220 INFO in 'deeppavlov.core.commands.train'['train'] at line 466: Did not improve on the per_item_dialog_accuracy of 0.3536\n"
     ]
    },
    {
     "name": "stdout",
     "output_type": "stream",
     "text": [
      "{\"valid\": {\"eval_examples_count\": 575, \"metrics\": {\"per_item_dialog_accuracy\": 0.3476}, \"time_spent\": \"0:03:53\", \"epochs_done\": 1, \"batches_seen\": 345, \"train_examples_seen\": 1379, \"impatience\": 7, \"patience_limit\": 10}}\n",
      "{\"train\": {\"epochs_done\": 1, \"batches_seen\": 360, \"examples_seen\": 1439, \"metrics\": {\"per_item_dialog_accuracy\": 0.4389}, \"time_spent\": \"0:03:54\"}}\n"
     ]
    },
    {
     "name": "stderr",
     "output_type": "stream",
     "text": [
      "2018-11-28 16:57:11.452 INFO in 'deeppavlov.core.commands.train'['train'] at line 466: Did not improve on the per_item_dialog_accuracy of 0.3536\n"
     ]
    },
    {
     "name": "stdout",
     "output_type": "stream",
     "text": [
      "{\"valid\": {\"eval_examples_count\": 575, \"metrics\": {\"per_item_dialog_accuracy\": 0.3503}, \"time_spent\": \"0:04:03\", \"epochs_done\": 1, \"batches_seen\": 360, \"train_examples_seen\": 1439, \"impatience\": 8, \"patience_limit\": 10}}\n",
      "{\"train\": {\"epochs_done\": 1, \"batches_seen\": 375, \"examples_seen\": 1499, \"metrics\": {\"per_item_dialog_accuracy\": 0.3965}, \"time_spent\": \"0:04:03\"}}\n"
     ]
    },
    {
     "name": "stderr",
     "output_type": "stream",
     "text": [
      "2018-11-28 16:57:20.774 INFO in 'deeppavlov.core.commands.train'['train'] at line 459: New best per_item_dialog_accuracy of 0.3627\n",
      "2018-11-28 16:57:20.775 INFO in 'deeppavlov.core.commands.train'['train'] at line 461: Saving model\n",
      "2018-11-28 16:57:20.775 INFO in 'deeppavlov.core.models.tf_model'['tf_model'] at line 52: [saving model to /home/vimary/ipavlov/Pilot/examples/tutorials/models/my_gobot_emb/model]\n",
      "2018-11-28 16:57:20.837 INFO in 'deeppavlov.models.go_bot.network'['network'] at line 354: [saving parameters to /home/vimary/ipavlov/Pilot/examples/tutorials/models/my_gobot_emb/model.json]\n"
     ]
    },
    {
     "name": "stdout",
     "output_type": "stream",
     "text": [
      "{\"valid\": {\"eval_examples_count\": 575, \"metrics\": {\"per_item_dialog_accuracy\": 0.3627}, \"time_spent\": \"0:04:12\", \"epochs_done\": 1, \"batches_seen\": 375, \"train_examples_seen\": 1499, \"impatience\": 0, \"patience_limit\": 10}}\n",
      "{\"train\": {\"epochs_done\": 1, \"batches_seen\": 390, \"examples_seen\": 1559, \"metrics\": {\"per_item_dialog_accuracy\": 0.4298}, \"time_spent\": \"0:04:13\"}}\n"
     ]
    },
    {
     "name": "stderr",
     "output_type": "stream",
     "text": [
      "2018-11-28 16:57:30.308 INFO in 'deeppavlov.core.commands.train'['train'] at line 466: Did not improve on the per_item_dialog_accuracy of 0.3627\n"
     ]
    },
    {
     "name": "stdout",
     "output_type": "stream",
     "text": [
      "{\"valid\": {\"eval_examples_count\": 575, \"metrics\": {\"per_item_dialog_accuracy\": 0.3598}, \"time_spent\": \"0:04:21\", \"epochs_done\": 1, \"batches_seen\": 390, \"train_examples_seen\": 1559, \"impatience\": 1, \"patience_limit\": 10}}\n",
      "{\"train\": {\"epochs_done\": 1, \"batches_seen\": 405, \"examples_seen\": 1619, \"metrics\": {\"per_item_dialog_accuracy\": 0.4364}, \"time_spent\": \"0:04:22\"}}\n"
     ]
    },
    {
     "name": "stderr",
     "output_type": "stream",
     "text": [
      "2018-11-28 16:57:39.948 INFO in 'deeppavlov.core.commands.train'['train'] at line 466: Did not improve on the per_item_dialog_accuracy of 0.3627\n"
     ]
    },
    {
     "name": "stdout",
     "output_type": "stream",
     "text": [
      "{\"valid\": {\"eval_examples_count\": 575, \"metrics\": {\"per_item_dialog_accuracy\": 0.3293}, \"time_spent\": \"0:04:31\", \"epochs_done\": 1, \"batches_seen\": 405, \"train_examples_seen\": 1619, \"impatience\": 2, \"patience_limit\": 10}}\n",
      "{\"train\": {\"epochs_done\": 1, \"batches_seen\": 420, \"examples_seen\": 1679, \"metrics\": {\"per_item_dialog_accuracy\": 0.4651}, \"time_spent\": \"0:04:32\"}}\n"
     ]
    },
    {
     "name": "stderr",
     "output_type": "stream",
     "text": [
      "2018-11-28 16:57:50.665 INFO in 'deeppavlov.core.commands.train'['train'] at line 466: Did not improve on the per_item_dialog_accuracy of 0.3627\n"
     ]
    },
    {
     "name": "stdout",
     "output_type": "stream",
     "text": [
      "{\"valid\": {\"eval_examples_count\": 575, \"metrics\": {\"per_item_dialog_accuracy\": 0.3407}, \"time_spent\": \"0:04:42\", \"epochs_done\": 1, \"batches_seen\": 420, \"train_examples_seen\": 1679, \"impatience\": 3, \"patience_limit\": 10}}\n",
      "{\"train\": {\"epochs_done\": 1, \"batches_seen\": 435, \"examples_seen\": 1739, \"metrics\": {\"per_item_dialog_accuracy\": 0.4615}, \"time_spent\": \"0:04:43\"}}\n"
     ]
    },
    {
     "name": "stderr",
     "output_type": "stream",
     "text": [
      "2018-11-28 16:57:59.912 INFO in 'deeppavlov.core.commands.train'['train'] at line 466: Did not improve on the per_item_dialog_accuracy of 0.3627\n"
     ]
    },
    {
     "name": "stdout",
     "output_type": "stream",
     "text": [
      "{\"valid\": {\"eval_examples_count\": 575, \"metrics\": {\"per_item_dialog_accuracy\": 0.3365}, \"time_spent\": \"0:04:51\", \"epochs_done\": 1, \"batches_seen\": 435, \"train_examples_seen\": 1739, \"impatience\": 4, \"patience_limit\": 10}}\n",
      "{\"train\": {\"epochs_done\": 1, \"batches_seen\": 450, \"examples_seen\": 1799, \"metrics\": {\"per_item_dialog_accuracy\": 0.4041}, \"time_spent\": \"0:04:52\"}}\n"
     ]
    },
    {
     "name": "stderr",
     "output_type": "stream",
     "text": [
      "2018-11-28 16:58:09.572 INFO in 'deeppavlov.core.commands.train'['train'] at line 466: Did not improve on the per_item_dialog_accuracy of 0.3627\n"
     ]
    },
    {
     "name": "stdout",
     "output_type": "stream",
     "text": [
      "{\"valid\": {\"eval_examples_count\": 575, \"metrics\": {\"per_item_dialog_accuracy\": 0.3279}, \"time_spent\": \"0:05:01\", \"epochs_done\": 1, \"batches_seen\": 450, \"train_examples_seen\": 1799, \"impatience\": 5, \"patience_limit\": 10}}\n",
      "{\"train\": {\"epochs_done\": 1, \"batches_seen\": 465, \"examples_seen\": 1859, \"metrics\": {\"per_item_dialog_accuracy\": 0.419}, \"time_spent\": \"0:05:02\"}}\n"
     ]
    },
    {
     "name": "stderr",
     "output_type": "stream",
     "text": [
      "2018-11-28 16:58:19.955 INFO in 'deeppavlov.core.commands.train'['train'] at line 466: Did not improve on the per_item_dialog_accuracy of 0.3627\n"
     ]
    },
    {
     "name": "stdout",
     "output_type": "stream",
     "text": [
      "{\"valid\": {\"eval_examples_count\": 575, \"metrics\": {\"per_item_dialog_accuracy\": 0.346}, \"time_spent\": \"0:05:11\", \"epochs_done\": 1, \"batches_seen\": 465, \"train_examples_seen\": 1859, \"impatience\": 6, \"patience_limit\": 10}}\n",
      "{\"train\": {\"epochs_done\": 1, \"batches_seen\": 480, \"examples_seen\": 1919, \"metrics\": {\"per_item_dialog_accuracy\": 0.4544}, \"time_spent\": \"0:05:12\"}}\n"
     ]
    },
    {
     "name": "stderr",
     "output_type": "stream",
     "text": [
      "2018-11-28 16:58:30.959 INFO in 'deeppavlov.core.commands.train'['train'] at line 466: Did not improve on the per_item_dialog_accuracy of 0.3627\n"
     ]
    },
    {
     "name": "stdout",
     "output_type": "stream",
     "text": [
      "{\"valid\": {\"eval_examples_count\": 575, \"metrics\": {\"per_item_dialog_accuracy\": 0.3563}, \"time_spent\": \"0:05:22\", \"epochs_done\": 1, \"batches_seen\": 480, \"train_examples_seen\": 1919, \"impatience\": 7, \"patience_limit\": 10}}\n"
     ]
    },
    {
     "name": "stderr",
     "output_type": "stream",
     "text": [
      "2018-11-28 16:58:31.226 INFO in 'deeppavlov.models.go_bot.network'['network'] at line 372: Updating global step, learning rate = 0.005000.\n"
     ]
    },
    {
     "name": "stdout",
     "output_type": "stream",
     "text": [
      "{\"train\": {\"epochs_done\": 2, \"batches_seen\": 495, \"examples_seen\": 1978, \"metrics\": {\"per_item_dialog_accuracy\": 0.4456}, \"time_spent\": \"0:05:23\"}}\n"
     ]
    },
    {
     "name": "stderr",
     "output_type": "stream",
     "text": [
      "2018-11-28 16:58:40.766 INFO in 'deeppavlov.core.commands.train'['train'] at line 466: Did not improve on the per_item_dialog_accuracy of 0.3627\n"
     ]
    },
    {
     "name": "stdout",
     "output_type": "stream",
     "text": [
      "{\"valid\": {\"eval_examples_count\": 575, \"metrics\": {\"per_item_dialog_accuracy\": 0.3428}, \"time_spent\": \"0:05:32\", \"epochs_done\": 2, \"batches_seen\": 495, \"train_examples_seen\": 1978, \"impatience\": 8, \"patience_limit\": 10}}\n",
      "{\"train\": {\"epochs_done\": 2, \"batches_seen\": 510, \"examples_seen\": 2038, \"metrics\": {\"per_item_dialog_accuracy\": 0.4455}, \"time_spent\": \"0:05:33\"}}\n"
     ]
    },
    {
     "name": "stderr",
     "output_type": "stream",
     "text": [
      "2018-11-28 16:58:50.752 INFO in 'deeppavlov.core.commands.train'['train'] at line 466: Did not improve on the per_item_dialog_accuracy of 0.3627\n"
     ]
    },
    {
     "name": "stdout",
     "output_type": "stream",
     "text": [
      "{\"valid\": {\"eval_examples_count\": 575, \"metrics\": {\"per_item_dialog_accuracy\": 0.3422}, \"time_spent\": \"0:05:42\", \"epochs_done\": 2, \"batches_seen\": 510, \"train_examples_seen\": 2038, \"impatience\": 9, \"patience_limit\": 10}}\n",
      "{\"train\": {\"epochs_done\": 2, \"batches_seen\": 525, \"examples_seen\": 2098, \"metrics\": {\"per_item_dialog_accuracy\": 0.4209}, \"time_spent\": \"0:05:43\"}}\n"
     ]
    },
    {
     "name": "stderr",
     "output_type": "stream",
     "text": [
      "2018-11-28 16:59:00.219 INFO in 'deeppavlov.core.commands.train'['train'] at line 459: New best per_item_dialog_accuracy of 0.3735\n",
      "2018-11-28 16:59:00.220 INFO in 'deeppavlov.core.commands.train'['train'] at line 461: Saving model\n",
      "2018-11-28 16:59:00.220 INFO in 'deeppavlov.core.models.tf_model'['tf_model'] at line 52: [saving model to /home/vimary/ipavlov/Pilot/examples/tutorials/models/my_gobot_emb/model]\n",
      "2018-11-28 16:59:00.289 INFO in 'deeppavlov.models.go_bot.network'['network'] at line 354: [saving parameters to /home/vimary/ipavlov/Pilot/examples/tutorials/models/my_gobot_emb/model.json]\n"
     ]
    },
    {
     "name": "stdout",
     "output_type": "stream",
     "text": [
      "{\"valid\": {\"eval_examples_count\": 575, \"metrics\": {\"per_item_dialog_accuracy\": 0.3735}, \"time_spent\": \"0:05:51\", \"epochs_done\": 2, \"batches_seen\": 525, \"train_examples_seen\": 2098, \"impatience\": 0, \"patience_limit\": 10}}\n",
      "{\"train\": {\"epochs_done\": 2, \"batches_seen\": 540, \"examples_seen\": 2158, \"metrics\": {\"per_item_dialog_accuracy\": 0.5077}, \"time_spent\": \"0:05:52\"}}\n"
     ]
    },
    {
     "name": "stderr",
     "output_type": "stream",
     "text": [
      "2018-11-28 16:59:09.827 INFO in 'deeppavlov.core.commands.train'['train'] at line 466: Did not improve on the per_item_dialog_accuracy of 0.3735\n"
     ]
    },
    {
     "name": "stdout",
     "output_type": "stream",
     "text": [
      "{\"valid\": {\"eval_examples_count\": 575, \"metrics\": {\"per_item_dialog_accuracy\": 0.3592}, \"time_spent\": \"0:06:01\", \"epochs_done\": 2, \"batches_seen\": 540, \"train_examples_seen\": 2158, \"impatience\": 1, \"patience_limit\": 10}}\n",
      "{\"train\": {\"epochs_done\": 2, \"batches_seen\": 555, \"examples_seen\": 2218, \"metrics\": {\"per_item_dialog_accuracy\": 0.4381}, \"time_spent\": \"0:06:02\"}}\n"
     ]
    },
    {
     "name": "stderr",
     "output_type": "stream",
     "text": [
      "2018-11-28 16:59:19.18 INFO in 'deeppavlov.core.commands.train'['train'] at line 466: Did not improve on the per_item_dialog_accuracy of 0.3735\n"
     ]
    },
    {
     "name": "stdout",
     "output_type": "stream",
     "text": [
      "{\"valid\": {\"eval_examples_count\": 575, \"metrics\": {\"per_item_dialog_accuracy\": 0.3489}, \"time_spent\": \"0:06:10\", \"epochs_done\": 2, \"batches_seen\": 555, \"train_examples_seen\": 2218, \"impatience\": 2, \"patience_limit\": 10}}\n",
      "{\"train\": {\"epochs_done\": 2, \"batches_seen\": 570, \"examples_seen\": 2278, \"metrics\": {\"per_item_dialog_accuracy\": 0.4723}, \"time_spent\": \"0:06:11\"}}\n"
     ]
    },
    {
     "name": "stderr",
     "output_type": "stream",
     "text": [
      "2018-11-28 16:59:28.313 INFO in 'deeppavlov.core.commands.train'['train'] at line 466: Did not improve on the per_item_dialog_accuracy of 0.3735\n"
     ]
    },
    {
     "name": "stdout",
     "output_type": "stream",
     "text": [
      "{\"valid\": {\"eval_examples_count\": 575, \"metrics\": {\"per_item_dialog_accuracy\": 0.3484}, \"time_spent\": \"0:06:19\", \"epochs_done\": 2, \"batches_seen\": 570, \"train_examples_seen\": 2278, \"impatience\": 3, \"patience_limit\": 10}}\n",
      "{\"train\": {\"epochs_done\": 2, \"batches_seen\": 585, \"examples_seen\": 2338, \"metrics\": {\"per_item_dialog_accuracy\": 0.4695}, \"time_spent\": \"0:06:20\"}}\n"
     ]
    },
    {
     "name": "stderr",
     "output_type": "stream",
     "text": [
      "2018-11-28 16:59:38.858 INFO in 'deeppavlov.core.commands.train'['train'] at line 466: Did not improve on the per_item_dialog_accuracy of 0.3735\n"
     ]
    },
    {
     "name": "stdout",
     "output_type": "stream",
     "text": [
      "{\"valid\": {\"eval_examples_count\": 575, \"metrics\": {\"per_item_dialog_accuracy\": 0.3519}, \"time_spent\": \"0:06:30\", \"epochs_done\": 2, \"batches_seen\": 585, \"train_examples_seen\": 2338, \"impatience\": 4, \"patience_limit\": 10}}\n",
      "{\"train\": {\"epochs_done\": 2, \"batches_seen\": 600, \"examples_seen\": 2398, \"metrics\": {\"per_item_dialog_accuracy\": 0.4613}, \"time_spent\": \"0:06:31\"}}\n"
     ]
    },
    {
     "name": "stderr",
     "output_type": "stream",
     "text": [
      "2018-11-28 16:59:49.508 INFO in 'deeppavlov.core.commands.train'['train'] at line 459: New best per_item_dialog_accuracy of 0.3863\n",
      "2018-11-28 16:59:49.509 INFO in 'deeppavlov.core.commands.train'['train'] at line 461: Saving model\n",
      "2018-11-28 16:59:49.509 INFO in 'deeppavlov.core.models.tf_model'['tf_model'] at line 52: [saving model to /home/vimary/ipavlov/Pilot/examples/tutorials/models/my_gobot_emb/model]\n",
      "2018-11-28 16:59:49.575 INFO in 'deeppavlov.models.go_bot.network'['network'] at line 354: [saving parameters to /home/vimary/ipavlov/Pilot/examples/tutorials/models/my_gobot_emb/model.json]\n"
     ]
    },
    {
     "name": "stdout",
     "output_type": "stream",
     "text": [
      "{\"valid\": {\"eval_examples_count\": 575, \"metrics\": {\"per_item_dialog_accuracy\": 0.3863}, \"time_spent\": \"0:06:41\", \"epochs_done\": 2, \"batches_seen\": 600, \"train_examples_seen\": 2398, \"impatience\": 0, \"patience_limit\": 10}}\n",
      "{\"train\": {\"epochs_done\": 2, \"batches_seen\": 615, \"examples_seen\": 2458, \"metrics\": {\"per_item_dialog_accuracy\": 0.4327}, \"time_spent\": \"0:06:42\"}}\n"
     ]
    },
    {
     "name": "stderr",
     "output_type": "stream",
     "text": [
      "2018-11-28 16:59:59.363 INFO in 'deeppavlov.core.commands.train'['train'] at line 466: Did not improve on the per_item_dialog_accuracy of 0.3863\n"
     ]
    },
    {
     "name": "stdout",
     "output_type": "stream",
     "text": [
      "{\"valid\": {\"eval_examples_count\": 575, \"metrics\": {\"per_item_dialog_accuracy\": 0.3797}, \"time_spent\": \"0:06:50\", \"epochs_done\": 2, \"batches_seen\": 615, \"train_examples_seen\": 2458, \"impatience\": 1, \"patience_limit\": 10}}\n",
      "{\"train\": {\"epochs_done\": 2, \"batches_seen\": 630, \"examples_seen\": 2518, \"metrics\": {\"per_item_dialog_accuracy\": 0.4795}, \"time_spent\": \"0:06:51\"}}\n"
     ]
    },
    {
     "name": "stderr",
     "output_type": "stream",
     "text": [
      "2018-11-28 17:00:08.859 INFO in 'deeppavlov.core.commands.train'['train'] at line 466: Did not improve on the per_item_dialog_accuracy of 0.3863\n"
     ]
    },
    {
     "name": "stdout",
     "output_type": "stream",
     "text": [
      "{\"valid\": {\"eval_examples_count\": 575, \"metrics\": {\"per_item_dialog_accuracy\": 0.369}, \"time_spent\": \"0:07:00\", \"epochs_done\": 2, \"batches_seen\": 630, \"train_examples_seen\": 2518, \"impatience\": 2, \"patience_limit\": 10}}\n",
      "{\"train\": {\"epochs_done\": 2, \"batches_seen\": 645, \"examples_seen\": 2578, \"metrics\": {\"per_item_dialog_accuracy\": 0.4511}, \"time_spent\": \"0:07:01\"}}\n"
     ]
    },
    {
     "name": "stderr",
     "output_type": "stream",
     "text": [
      "2018-11-28 17:00:18.169 INFO in 'deeppavlov.core.commands.train'['train'] at line 466: Did not improve on the per_item_dialog_accuracy of 0.3863\n"
     ]
    },
    {
     "name": "stdout",
     "output_type": "stream",
     "text": [
      "{\"valid\": {\"eval_examples_count\": 575, \"metrics\": {\"per_item_dialog_accuracy\": 0.3828}, \"time_spent\": \"0:07:09\", \"epochs_done\": 2, \"batches_seen\": 645, \"train_examples_seen\": 2578, \"impatience\": 3, \"patience_limit\": 10}}\n",
      "{\"train\": {\"epochs_done\": 2, \"batches_seen\": 660, \"examples_seen\": 2638, \"metrics\": {\"per_item_dialog_accuracy\": 0.451}, \"time_spent\": \"0:07:10\"}}\n"
     ]
    },
    {
     "name": "stderr",
     "output_type": "stream",
     "text": [
      "2018-11-28 17:00:28.367 INFO in 'deeppavlov.core.commands.train'['train'] at line 466: Did not improve on the per_item_dialog_accuracy of 0.3863\n"
     ]
    },
    {
     "name": "stdout",
     "output_type": "stream",
     "text": [
      "{\"valid\": {\"eval_examples_count\": 575, \"metrics\": {\"per_item_dialog_accuracy\": 0.3398}, \"time_spent\": \"0:07:19\", \"epochs_done\": 2, \"batches_seen\": 660, \"train_examples_seen\": 2638, \"impatience\": 4, \"patience_limit\": 10}}\n",
      "{\"train\": {\"epochs_done\": 2, \"batches_seen\": 675, \"examples_seen\": 2698, \"metrics\": {\"per_item_dialog_accuracy\": 0.4664}, \"time_spent\": \"0:07:21\"}}\n"
     ]
    },
    {
     "name": "stderr",
     "output_type": "stream",
     "text": [
      "2018-11-28 17:00:39.104 INFO in 'deeppavlov.core.commands.train'['train'] at line 466: Did not improve on the per_item_dialog_accuracy of 0.3863\n"
     ]
    },
    {
     "name": "stdout",
     "output_type": "stream",
     "text": [
      "{\"valid\": {\"eval_examples_count\": 575, \"metrics\": {\"per_item_dialog_accuracy\": 0.3577}, \"time_spent\": \"0:07:30\", \"epochs_done\": 2, \"batches_seen\": 675, \"train_examples_seen\": 2698, \"impatience\": 5, \"patience_limit\": 10}}\n",
      "{\"train\": {\"epochs_done\": 2, \"batches_seen\": 690, \"examples_seen\": 2758, \"metrics\": {\"per_item_dialog_accuracy\": 0.5164}, \"time_spent\": \"0:07:31\"}}\n"
     ]
    },
    {
     "name": "stderr",
     "output_type": "stream",
     "text": [
      "2018-11-28 17:00:48.433 INFO in 'deeppavlov.core.commands.train'['train'] at line 466: Did not improve on the per_item_dialog_accuracy of 0.3863\n"
     ]
    },
    {
     "name": "stdout",
     "output_type": "stream",
     "text": [
      "{\"valid\": {\"eval_examples_count\": 575, \"metrics\": {\"per_item_dialog_accuracy\": 0.3613}, \"time_spent\": \"0:07:40\", \"epochs_done\": 2, \"batches_seen\": 690, \"train_examples_seen\": 2758, \"impatience\": 6, \"patience_limit\": 10}}\n",
      "{\"train\": {\"epochs_done\": 2, \"batches_seen\": 705, \"examples_seen\": 2818, \"metrics\": {\"per_item_dialog_accuracy\": 0.4652}, \"time_spent\": \"0:07:40\"}}\n"
     ]
    },
    {
     "name": "stderr",
     "output_type": "stream",
     "text": [
      "2018-11-28 17:00:58.3 INFO in 'deeppavlov.core.commands.train'['train'] at line 466: Did not improve on the per_item_dialog_accuracy of 0.3863\n"
     ]
    },
    {
     "name": "stdout",
     "output_type": "stream",
     "text": [
      "{\"valid\": {\"eval_examples_count\": 575, \"metrics\": {\"per_item_dialog_accuracy\": 0.3654}, \"time_spent\": \"0:07:49\", \"epochs_done\": 2, \"batches_seen\": 705, \"train_examples_seen\": 2818, \"impatience\": 7, \"patience_limit\": 10}}\n",
      "{\"train\": {\"epochs_done\": 2, \"batches_seen\": 720, \"examples_seen\": 2878, \"metrics\": {\"per_item_dialog_accuracy\": 0.4497}, \"time_spent\": \"0:07:50\"}}\n"
     ]
    },
    {
     "name": "stderr",
     "output_type": "stream",
     "text": [
      "2018-11-28 17:01:07.501 INFO in 'deeppavlov.core.commands.train'['train'] at line 466: Did not improve on the per_item_dialog_accuracy of 0.3863\n"
     ]
    },
    {
     "name": "stdout",
     "output_type": "stream",
     "text": [
      "{\"valid\": {\"eval_examples_count\": 575, \"metrics\": {\"per_item_dialog_accuracy\": 0.3717}, \"time_spent\": \"0:07:59\", \"epochs_done\": 2, \"batches_seen\": 720, \"train_examples_seen\": 2878, \"impatience\": 8, \"patience_limit\": 10}}\n"
     ]
    },
    {
     "name": "stderr",
     "output_type": "stream",
     "text": [
      "2018-11-28 17:01:07.947 INFO in 'deeppavlov.models.go_bot.network'['network'] at line 372: Updating global step, learning rate = 0.005000.\n"
     ]
    },
    {
     "name": "stdout",
     "output_type": "stream",
     "text": [
      "{\"train\": {\"epochs_done\": 3, \"batches_seen\": 735, \"examples_seen\": 2937, \"metrics\": {\"per_item_dialog_accuracy\": 0.4393}, \"time_spent\": \"0:08:00\"}}\n"
     ]
    },
    {
     "name": "stderr",
     "output_type": "stream",
     "text": [
      "2018-11-28 17:01:18.146 INFO in 'deeppavlov.core.commands.train'['train'] at line 466: Did not improve on the per_item_dialog_accuracy of 0.3863\n"
     ]
    },
    {
     "name": "stdout",
     "output_type": "stream",
     "text": [
      "{\"valid\": {\"eval_examples_count\": 575, \"metrics\": {\"per_item_dialog_accuracy\": 0.3656}, \"time_spent\": \"0:08:09\", \"epochs_done\": 3, \"batches_seen\": 735, \"train_examples_seen\": 2937, \"impatience\": 9, \"patience_limit\": 10}}\n",
      "{\"train\": {\"epochs_done\": 3, \"batches_seen\": 750, \"examples_seen\": 2997, \"metrics\": {\"per_item_dialog_accuracy\": 0.4504}, \"time_spent\": \"0:08:11\"}}\n"
     ]
    },
    {
     "name": "stderr",
     "output_type": "stream",
     "text": [
      "2018-11-28 17:01:28.708 INFO in 'deeppavlov.core.commands.train'['train'] at line 466: Did not improve on the per_item_dialog_accuracy of 0.3863\n",
      "2018-11-28 17:01:28.708 INFO in 'deeppavlov.core.commands.train'['train'] at line 477: Ran out of patience\n",
      "2018-11-28 17:01:28.709 INFO in 'deeppavlov.core.data.simple_vocab'['simple_vocab'] at line 100: [loading vocabulary from /home/vimary/ipavlov/Pilot/examples/tutorials/models/my_gobot_emb/token.dict]\n",
      "2018-11-28 17:01:28.711 INFO in 'deeppavlov.models.embedders.fasttext_embedder'['fasttext_embedder'] at line 52: [loading fastText embeddings from `/home/vimary/.deeppavlov/downloads/embeddings/wiki.en.bin`]\n"
     ]
    },
    {
     "name": "stdout",
     "output_type": "stream",
     "text": [
      "{\"valid\": {\"eval_examples_count\": 575, \"metrics\": {\"per_item_dialog_accuracy\": 0.3242}, \"time_spent\": \"0:08:20\", \"epochs_done\": 3, \"batches_seen\": 750, \"train_examples_seen\": 2997, \"impatience\": 10, \"patience_limit\": 10}}\n"
     ]
    },
    {
     "name": "stderr",
     "output_type": "stream",
     "text": [
      "2018-11-28 17:01:35.148 INFO in 'deeppavlov.models.go_bot.bot'['bot'] at line 108: [loading templates from /home/vimary/.deeppavlov/downloads/dstc2/dstc2-templates.txt]\n",
      "2018-11-28 17:01:35.149 INFO in 'deeppavlov.models.go_bot.bot'['bot'] at line 111: 46 templates loaded\n",
      "2018-11-28 17:01:35.149 INFO in 'deeppavlov.models.go_bot.bot'['bot'] at line 139: Calculated input size for `GoalOrientedBotNetwork` is 796\n",
      "2018-11-28 17:01:35.627 INFO in 'deeppavlov.models.go_bot.network'['network'] at line 120: [initializing `GoalOrientedBotNetwork` from saved]\n",
      "2018-11-28 17:01:35.628 INFO in 'deeppavlov.models.go_bot.network'['network'] at line 360: [loading parameters from /home/vimary/ipavlov/Pilot/examples/tutorials/models/my_gobot_emb/model.json]\n",
      "2018-11-28 17:01:35.630 INFO in 'deeppavlov.core.models.tf_model'['tf_model'] at line 43: [loading model from /home/vimary/ipavlov/Pilot/examples/tutorials/models/my_gobot_emb/model]\n",
      "2018-11-28 17:01:35.638 INFO in 'tensorflow'['tf_logging'] at line 115: Restoring parameters from /home/vimary/ipavlov/Pilot/examples/tutorials/models/my_gobot_emb/model\n",
      "2018-11-28 17:01:35.963 INFO in 'deeppavlov.core.commands.train'['train'] at line 217: Testing the best saved model\n"
     ]
    },
    {
     "name": "stdout",
     "output_type": "stream",
     "text": [
      "{\"valid\": {\"eval_examples_count\": 575, \"metrics\": {\"per_item_dialog_accuracy\": 0.3863}, \"time_spent\": \"0:00:09\"}}\n"
     ]
    },
    {
     "name": "stderr",
     "output_type": "stream",
     "text": [
      "2018-11-28 17:01:53.778 INFO in 'deeppavlov.core.data.simple_vocab'['simple_vocab'] at line 100: [loading vocabulary from /home/vimary/ipavlov/Pilot/examples/tutorials/models/my_gobot_emb/token.dict]\n",
      "2018-11-28 17:01:53.781 INFO in 'deeppavlov.models.embedders.fasttext_embedder'['fasttext_embedder'] at line 52: [loading fastText embeddings from `/home/vimary/.deeppavlov/downloads/embeddings/wiki.en.bin`]\n"
     ]
    },
    {
     "name": "stdout",
     "output_type": "stream",
     "text": [
      "{\"test\": {\"eval_examples_count\": 576, \"metrics\": {\"per_item_dialog_accuracy\": 0.3957}, \"time_spent\": \"0:00:09\"}}\n"
     ]
    },
    {
     "name": "stderr",
     "output_type": "stream",
     "text": [
      "2018-11-28 17:02:14.602 INFO in 'deeppavlov.models.go_bot.bot'['bot'] at line 108: [loading templates from /home/vimary/.deeppavlov/downloads/dstc2/dstc2-templates.txt]\n",
      "2018-11-28 17:02:14.603 INFO in 'deeppavlov.models.go_bot.bot'['bot'] at line 111: 46 templates loaded\n",
      "2018-11-28 17:02:14.603 INFO in 'deeppavlov.models.go_bot.bot'['bot'] at line 139: Calculated input size for `GoalOrientedBotNetwork` is 796\n",
      "2018-11-28 17:02:15.73 INFO in 'deeppavlov.models.go_bot.network'['network'] at line 120: [initializing `GoalOrientedBotNetwork` from saved]\n",
      "2018-11-28 17:02:15.74 INFO in 'deeppavlov.models.go_bot.network'['network'] at line 360: [loading parameters from /home/vimary/ipavlov/Pilot/examples/tutorials/models/my_gobot_emb/model.json]\n",
      "2018-11-28 17:02:15.76 INFO in 'deeppavlov.core.models.tf_model'['tf_model'] at line 43: [loading model from /home/vimary/ipavlov/Pilot/examples/tutorials/models/my_gobot_emb/model]\n",
      "2018-11-28 17:02:15.84 INFO in 'tensorflow'['tf_logging'] at line 115: Restoring parameters from /home/vimary/ipavlov/Pilot/examples/tutorials/models/my_gobot_emb/model\n"
     ]
    }
   ],
   "source": [
    "bot_emb = train_model(config_emb, download=True)\n",
    "# bot_emb = build_model(config_emb)"
   ]
  },
  {
   "cell_type": "code",
   "execution_count": 32,
   "metadata": {},
   "outputs": [
    {
     "data": {
      "text/plain": [
       "['Hello, welcome to the Cambridge restaurant system. You can ask for restaurants by area, price range or food type. How may I help you?']"
      ]
     },
     "execution_count": 32,
     "metadata": {},
     "output_type": "execute_result"
    }
   ],
   "source": [
    "bot_emb(['hi, i want cheaply priced food, please'])"
   ]
  },
  {
   "cell_type": "code",
   "execution_count": 33,
   "metadata": {},
   "outputs": [
    {
     "data": {
      "text/plain": [
       "['Hello, welcome to the Cambridge restaurant system. You can ask for restaurants by area, price range or food type. How may I help you?']"
      ]
     },
     "execution_count": 33,
     "metadata": {},
     "output_type": "execute_result"
    }
   ],
   "source": [
    "bot_emb(['bye'])"
   ]
  },
  {
   "cell_type": "code",
   "execution_count": 34,
   "metadata": {},
   "outputs": [],
   "source": [
    "# free memory\n",
    "del bot_emb"
   ]
  },
  {
   "cell_type": "markdown",
   "metadata": {},
   "source": [
    "## Добавляем предобученный NER"
   ]
  },
  {
   "cell_type": "code",
   "execution_count": 36,
   "metadata": {},
   "outputs": [
    {
     "data": {
      "text/plain": [
       "{'class_name': 'deeppavlov.models.go_bot.wrapper:DialogComponentWrapper',\n",
       " 'component': {'class_name': 'split_tokenizer'},\n",
       " 'in': ['x'],\n",
       " 'out': ['x_tokens']}"
      ]
     },
     "execution_count": 36,
     "metadata": {},
     "output_type": "execute_result"
    }
   ],
   "source": [
    "tokenizer"
   ]
  },
  {
   "cell_type": "code",
   "execution_count": 37,
   "metadata": {},
   "outputs": [],
   "source": [
    "token_vocabulary_ner = copy(token_vocabulary_emb)\n",
    "\n",
    "token_vocabulary_ner['save_path'] = '{MODELS_PATH}/my_gobot_ner/token.dict'\n",
    "token_vocabulary_ner['load_path'] = '{MODELS_PATH}/my_gobot_ner/token.dict'"
   ]
  },
  {
   "cell_type": "code",
   "execution_count": 38,
   "metadata": {},
   "outputs": [
    {
     "name": "stdout",
     "output_type": "stream",
     "text": [
      "None\n"
     ]
    }
   ],
   "source": [
    "print(network_emb['slot_filler'])"
   ]
  },
  {
   "cell_type": "markdown",
   "metadata": {},
   "source": [
    "##### Посмотрим на предполагаемые входные и выходные данные от NER"
   ]
  },
  {
   "cell_type": "code",
   "execution_count": 39,
   "metadata": {},
   "outputs": [
    {
     "name": "stderr",
     "output_type": "stream",
     "text": [
      "2018-11-28 17:02:15.563 DEBUG in 'urllib3.connectionpool'['connectionpool'] at line 205: Starting new HTTP connection (1): files.deeppavlov.ai:80\n",
      "2018-11-28 17:02:15.618 DEBUG in 'urllib3.connectionpool'['connectionpool'] at line 393: http://files.deeppavlov.ai:80 \"GET /deeppavlov_data/slotfill_dstc2.tar.gz.md5 HTTP/1.1\" 200 442\n",
      "2018-11-28 17:02:15.630 DEBUG in 'urllib3.connectionpool'['connectionpool'] at line 205: Starting new HTTP connection (1): files.deeppavlov.ai:80\n",
      "2018-11-28 17:02:15.663 DEBUG in 'urllib3.connectionpool'['connectionpool'] at line 393: http://files.deeppavlov.ai:80 \"GET /deeppavlov_data/slotfill_dstc2.tar.gz HTTP/1.1\" 200 640674\n",
      "2018-11-28 17:02:15.667 INFO in 'deeppavlov.core.data.utils'['utils'] at line 63: Downloading from http://files.deeppavlov.ai/deeppavlov_data/slotfill_dstc2.tar.gz to /home/vimary/.deeppavlov/slotfill_dstc2.tar.gz\n",
      "100%|██████████| 641k/641k [00:00<00:00, 16.7MB/s]\n",
      "2018-11-28 17:02:15.713 INFO in 'deeppavlov.core.data.utils'['utils'] at line 201: Extracting /home/vimary/.deeppavlov/slotfill_dstc2.tar.gz archive into /home/vimary/.deeppavlov/models\n",
      "2018-11-28 17:02:15.758 INFO in 'deeppavlov.core.data.simple_vocab'['simple_vocab'] at line 100: [loading vocabulary from /home/vimary/.deeppavlov/models/slotfill_dstc2/word.dict]\n",
      "2018-11-28 17:02:15.765 INFO in 'deeppavlov.core.data.simple_vocab'['simple_vocab'] at line 100: [loading vocabulary from /home/vimary/.deeppavlov/models/slotfill_dstc2/tag.dict]\n",
      "2018-11-28 17:02:16.162 WARNING in 'tensorflow'['tf_logging'] at line 125: From /home/vimary/ipavlov/Pilot/deeppavlov/models/ner/network.py:262: softmax_cross_entropy_with_logits (from tensorflow.python.ops.nn_ops) is deprecated and will be removed in a future version.\n",
      "Instructions for updating:\n",
      "\n",
      "Future major versions of TensorFlow will allow gradients to flow\n",
      "into the labels input on backprop by default.\n",
      "\n",
      "See @{tf.nn.softmax_cross_entropy_with_logits_v2}.\n",
      "\n",
      "2018-11-28 17:02:16.941 INFO in 'deeppavlov.core.models.tf_model'['tf_model'] at line 43: [loading model from /home/vimary/.deeppavlov/models/slotfill_dstc2/model]\n",
      "2018-11-28 17:02:16.955 INFO in 'tensorflow'['tf_logging'] at line 115: Restoring parameters from /home/vimary/.deeppavlov/models/slotfill_dstc2/model\n"
     ]
    }
   ],
   "source": [
    "ner_model = build_model(deeppavlov.configs.ner.slotfill_dstc2, download=True)"
   ]
  },
  {
   "cell_type": "code",
   "execution_count": 40,
   "metadata": {},
   "outputs": [
    {
     "data": {
      "text/plain": [
       "[{'pricerange': 'cheap', 'food': 'chinese', 'area': 'south'}]"
      ]
     },
     "execution_count": 40,
     "metadata": {},
     "output_type": "execute_result"
    }
   ],
   "source": [
    "ner_model(['i want cheap food in chinese reastaurant in the south of town'])"
   ]
  },
  {
   "cell_type": "code",
   "execution_count": 41,
   "metadata": {},
   "outputs": [],
   "source": [
    "# free memory\n",
    "del ner_model"
   ]
  },
  {
   "cell_type": "markdown",
   "metadata": {},
   "source": [
    "##### Внедрим NER в качестве заполнителя слотов (slot filler) в сетку"
   ]
  },
  {
   "cell_type": "code",
   "execution_count": 42,
   "metadata": {},
   "outputs": [],
   "source": [
    "network_ner = copy(network_emb)\n",
    "\n",
    "network_ner['slot_filler'] = {\n",
    "    'config_path': '{DEEPPAVLOV_PATH}/configs/ner/slotfill_dstc2.json'\n",
    "}\n",
    "network_ner['load_path'] = \"{MODELS_PATH}/my_gobot_ner/model\"\n",
    "network_ner['save_path'] = \"{MODELS_PATH}/my_gobot_ner/model\""
   ]
  },
  {
   "cell_type": "markdown",
   "metadata": {},
   "source": [
    "##### Ищем все типы слотов и добавляем в трекер состояния диалога"
   ]
  },
  {
   "cell_type": "code",
   "execution_count": 43,
   "metadata": {},
   "outputs": [],
   "source": [
    "slot_types = [\"pricerange\", \"this\", \"area\", \"food\", \"name\"]"
   ]
  },
  {
   "cell_type": "code",
   "execution_count": 44,
   "metadata": {},
   "outputs": [
    {
     "name": "stdout",
     "output_type": "stream",
     "text": [
      "{'class_name': 'featurized_tracker', 'slot_names': []}\n"
     ]
    }
   ],
   "source": [
    "print(network_ner['tracker'])"
   ]
  },
  {
   "cell_type": "code",
   "execution_count": 45,
   "metadata": {},
   "outputs": [],
   "source": [
    "network_ner[\"tracker\"] = {\n",
    "    \"class_name\": \"featurized_tracker\",\n",
    "    \"slot_names\": slot_types\n",
    "}"
   ]
  },
  {
   "cell_type": "code",
   "execution_count": null,
   "metadata": {},
   "outputs": [],
   "source": [
    "##"
   ]
  },
  {
   "cell_type": "code",
   "execution_count": 46,
   "metadata": {},
   "outputs": [],
   "source": [
    "config_ner = copy(config_emb)\n",
    "\n",
    "config_ner['chainer']['pipe'] = [\n",
    "    tokenizer,\n",
    "    token_vocabulary_ner,\n",
    "    network_ner\n",
    "]"
   ]
  },
  {
   "cell_type": "code",
   "execution_count": 48,
   "metadata": {},
   "outputs": [
    {
     "name": "stderr",
     "output_type": "stream",
     "text": [
      "2018-11-28 17:03:13.386 DEBUG in 'urllib3.connectionpool'['connectionpool'] at line 205: Starting new HTTP connection (1): files.deeppavlov.ai:80\n",
      "2018-11-28 17:03:13.421 DEBUG in 'urllib3.connectionpool'['connectionpool'] at line 393: http://files.deeppavlov.ai:80 \"GET /deeppavlov_data/slotfill_dstc2.tar.gz.md5 HTTP/1.1\" 200 442\n",
      "2018-11-28 17:03:13.424 INFO in 'deeppavlov.download'['download'] at line 115: Skipped http://files.deeppavlov.ai/deeppavlov_data/slotfill_dstc2.tar.gz download because of matching hashes\n",
      "2018-11-28 17:03:13.425 DEBUG in 'urllib3.connectionpool'['connectionpool'] at line 205: Starting new HTTP connection (1): files.deeppavlov.ai:80\n",
      "2018-11-28 17:03:13.460 DEBUG in 'urllib3.connectionpool'['connectionpool'] at line 393: http://files.deeppavlov.ai:80 \"GET /datasets/dstc2_v2.tar.gz.md5 HTTP/1.1\" 200 260\n",
      "2018-11-28 17:03:13.483 INFO in 'deeppavlov.download'['download'] at line 115: Skipped http://files.deeppavlov.ai/datasets/dstc2_v2.tar.gz download because of matching hashes\n",
      "2018-11-28 17:03:13.484 DEBUG in 'urllib3.connectionpool'['connectionpool'] at line 205: Starting new HTTP connection (1): files.deeppavlov.ai:80\n",
      "2018-11-28 17:03:13.519 DEBUG in 'urllib3.connectionpool'['connectionpool'] at line 393: http://files.deeppavlov.ai:80 \"GET /deeppavlov_data/embeddings/wiki.en.bin.md5 HTTP/1.1\" 200 46\n",
      "2018-11-28 17:03:24.80 INFO in 'deeppavlov.download'['download'] at line 115: Skipped http://files.deeppavlov.ai/deeppavlov_data/embeddings/wiki.en.bin download because of matching hashes\n",
      "2018-11-28 17:03:24.81 INFO in 'deeppavlov.dataset_readers.dstc2_reader'['dstc2_reader'] at line 113: [loading dialogs from /home/vimary/.deeppavlov/downloads/dstc2/dstc2-trn.jsonlist]\n",
      "2018-11-28 17:03:24.356 INFO in 'deeppavlov.dataset_readers.dstc2_reader'['dstc2_reader'] at line 113: [loading dialogs from /home/vimary/.deeppavlov/downloads/dstc2/dstc2-val.jsonlist]\n",
      "2018-11-28 17:03:24.435 INFO in 'deeppavlov.dataset_readers.dstc2_reader'['dstc2_reader'] at line 113: [loading dialogs from /home/vimary/.deeppavlov/downloads/dstc2/dstc2-tst.jsonlist]\n",
      "2018-11-28 17:03:24.777 INFO in 'deeppavlov.core.data.simple_vocab'['simple_vocab'] at line 89: [saving vocabulary to /home/vimary/ipavlov/Pilot/examples/tutorials/models/my_gobot_ner/token.dict]\n",
      "2018-11-28 17:03:24.780 INFO in 'deeppavlov.core.data.simple_vocab'['simple_vocab'] at line 100: [loading vocabulary from /home/vimary/.deeppavlov/models/slotfill_dstc2/word.dict]\n",
      "2018-11-28 17:03:24.783 INFO in 'deeppavlov.core.data.simple_vocab'['simple_vocab'] at line 100: [loading vocabulary from /home/vimary/.deeppavlov/models/slotfill_dstc2/tag.dict]\n",
      "2018-11-28 17:03:25.341 INFO in 'deeppavlov.core.models.tf_model'['tf_model'] at line 43: [loading model from /home/vimary/.deeppavlov/models/slotfill_dstc2/model]\n",
      "2018-11-28 17:03:25.356 INFO in 'tensorflow'['tf_logging'] at line 115: Restoring parameters from /home/vimary/.deeppavlov/models/slotfill_dstc2/model\n",
      "2018-11-28 17:03:25.375 INFO in 'deeppavlov.models.embedders.fasttext_embedder'['fasttext_embedder'] at line 52: [loading fastText embeddings from `/home/vimary/.deeppavlov/downloads/embeddings/wiki.en.bin`]\n",
      "2018-11-28 17:03:31.513 INFO in 'deeppavlov.models.go_bot.bot'['bot'] at line 108: [loading templates from /home/vimary/.deeppavlov/downloads/dstc2/dstc2-templates.txt]\n",
      "2018-11-28 17:03:31.514 INFO in 'deeppavlov.models.go_bot.bot'['bot'] at line 111: 46 templates loaded\n",
      "2018-11-28 17:03:31.514 INFO in 'deeppavlov.models.go_bot.bot'['bot'] at line 139: Calculated input size for `GoalOrientedBotNetwork` is 811\n",
      "2018-11-28 17:03:32.9 INFO in 'deeppavlov.models.go_bot.network'['network'] at line 123: [initializing `GoalOrientedBotNetwork` from scratch]\n",
      "2018-11-28 17:03:52.531 INFO in 'deeppavlov.core.commands.train'['train'] at line 363: New best per_item_dialog_accuracy of 0.0774\n",
      "2018-11-28 17:03:52.531 INFO in 'deeppavlov.core.commands.train'['train'] at line 365: Saving model\n",
      "2018-11-28 17:03:52.532 INFO in 'deeppavlov.core.models.tf_model'['tf_model'] at line 52: [saving model to /home/vimary/ipavlov/Pilot/examples/tutorials/models/my_gobot_ner/model]\n",
      "2018-11-28 17:03:52.789 INFO in 'deeppavlov.models.go_bot.network'['network'] at line 354: [saving parameters to /home/vimary/ipavlov/Pilot/examples/tutorials/models/my_gobot_ner/model.json]\n"
     ]
    },
    {
     "name": "stdout",
     "output_type": "stream",
     "text": [
      "{\"valid\": {\"eval_examples_count\": 575, \"metrics\": {\"per_item_dialog_accuracy\": 0.0774}, \"time_spent\": \"0:00:21\", \"epochs_done\": 0, \"batches_seen\": 0, \"train_examples_seen\": 0, \"impatience\": 0, \"patience_limit\": 10}}\n",
      "{\"train\": {\"epochs_done\": 0, \"batches_seen\": 15, \"examples_seen\": 60, \"metrics\": {\"per_item_dialog_accuracy\": 0.2409}, \"time_spent\": \"0:00:25\"}}\n"
     ]
    },
    {
     "name": "stderr",
     "output_type": "stream",
     "text": [
      "2018-11-28 17:04:16.681 INFO in 'deeppavlov.core.commands.train'['train'] at line 459: New best per_item_dialog_accuracy of 0.2897\n",
      "2018-11-28 17:04:16.681 INFO in 'deeppavlov.core.commands.train'['train'] at line 461: Saving model\n",
      "2018-11-28 17:04:16.682 INFO in 'deeppavlov.core.models.tf_model'['tf_model'] at line 52: [saving model to /home/vimary/ipavlov/Pilot/examples/tutorials/models/my_gobot_ner/model]\n",
      "2018-11-28 17:04:16.735 INFO in 'deeppavlov.models.go_bot.network'['network'] at line 354: [saving parameters to /home/vimary/ipavlov/Pilot/examples/tutorials/models/my_gobot_ner/model.json]\n"
     ]
    },
    {
     "name": "stdout",
     "output_type": "stream",
     "text": [
      "{\"valid\": {\"eval_examples_count\": 575, \"metrics\": {\"per_item_dialog_accuracy\": 0.2897}, \"time_spent\": \"0:00:45\", \"epochs_done\": 0, \"batches_seen\": 15, \"train_examples_seen\": 60, \"impatience\": 0, \"patience_limit\": 10}}\n",
      "{\"train\": {\"epochs_done\": 0, \"batches_seen\": 30, \"examples_seen\": 120, \"metrics\": {\"per_item_dialog_accuracy\": 0.345}, \"time_spent\": \"0:00:48\"}}\n"
     ]
    },
    {
     "name": "stderr",
     "output_type": "stream",
     "text": [
      "2018-11-28 17:04:40.310 INFO in 'deeppavlov.core.commands.train'['train'] at line 459: New best per_item_dialog_accuracy of 0.4177\n",
      "2018-11-28 17:04:40.311 INFO in 'deeppavlov.core.commands.train'['train'] at line 461: Saving model\n",
      "2018-11-28 17:04:40.311 INFO in 'deeppavlov.core.models.tf_model'['tf_model'] at line 52: [saving model to /home/vimary/ipavlov/Pilot/examples/tutorials/models/my_gobot_ner/model]\n",
      "2018-11-28 17:04:40.368 INFO in 'deeppavlov.models.go_bot.network'['network'] at line 354: [saving parameters to /home/vimary/ipavlov/Pilot/examples/tutorials/models/my_gobot_ner/model.json]\n"
     ]
    },
    {
     "name": "stdout",
     "output_type": "stream",
     "text": [
      "{\"valid\": {\"eval_examples_count\": 575, \"metrics\": {\"per_item_dialog_accuracy\": 0.4177}, \"time_spent\": \"0:01:09\", \"epochs_done\": 0, \"batches_seen\": 30, \"train_examples_seen\": 120, \"impatience\": 0, \"patience_limit\": 10}}\n",
      "{\"train\": {\"epochs_done\": 0, \"batches_seen\": 45, \"examples_seen\": 180, \"metrics\": {\"per_item_dialog_accuracy\": 0.4491}, \"time_spent\": \"0:01:12\"}}\n"
     ]
    },
    {
     "name": "stderr",
     "output_type": "stream",
     "text": [
      "2018-11-28 17:05:03.966 INFO in 'deeppavlov.core.commands.train'['train'] at line 466: Did not improve on the per_item_dialog_accuracy of 0.4177\n"
     ]
    },
    {
     "name": "stdout",
     "output_type": "stream",
     "text": [
      "{\"valid\": {\"eval_examples_count\": 575, \"metrics\": {\"per_item_dialog_accuracy\": 0.4117}, \"time_spent\": \"0:01:32\", \"epochs_done\": 0, \"batches_seen\": 45, \"train_examples_seen\": 180, \"impatience\": 1, \"patience_limit\": 10}}\n",
      "{\"train\": {\"epochs_done\": 0, \"batches_seen\": 60, \"examples_seen\": 240, \"metrics\": {\"per_item_dialog_accuracy\": 0.4834}, \"time_spent\": \"0:01:36\"}}\n"
     ]
    },
    {
     "name": "stderr",
     "output_type": "stream",
     "text": [
      "2018-11-28 17:05:27.457 INFO in 'deeppavlov.core.commands.train'['train'] at line 466: Did not improve on the per_item_dialog_accuracy of 0.4177\n"
     ]
    },
    {
     "name": "stdout",
     "output_type": "stream",
     "text": [
      "{\"valid\": {\"eval_examples_count\": 575, \"metrics\": {\"per_item_dialog_accuracy\": 0.412}, \"time_spent\": \"0:01:56\", \"epochs_done\": 0, \"batches_seen\": 60, \"train_examples_seen\": 240, \"impatience\": 2, \"patience_limit\": 10}}\n",
      "{\"train\": {\"epochs_done\": 0, \"batches_seen\": 75, \"examples_seen\": 300, \"metrics\": {\"per_item_dialog_accuracy\": 0.4887}, \"time_spent\": \"0:01:59\"}}\n"
     ]
    },
    {
     "name": "stderr",
     "output_type": "stream",
     "text": [
      "2018-11-28 17:05:50.988 INFO in 'deeppavlov.core.commands.train'['train'] at line 466: Did not improve on the per_item_dialog_accuracy of 0.4177\n"
     ]
    },
    {
     "name": "stdout",
     "output_type": "stream",
     "text": [
      "{\"valid\": {\"eval_examples_count\": 575, \"metrics\": {\"per_item_dialog_accuracy\": 0.4062}, \"time_spent\": \"0:02:19\", \"epochs_done\": 0, \"batches_seen\": 75, \"train_examples_seen\": 300, \"impatience\": 3, \"patience_limit\": 10}}\n",
      "{\"train\": {\"epochs_done\": 0, \"batches_seen\": 90, \"examples_seen\": 360, \"metrics\": {\"per_item_dialog_accuracy\": 0.5088}, \"time_spent\": \"0:02:23\"}}\n"
     ]
    },
    {
     "name": "stderr",
     "output_type": "stream",
     "text": [
      "2018-11-28 17:06:14.799 INFO in 'deeppavlov.core.commands.train'['train'] at line 459: New best per_item_dialog_accuracy of 0.4306\n",
      "2018-11-28 17:06:14.799 INFO in 'deeppavlov.core.commands.train'['train'] at line 461: Saving model\n",
      "2018-11-28 17:06:14.800 INFO in 'deeppavlov.core.models.tf_model'['tf_model'] at line 52: [saving model to /home/vimary/ipavlov/Pilot/examples/tutorials/models/my_gobot_ner/model]\n",
      "2018-11-28 17:06:14.854 INFO in 'deeppavlov.models.go_bot.network'['network'] at line 354: [saving parameters to /home/vimary/ipavlov/Pilot/examples/tutorials/models/my_gobot_ner/model.json]\n"
     ]
    },
    {
     "name": "stdout",
     "output_type": "stream",
     "text": [
      "{\"valid\": {\"eval_examples_count\": 575, \"metrics\": {\"per_item_dialog_accuracy\": 0.4306}, \"time_spent\": \"0:02:43\", \"epochs_done\": 0, \"batches_seen\": 90, \"train_examples_seen\": 360, \"impatience\": 0, \"patience_limit\": 10}}\n",
      "{\"train\": {\"epochs_done\": 0, \"batches_seen\": 105, \"examples_seen\": 420, \"metrics\": {\"per_item_dialog_accuracy\": 0.5043}, \"time_spent\": \"0:02:47\"}}\n"
     ]
    },
    {
     "name": "stderr",
     "output_type": "stream",
     "text": [
      "2018-11-28 17:06:39.205 INFO in 'deeppavlov.core.commands.train'['train'] at line 459: New best per_item_dialog_accuracy of 0.445\n",
      "2018-11-28 17:06:39.205 INFO in 'deeppavlov.core.commands.train'['train'] at line 461: Saving model\n",
      "2018-11-28 17:06:39.206 INFO in 'deeppavlov.core.models.tf_model'['tf_model'] at line 52: [saving model to /home/vimary/ipavlov/Pilot/examples/tutorials/models/my_gobot_ner/model]\n",
      "2018-11-28 17:06:39.274 INFO in 'deeppavlov.models.go_bot.network'['network'] at line 354: [saving parameters to /home/vimary/ipavlov/Pilot/examples/tutorials/models/my_gobot_ner/model.json]\n"
     ]
    },
    {
     "name": "stdout",
     "output_type": "stream",
     "text": [
      "{\"valid\": {\"eval_examples_count\": 575, \"metrics\": {\"per_item_dialog_accuracy\": 0.445}, \"time_spent\": \"0:03:08\", \"epochs_done\": 0, \"batches_seen\": 105, \"train_examples_seen\": 420, \"impatience\": 0, \"patience_limit\": 10}}\n",
      "{\"train\": {\"epochs_done\": 0, \"batches_seen\": 120, \"examples_seen\": 480, \"metrics\": {\"per_item_dialog_accuracy\": 0.5515}, \"time_spent\": \"0:03:12\"}}\n"
     ]
    },
    {
     "name": "stderr",
     "output_type": "stream",
     "text": [
      "2018-11-28 17:07:03.589 INFO in 'deeppavlov.core.commands.train'['train'] at line 466: Did not improve on the per_item_dialog_accuracy of 0.445\n"
     ]
    },
    {
     "name": "stdout",
     "output_type": "stream",
     "text": [
      "{\"valid\": {\"eval_examples_count\": 575, \"metrics\": {\"per_item_dialog_accuracy\": 0.4356}, \"time_spent\": \"0:03:32\", \"epochs_done\": 0, \"batches_seen\": 120, \"train_examples_seen\": 480, \"impatience\": 1, \"patience_limit\": 10}}\n",
      "{\"train\": {\"epochs_done\": 0, \"batches_seen\": 135, \"examples_seen\": 540, \"metrics\": {\"per_item_dialog_accuracy\": 0.5052}, \"time_spent\": \"0:03:35\"}}\n"
     ]
    },
    {
     "name": "stderr",
     "output_type": "stream",
     "text": [
      "2018-11-28 17:07:27.61 INFO in 'deeppavlov.core.commands.train'['train'] at line 459: New best per_item_dialog_accuracy of 0.458\n",
      "2018-11-28 17:07:27.61 INFO in 'deeppavlov.core.commands.train'['train'] at line 461: Saving model\n",
      "2018-11-28 17:07:27.62 INFO in 'deeppavlov.core.models.tf_model'['tf_model'] at line 52: [saving model to /home/vimary/ipavlov/Pilot/examples/tutorials/models/my_gobot_ner/model]\n",
      "2018-11-28 17:07:27.118 INFO in 'deeppavlov.models.go_bot.network'['network'] at line 354: [saving parameters to /home/vimary/ipavlov/Pilot/examples/tutorials/models/my_gobot_ner/model.json]\n"
     ]
    },
    {
     "name": "stdout",
     "output_type": "stream",
     "text": [
      "{\"valid\": {\"eval_examples_count\": 575, \"metrics\": {\"per_item_dialog_accuracy\": 0.458}, \"time_spent\": \"0:03:56\", \"epochs_done\": 0, \"batches_seen\": 135, \"train_examples_seen\": 540, \"impatience\": 0, \"patience_limit\": 10}}\n",
      "{\"train\": {\"epochs_done\": 0, \"batches_seen\": 150, \"examples_seen\": 600, \"metrics\": {\"per_item_dialog_accuracy\": 0.582}, \"time_spent\": \"0:03:59\"}}\n"
     ]
    },
    {
     "name": "stderr",
     "output_type": "stream",
     "text": [
      "2018-11-28 17:07:50.602 INFO in 'deeppavlov.core.commands.train'['train'] at line 459: New best per_item_dialog_accuracy of 0.4791\n",
      "2018-11-28 17:07:50.602 INFO in 'deeppavlov.core.commands.train'['train'] at line 461: Saving model\n",
      "2018-11-28 17:07:50.603 INFO in 'deeppavlov.core.models.tf_model'['tf_model'] at line 52: [saving model to /home/vimary/ipavlov/Pilot/examples/tutorials/models/my_gobot_ner/model]\n",
      "2018-11-28 17:07:50.660 INFO in 'deeppavlov.models.go_bot.network'['network'] at line 354: [saving parameters to /home/vimary/ipavlov/Pilot/examples/tutorials/models/my_gobot_ner/model.json]\n"
     ]
    },
    {
     "name": "stdout",
     "output_type": "stream",
     "text": [
      "{\"valid\": {\"eval_examples_count\": 575, \"metrics\": {\"per_item_dialog_accuracy\": 0.4791}, \"time_spent\": \"0:04:19\", \"epochs_done\": 0, \"batches_seen\": 150, \"train_examples_seen\": 600, \"impatience\": 0, \"patience_limit\": 10}}\n",
      "{\"train\": {\"epochs_done\": 0, \"batches_seen\": 165, \"examples_seen\": 660, \"metrics\": {\"per_item_dialog_accuracy\": 0.5674}, \"time_spent\": \"0:04:22\"}}\n"
     ]
    },
    {
     "name": "stderr",
     "output_type": "stream",
     "text": [
      "2018-11-28 17:08:14.152 INFO in 'deeppavlov.core.commands.train'['train'] at line 466: Did not improve on the per_item_dialog_accuracy of 0.4791\n"
     ]
    },
    {
     "name": "stdout",
     "output_type": "stream",
     "text": [
      "{\"valid\": {\"eval_examples_count\": 575, \"metrics\": {\"per_item_dialog_accuracy\": 0.4683}, \"time_spent\": \"0:04:43\", \"epochs_done\": 0, \"batches_seen\": 165, \"train_examples_seen\": 660, \"impatience\": 1, \"patience_limit\": 10}}\n",
      "{\"train\": {\"epochs_done\": 0, \"batches_seen\": 180, \"examples_seen\": 720, \"metrics\": {\"per_item_dialog_accuracy\": 0.5817}, \"time_spent\": \"0:04:46\"}}\n"
     ]
    },
    {
     "name": "stderr",
     "output_type": "stream",
     "text": [
      "2018-11-28 17:08:37.739 INFO in 'deeppavlov.core.commands.train'['train'] at line 466: Did not improve on the per_item_dialog_accuracy of 0.4791\n"
     ]
    },
    {
     "name": "stdout",
     "output_type": "stream",
     "text": [
      "{\"valid\": {\"eval_examples_count\": 575, \"metrics\": {\"per_item_dialog_accuracy\": 0.4351}, \"time_spent\": \"0:05:06\", \"epochs_done\": 0, \"batches_seen\": 180, \"train_examples_seen\": 720, \"impatience\": 2, \"patience_limit\": 10}}\n",
      "{\"train\": {\"epochs_done\": 0, \"batches_seen\": 195, \"examples_seen\": 780, \"metrics\": {\"per_item_dialog_accuracy\": 0.6042}, \"time_spent\": \"0:05:09\"}}\n"
     ]
    },
    {
     "name": "stderr",
     "output_type": "stream",
     "text": [
      "2018-11-28 17:09:02.88 INFO in 'deeppavlov.core.commands.train'['train'] at line 466: Did not improve on the per_item_dialog_accuracy of 0.4791\n"
     ]
    },
    {
     "name": "stdout",
     "output_type": "stream",
     "text": [
      "{\"valid\": {\"eval_examples_count\": 575, \"metrics\": {\"per_item_dialog_accuracy\": 0.454}, \"time_spent\": \"0:05:31\", \"epochs_done\": 0, \"batches_seen\": 195, \"train_examples_seen\": 780, \"impatience\": 3, \"patience_limit\": 10}}\n",
      "{\"train\": {\"epochs_done\": 0, \"batches_seen\": 210, \"examples_seen\": 840, \"metrics\": {\"per_item_dialog_accuracy\": 0.5367}, \"time_spent\": \"0:05:34\"}}\n"
     ]
    },
    {
     "name": "stderr",
     "output_type": "stream",
     "text": [
      "2018-11-28 17:09:27.873 INFO in 'deeppavlov.core.commands.train'['train'] at line 459: New best per_item_dialog_accuracy of 0.4871\n",
      "2018-11-28 17:09:27.873 INFO in 'deeppavlov.core.commands.train'['train'] at line 461: Saving model\n",
      "2018-11-28 17:09:27.874 INFO in 'deeppavlov.core.models.tf_model'['tf_model'] at line 52: [saving model to /home/vimary/ipavlov/Pilot/examples/tutorials/models/my_gobot_ner/model]\n",
      "2018-11-28 17:09:27.946 INFO in 'deeppavlov.models.go_bot.network'['network'] at line 354: [saving parameters to /home/vimary/ipavlov/Pilot/examples/tutorials/models/my_gobot_ner/model.json]\n"
     ]
    },
    {
     "name": "stdout",
     "output_type": "stream",
     "text": [
      "{\"valid\": {\"eval_examples_count\": 575, \"metrics\": {\"per_item_dialog_accuracy\": 0.4871}, \"time_spent\": \"0:05:56\", \"epochs_done\": 0, \"batches_seen\": 210, \"train_examples_seen\": 840, \"impatience\": 0, \"patience_limit\": 10}}\n",
      "{\"train\": {\"epochs_done\": 0, \"batches_seen\": 225, \"examples_seen\": 900, \"metrics\": {\"per_item_dialog_accuracy\": 0.5542}, \"time_spent\": \"0:06:01\"}}\n"
     ]
    },
    {
     "name": "stderr",
     "output_type": "stream",
     "text": [
      "2018-11-28 17:09:53.728 INFO in 'deeppavlov.core.commands.train'['train'] at line 466: Did not improve on the per_item_dialog_accuracy of 0.4871\n"
     ]
    },
    {
     "name": "stdout",
     "output_type": "stream",
     "text": [
      "{\"valid\": {\"eval_examples_count\": 575, \"metrics\": {\"per_item_dialog_accuracy\": 0.4694}, \"time_spent\": \"0:06:22\", \"epochs_done\": 0, \"batches_seen\": 225, \"train_examples_seen\": 900, \"impatience\": 1, \"patience_limit\": 10}}\n",
      "{\"train\": {\"epochs_done\": 0, \"batches_seen\": 240, \"examples_seen\": 960, \"metrics\": {\"per_item_dialog_accuracy\": 0.541}, \"time_spent\": \"0:06:25\"}}\n"
     ]
    },
    {
     "name": "stderr",
     "output_type": "stream",
     "text": [
      "2018-11-28 17:10:17.750 INFO in 'deeppavlov.core.commands.train'['train'] at line 459: New best per_item_dialog_accuracy of 0.4935\n",
      "2018-11-28 17:10:17.750 INFO in 'deeppavlov.core.commands.train'['train'] at line 461: Saving model\n",
      "2018-11-28 17:10:17.751 INFO in 'deeppavlov.core.models.tf_model'['tf_model'] at line 52: [saving model to /home/vimary/ipavlov/Pilot/examples/tutorials/models/my_gobot_ner/model]\n",
      "2018-11-28 17:10:17.809 INFO in 'deeppavlov.models.go_bot.network'['network'] at line 354: [saving parameters to /home/vimary/ipavlov/Pilot/examples/tutorials/models/my_gobot_ner/model.json]\n"
     ]
    },
    {
     "name": "stdout",
     "output_type": "stream",
     "text": [
      "{\"valid\": {\"eval_examples_count\": 575, \"metrics\": {\"per_item_dialog_accuracy\": 0.4935}, \"time_spent\": \"0:06:46\", \"epochs_done\": 0, \"batches_seen\": 240, \"train_examples_seen\": 960, \"impatience\": 0, \"patience_limit\": 10}}\n"
     ]
    },
    {
     "name": "stderr",
     "output_type": "stream",
     "text": [
      "2018-11-28 17:10:18.187 INFO in 'deeppavlov.models.go_bot.network'['network'] at line 372: Updating global step, learning rate = 0.005000.\n"
     ]
    },
    {
     "name": "stdout",
     "output_type": "stream",
     "text": [
      "{\"train\": {\"epochs_done\": 1, \"batches_seen\": 255, \"examples_seen\": 1019, \"metrics\": {\"per_item_dialog_accuracy\": 0.5691}, \"time_spent\": \"0:06:50\"}}\n"
     ]
    },
    {
     "name": "stderr",
     "output_type": "stream",
     "text": [
      "2018-11-28 17:10:42.547 INFO in 'deeppavlov.core.commands.train'['train'] at line 459: New best per_item_dialog_accuracy of 0.5036\n",
      "2018-11-28 17:10:42.548 INFO in 'deeppavlov.core.commands.train'['train'] at line 461: Saving model\n",
      "2018-11-28 17:10:42.548 INFO in 'deeppavlov.core.models.tf_model'['tf_model'] at line 52: [saving model to /home/vimary/ipavlov/Pilot/examples/tutorials/models/my_gobot_ner/model]\n",
      "2018-11-28 17:10:42.607 INFO in 'deeppavlov.models.go_bot.network'['network'] at line 354: [saving parameters to /home/vimary/ipavlov/Pilot/examples/tutorials/models/my_gobot_ner/model.json]\n"
     ]
    },
    {
     "name": "stdout",
     "output_type": "stream",
     "text": [
      "{\"valid\": {\"eval_examples_count\": 575, \"metrics\": {\"per_item_dialog_accuracy\": 0.5036}, \"time_spent\": \"0:07:11\", \"epochs_done\": 1, \"batches_seen\": 255, \"train_examples_seen\": 1019, \"impatience\": 0, \"patience_limit\": 10}}\n",
      "{\"train\": {\"epochs_done\": 1, \"batches_seen\": 270, \"examples_seen\": 1079, \"metrics\": {\"per_item_dialog_accuracy\": 0.5437}, \"time_spent\": \"0:07:14\"}}\n"
     ]
    },
    {
     "name": "stderr",
     "output_type": "stream",
     "text": [
      "2018-11-28 17:11:08.622 INFO in 'deeppavlov.core.commands.train'['train'] at line 466: Did not improve on the per_item_dialog_accuracy of 0.5036\n"
     ]
    },
    {
     "name": "stdout",
     "output_type": "stream",
     "text": [
      "{\"valid\": {\"eval_examples_count\": 575, \"metrics\": {\"per_item_dialog_accuracy\": 0.4877}, \"time_spent\": \"0:07:37\", \"epochs_done\": 1, \"batches_seen\": 270, \"train_examples_seen\": 1079, \"impatience\": 1, \"patience_limit\": 10}}\n",
      "{\"train\": {\"epochs_done\": 1, \"batches_seen\": 285, \"examples_seen\": 1139, \"metrics\": {\"per_item_dialog_accuracy\": 0.6047}, \"time_spent\": \"0:07:40\"}}\n"
     ]
    },
    {
     "name": "stderr",
     "output_type": "stream",
     "text": [
      "2018-11-28 17:11:34.259 INFO in 'deeppavlov.core.commands.train'['train'] at line 466: Did not improve on the per_item_dialog_accuracy of 0.5036\n"
     ]
    },
    {
     "name": "stdout",
     "output_type": "stream",
     "text": [
      "{\"valid\": {\"eval_examples_count\": 575, \"metrics\": {\"per_item_dialog_accuracy\": 0.4665}, \"time_spent\": \"0:08:03\", \"epochs_done\": 1, \"batches_seen\": 285, \"train_examples_seen\": 1139, \"impatience\": 2, \"patience_limit\": 10}}\n",
      "{\"train\": {\"epochs_done\": 1, \"batches_seen\": 300, \"examples_seen\": 1199, \"metrics\": {\"per_item_dialog_accuracy\": 0.5776}, \"time_spent\": \"0:08:06\"}}\n"
     ]
    },
    {
     "name": "stderr",
     "output_type": "stream",
     "text": [
      "2018-11-28 17:11:58.902 INFO in 'deeppavlov.core.commands.train'['train'] at line 466: Did not improve on the per_item_dialog_accuracy of 0.5036\n"
     ]
    },
    {
     "name": "stdout",
     "output_type": "stream",
     "text": [
      "{\"valid\": {\"eval_examples_count\": 575, \"metrics\": {\"per_item_dialog_accuracy\": 0.4707}, \"time_spent\": \"0:08:27\", \"epochs_done\": 1, \"batches_seen\": 300, \"train_examples_seen\": 1199, \"impatience\": 3, \"patience_limit\": 10}}\n",
      "{\"train\": {\"epochs_done\": 1, \"batches_seen\": 315, \"examples_seen\": 1259, \"metrics\": {\"per_item_dialog_accuracy\": 0.5617}, \"time_spent\": \"0:08:31\"}}\n"
     ]
    },
    {
     "name": "stderr",
     "output_type": "stream",
     "text": [
      "2018-11-28 17:12:23.437 INFO in 'deeppavlov.core.commands.train'['train'] at line 466: Did not improve on the per_item_dialog_accuracy of 0.5036\n"
     ]
    },
    {
     "name": "stdout",
     "output_type": "stream",
     "text": [
      "{\"valid\": {\"eval_examples_count\": 575, \"metrics\": {\"per_item_dialog_accuracy\": 0.4778}, \"time_spent\": \"0:08:52\", \"epochs_done\": 1, \"batches_seen\": 315, \"train_examples_seen\": 1259, \"impatience\": 4, \"patience_limit\": 10}}\n",
      "{\"train\": {\"epochs_done\": 1, \"batches_seen\": 330, \"examples_seen\": 1319, \"metrics\": {\"per_item_dialog_accuracy\": 0.5472}, \"time_spent\": \"0:08:56\"}}\n"
     ]
    },
    {
     "name": "stderr",
     "output_type": "stream",
     "text": [
      "2018-11-28 17:12:48.641 INFO in 'deeppavlov.core.commands.train'['train'] at line 466: Did not improve on the per_item_dialog_accuracy of 0.5036\n"
     ]
    },
    {
     "name": "stdout",
     "output_type": "stream",
     "text": [
      "{\"valid\": {\"eval_examples_count\": 575, \"metrics\": {\"per_item_dialog_accuracy\": 0.4856}, \"time_spent\": \"0:09:17\", \"epochs_done\": 1, \"batches_seen\": 330, \"train_examples_seen\": 1319, \"impatience\": 5, \"patience_limit\": 10}}\n",
      "{\"train\": {\"epochs_done\": 1, \"batches_seen\": 345, \"examples_seen\": 1379, \"metrics\": {\"per_item_dialog_accuracy\": 0.5719}, \"time_spent\": \"0:09:21\"}}\n"
     ]
    },
    {
     "name": "stderr",
     "output_type": "stream",
     "text": [
      "2018-11-28 17:13:13.619 INFO in 'deeppavlov.core.commands.train'['train'] at line 466: Did not improve on the per_item_dialog_accuracy of 0.5036\n"
     ]
    },
    {
     "name": "stdout",
     "output_type": "stream",
     "text": [
      "{\"valid\": {\"eval_examples_count\": 575, \"metrics\": {\"per_item_dialog_accuracy\": 0.4635}, \"time_spent\": \"0:09:42\", \"epochs_done\": 1, \"batches_seen\": 345, \"train_examples_seen\": 1379, \"impatience\": 6, \"patience_limit\": 10}}\n",
      "{\"train\": {\"epochs_done\": 1, \"batches_seen\": 360, \"examples_seen\": 1439, \"metrics\": {\"per_item_dialog_accuracy\": 0.5531}, \"time_spent\": \"0:09:46\"}}\n"
     ]
    },
    {
     "name": "stderr",
     "output_type": "stream",
     "text": [
      "2018-11-28 17:13:37.675 INFO in 'deeppavlov.core.commands.train'['train'] at line 466: Did not improve on the per_item_dialog_accuracy of 0.5036\n"
     ]
    },
    {
     "name": "stdout",
     "output_type": "stream",
     "text": [
      "{\"valid\": {\"eval_examples_count\": 575, \"metrics\": {\"per_item_dialog_accuracy\": 0.4908}, \"time_spent\": \"0:10:06\", \"epochs_done\": 1, \"batches_seen\": 360, \"train_examples_seen\": 1439, \"impatience\": 7, \"patience_limit\": 10}}\n",
      "{\"train\": {\"epochs_done\": 1, \"batches_seen\": 375, \"examples_seen\": 1499, \"metrics\": {\"per_item_dialog_accuracy\": 0.6151}, \"time_spent\": \"0:10:10\"}}\n"
     ]
    },
    {
     "name": "stderr",
     "output_type": "stream",
     "text": [
      "2018-11-28 17:14:01.872 INFO in 'deeppavlov.core.commands.train'['train'] at line 459: New best per_item_dialog_accuracy of 0.5063\n",
      "2018-11-28 17:14:01.873 INFO in 'deeppavlov.core.commands.train'['train'] at line 461: Saving model\n",
      "2018-11-28 17:14:01.873 INFO in 'deeppavlov.core.models.tf_model'['tf_model'] at line 52: [saving model to /home/vimary/ipavlov/Pilot/examples/tutorials/models/my_gobot_ner/model]\n",
      "2018-11-28 17:14:01.935 INFO in 'deeppavlov.models.go_bot.network'['network'] at line 354: [saving parameters to /home/vimary/ipavlov/Pilot/examples/tutorials/models/my_gobot_ner/model.json]\n"
     ]
    },
    {
     "name": "stdout",
     "output_type": "stream",
     "text": [
      "{\"valid\": {\"eval_examples_count\": 575, \"metrics\": {\"per_item_dialog_accuracy\": 0.5063}, \"time_spent\": \"0:10:30\", \"epochs_done\": 1, \"batches_seen\": 375, \"train_examples_seen\": 1499, \"impatience\": 0, \"patience_limit\": 10}}\n",
      "{\"train\": {\"epochs_done\": 1, \"batches_seen\": 390, \"examples_seen\": 1559, \"metrics\": {\"per_item_dialog_accuracy\": 0.5935}, \"time_spent\": \"0:10:34\"}}\n"
     ]
    },
    {
     "name": "stderr",
     "output_type": "stream",
     "text": [
      "2018-11-28 17:14:26.579 INFO in 'deeppavlov.core.commands.train'['train'] at line 466: Did not improve on the per_item_dialog_accuracy of 0.5063\n"
     ]
    },
    {
     "name": "stdout",
     "output_type": "stream",
     "text": [
      "{\"valid\": {\"eval_examples_count\": 575, \"metrics\": {\"per_item_dialog_accuracy\": 0.502}, \"time_spent\": \"0:10:55\", \"epochs_done\": 1, \"batches_seen\": 390, \"train_examples_seen\": 1559, \"impatience\": 1, \"patience_limit\": 10}}\n",
      "{\"train\": {\"epochs_done\": 1, \"batches_seen\": 405, \"examples_seen\": 1619, \"metrics\": {\"per_item_dialog_accuracy\": 0.6224}, \"time_spent\": \"0:10:58\"}}\n"
     ]
    },
    {
     "name": "stderr",
     "output_type": "stream",
     "text": [
      "2018-11-28 17:14:51.186 INFO in 'deeppavlov.core.commands.train'['train'] at line 459: New best per_item_dialog_accuracy of 0.5163\n",
      "2018-11-28 17:14:51.186 INFO in 'deeppavlov.core.commands.train'['train'] at line 461: Saving model\n",
      "2018-11-28 17:14:51.187 INFO in 'deeppavlov.core.models.tf_model'['tf_model'] at line 52: [saving model to /home/vimary/ipavlov/Pilot/examples/tutorials/models/my_gobot_ner/model]\n",
      "2018-11-28 17:14:51.249 INFO in 'deeppavlov.models.go_bot.network'['network'] at line 354: [saving parameters to /home/vimary/ipavlov/Pilot/examples/tutorials/models/my_gobot_ner/model.json]\n"
     ]
    },
    {
     "name": "stdout",
     "output_type": "stream",
     "text": [
      "{\"valid\": {\"eval_examples_count\": 575, \"metrics\": {\"per_item_dialog_accuracy\": 0.5163}, \"time_spent\": \"0:11:20\", \"epochs_done\": 1, \"batches_seen\": 405, \"train_examples_seen\": 1619, \"impatience\": 0, \"patience_limit\": 10}}\n",
      "{\"train\": {\"epochs_done\": 1, \"batches_seen\": 420, \"examples_seen\": 1679, \"metrics\": {\"per_item_dialog_accuracy\": 0.5965}, \"time_spent\": \"0:11:23\"}}\n"
     ]
    },
    {
     "name": "stderr",
     "output_type": "stream",
     "text": [
      "2018-11-28 17:15:14.860 INFO in 'deeppavlov.core.commands.train'['train'] at line 466: Did not improve on the per_item_dialog_accuracy of 0.5163\n"
     ]
    },
    {
     "name": "stdout",
     "output_type": "stream",
     "text": [
      "{\"valid\": {\"eval_examples_count\": 575, \"metrics\": {\"per_item_dialog_accuracy\": 0.4916}, \"time_spent\": \"0:11:43\", \"epochs_done\": 1, \"batches_seen\": 420, \"train_examples_seen\": 1679, \"impatience\": 1, \"patience_limit\": 10}}\n",
      "{\"train\": {\"epochs_done\": 1, \"batches_seen\": 435, \"examples_seen\": 1739, \"metrics\": {\"per_item_dialog_accuracy\": 0.6443}, \"time_spent\": \"0:11:46\"}}\n"
     ]
    },
    {
     "name": "stderr",
     "output_type": "stream",
     "text": [
      "2018-11-28 17:15:38.106 INFO in 'deeppavlov.core.commands.train'['train'] at line 466: Did not improve on the per_item_dialog_accuracy of 0.5163\n"
     ]
    },
    {
     "name": "stdout",
     "output_type": "stream",
     "text": [
      "{\"valid\": {\"eval_examples_count\": 575, \"metrics\": {\"per_item_dialog_accuracy\": 0.4844}, \"time_spent\": \"0:12:07\", \"epochs_done\": 1, \"batches_seen\": 435, \"train_examples_seen\": 1739, \"impatience\": 2, \"patience_limit\": 10}}\n",
      "{\"train\": {\"epochs_done\": 1, \"batches_seen\": 450, \"examples_seen\": 1799, \"metrics\": {\"per_item_dialog_accuracy\": 0.5689}, \"time_spent\": \"0:12:10\"}}\n"
     ]
    },
    {
     "name": "stderr",
     "output_type": "stream",
     "text": [
      "2018-11-28 17:16:05.631 INFO in 'deeppavlov.core.commands.train'['train'] at line 466: Did not improve on the per_item_dialog_accuracy of 0.5163\n"
     ]
    },
    {
     "name": "stdout",
     "output_type": "stream",
     "text": [
      "{\"valid\": {\"eval_examples_count\": 575, \"metrics\": {\"per_item_dialog_accuracy\": 0.484}, \"time_spent\": \"0:12:34\", \"epochs_done\": 1, \"batches_seen\": 450, \"train_examples_seen\": 1799, \"impatience\": 3, \"patience_limit\": 10}}\n",
      "{\"train\": {\"epochs_done\": 1, \"batches_seen\": 465, \"examples_seen\": 1859, \"metrics\": {\"per_item_dialog_accuracy\": 0.557}, \"time_spent\": \"0:12:38\"}}\n"
     ]
    },
    {
     "name": "stderr",
     "output_type": "stream",
     "text": [
      "2018-11-28 17:16:31.433 INFO in 'deeppavlov.core.commands.train'['train'] at line 466: Did not improve on the per_item_dialog_accuracy of 0.5163\n"
     ]
    },
    {
     "name": "stdout",
     "output_type": "stream",
     "text": [
      "{\"valid\": {\"eval_examples_count\": 575, \"metrics\": {\"per_item_dialog_accuracy\": 0.4929}, \"time_spent\": \"0:13:00\", \"epochs_done\": 1, \"batches_seen\": 465, \"train_examples_seen\": 1859, \"impatience\": 4, \"patience_limit\": 10}}\n",
      "{\"train\": {\"epochs_done\": 1, \"batches_seen\": 480, \"examples_seen\": 1919, \"metrics\": {\"per_item_dialog_accuracy\": 0.5608}, \"time_spent\": \"0:13:03\"}}\n"
     ]
    },
    {
     "name": "stderr",
     "output_type": "stream",
     "text": [
      "2018-11-28 17:16:56.225 INFO in 'deeppavlov.core.commands.train'['train'] at line 466: Did not improve on the per_item_dialog_accuracy of 0.5163\n"
     ]
    },
    {
     "name": "stdout",
     "output_type": "stream",
     "text": [
      "{\"valid\": {\"eval_examples_count\": 575, \"metrics\": {\"per_item_dialog_accuracy\": 0.4858}, \"time_spent\": \"0:13:25\", \"epochs_done\": 1, \"batches_seen\": 480, \"train_examples_seen\": 1919, \"impatience\": 5, \"patience_limit\": 10}}\n"
     ]
    },
    {
     "name": "stderr",
     "output_type": "stream",
     "text": [
      "2018-11-28 17:16:57.105 INFO in 'deeppavlov.models.go_bot.network'['network'] at line 372: Updating global step, learning rate = 0.005000.\n"
     ]
    },
    {
     "name": "stdout",
     "output_type": "stream",
     "text": [
      "{\"train\": {\"epochs_done\": 2, \"batches_seen\": 495, \"examples_seen\": 1978, \"metrics\": {\"per_item_dialog_accuracy\": 0.5916}, \"time_spent\": \"0:13:29\"}}\n"
     ]
    },
    {
     "name": "stderr",
     "output_type": "stream",
     "text": [
      "2018-11-28 17:17:23.387 INFO in 'deeppavlov.core.commands.train'['train'] at line 466: Did not improve on the per_item_dialog_accuracy of 0.5163\n"
     ]
    },
    {
     "name": "stdout",
     "output_type": "stream",
     "text": [
      "{\"valid\": {\"eval_examples_count\": 575, \"metrics\": {\"per_item_dialog_accuracy\": 0.506}, \"time_spent\": \"0:13:52\", \"epochs_done\": 2, \"batches_seen\": 495, \"train_examples_seen\": 1978, \"impatience\": 6, \"patience_limit\": 10}}\n",
      "{\"train\": {\"epochs_done\": 2, \"batches_seen\": 510, \"examples_seen\": 2038, \"metrics\": {\"per_item_dialog_accuracy\": 0.5792}, \"time_spent\": \"0:13:56\"}}\n"
     ]
    },
    {
     "name": "stderr",
     "output_type": "stream",
     "text": [
      "2018-11-28 17:17:48.19 INFO in 'deeppavlov.core.commands.train'['train'] at line 466: Did not improve on the per_item_dialog_accuracy of 0.5163\n"
     ]
    },
    {
     "name": "stdout",
     "output_type": "stream",
     "text": [
      "{\"valid\": {\"eval_examples_count\": 575, \"metrics\": {\"per_item_dialog_accuracy\": 0.4945}, \"time_spent\": \"0:14:17\", \"epochs_done\": 2, \"batches_seen\": 510, \"train_examples_seen\": 2038, \"impatience\": 7, \"patience_limit\": 10}}\n",
      "{\"train\": {\"epochs_done\": 2, \"batches_seen\": 525, \"examples_seen\": 2098, \"metrics\": {\"per_item_dialog_accuracy\": 0.5847}, \"time_spent\": \"0:14:20\"}}\n"
     ]
    },
    {
     "name": "stderr",
     "output_type": "stream",
     "text": [
      "2018-11-28 17:18:13.636 INFO in 'deeppavlov.core.commands.train'['train'] at line 466: Did not improve on the per_item_dialog_accuracy of 0.5163\n"
     ]
    },
    {
     "name": "stdout",
     "output_type": "stream",
     "text": [
      "{\"valid\": {\"eval_examples_count\": 575, \"metrics\": {\"per_item_dialog_accuracy\": 0.4823}, \"time_spent\": \"0:14:42\", \"epochs_done\": 2, \"batches_seen\": 525, \"train_examples_seen\": 2098, \"impatience\": 8, \"patience_limit\": 10}}\n",
      "{\"train\": {\"epochs_done\": 2, \"batches_seen\": 540, \"examples_seen\": 2158, \"metrics\": {\"per_item_dialog_accuracy\": 0.536}, \"time_spent\": \"0:14:45\"}}\n"
     ]
    },
    {
     "name": "stderr",
     "output_type": "stream",
     "text": [
      "2018-11-28 17:18:37.900 INFO in 'deeppavlov.core.commands.train'['train'] at line 466: Did not improve on the per_item_dialog_accuracy of 0.5163\n"
     ]
    },
    {
     "name": "stdout",
     "output_type": "stream",
     "text": [
      "{\"valid\": {\"eval_examples_count\": 575, \"metrics\": {\"per_item_dialog_accuracy\": 0.4755}, \"time_spent\": \"0:15:06\", \"epochs_done\": 2, \"batches_seen\": 540, \"train_examples_seen\": 2158, \"impatience\": 9, \"patience_limit\": 10}}\n",
      "{\"train\": {\"epochs_done\": 2, \"batches_seen\": 555, \"examples_seen\": 2218, \"metrics\": {\"per_item_dialog_accuracy\": 0.581}, \"time_spent\": \"0:15:10\"}}\n"
     ]
    },
    {
     "name": "stderr",
     "output_type": "stream",
     "text": [
      "2018-11-28 17:19:02.217 INFO in 'deeppavlov.core.commands.train'['train'] at line 466: Did not improve on the per_item_dialog_accuracy of 0.5163\n",
      "2018-11-28 17:19:02.217 INFO in 'deeppavlov.core.commands.train'['train'] at line 477: Ran out of patience\n",
      "2018-11-28 17:19:02.218 INFO in 'deeppavlov.core.data.simple_vocab'['simple_vocab'] at line 100: [loading vocabulary from /home/vimary/ipavlov/Pilot/examples/tutorials/models/my_gobot_ner/token.dict]\n",
      "2018-11-28 17:19:02.221 INFO in 'deeppavlov.core.data.simple_vocab'['simple_vocab'] at line 100: [loading vocabulary from /home/vimary/.deeppavlov/models/slotfill_dstc2/word.dict]\n",
      "2018-11-28 17:19:02.224 INFO in 'deeppavlov.core.data.simple_vocab'['simple_vocab'] at line 100: [loading vocabulary from /home/vimary/.deeppavlov/models/slotfill_dstc2/tag.dict]\n"
     ]
    },
    {
     "name": "stdout",
     "output_type": "stream",
     "text": [
      "{\"valid\": {\"eval_examples_count\": 575, \"metrics\": {\"per_item_dialog_accuracy\": 0.489}, \"time_spent\": \"0:15:31\", \"epochs_done\": 2, \"batches_seen\": 555, \"train_examples_seen\": 2218, \"impatience\": 10, \"patience_limit\": 10}}\n"
     ]
    },
    {
     "name": "stderr",
     "output_type": "stream",
     "text": [
      "2018-11-28 17:19:02.713 INFO in 'deeppavlov.core.models.tf_model'['tf_model'] at line 43: [loading model from /home/vimary/.deeppavlov/models/slotfill_dstc2/model]\n",
      "2018-11-28 17:19:02.726 INFO in 'tensorflow'['tf_logging'] at line 115: Restoring parameters from /home/vimary/.deeppavlov/models/slotfill_dstc2/model\n",
      "2018-11-28 17:19:02.741 INFO in 'deeppavlov.models.embedders.fasttext_embedder'['fasttext_embedder'] at line 52: [loading fastText embeddings from `/home/vimary/.deeppavlov/downloads/embeddings/wiki.en.bin`]\n",
      "2018-11-28 17:19:08.890 INFO in 'deeppavlov.models.go_bot.bot'['bot'] at line 108: [loading templates from /home/vimary/.deeppavlov/downloads/dstc2/dstc2-templates.txt]\n",
      "2018-11-28 17:19:08.890 INFO in 'deeppavlov.models.go_bot.bot'['bot'] at line 111: 46 templates loaded\n",
      "2018-11-28 17:19:08.891 INFO in 'deeppavlov.models.go_bot.bot'['bot'] at line 139: Calculated input size for `GoalOrientedBotNetwork` is 811\n",
      "2018-11-28 17:19:09.358 INFO in 'deeppavlov.models.go_bot.network'['network'] at line 120: [initializing `GoalOrientedBotNetwork` from saved]\n",
      "2018-11-28 17:19:09.359 INFO in 'deeppavlov.models.go_bot.network'['network'] at line 360: [loading parameters from /home/vimary/ipavlov/Pilot/examples/tutorials/models/my_gobot_ner/model.json]\n",
      "2018-11-28 17:19:09.360 INFO in 'deeppavlov.core.models.tf_model'['tf_model'] at line 43: [loading model from /home/vimary/ipavlov/Pilot/examples/tutorials/models/my_gobot_ner/model]\n",
      "2018-11-28 17:19:09.368 INFO in 'tensorflow'['tf_logging'] at line 115: Restoring parameters from /home/vimary/ipavlov/Pilot/examples/tutorials/models/my_gobot_ner/model\n",
      "2018-11-28 17:19:09.717 INFO in 'deeppavlov.core.commands.train'['train'] at line 217: Testing the best saved model\n"
     ]
    },
    {
     "name": "stdout",
     "output_type": "stream",
     "text": [
      "{\"valid\": {\"eval_examples_count\": 575, \"metrics\": {\"per_item_dialog_accuracy\": 0.5163}, \"time_spent\": \"0:00:23\"}}\n"
     ]
    },
    {
     "name": "stderr",
     "output_type": "stream",
     "text": [
      "2018-11-28 17:19:55.20 INFO in 'deeppavlov.core.data.simple_vocab'['simple_vocab'] at line 100: [loading vocabulary from /home/vimary/ipavlov/Pilot/examples/tutorials/models/my_gobot_ner/token.dict]\n",
      "2018-11-28 17:19:55.25 INFO in 'deeppavlov.core.data.simple_vocab'['simple_vocab'] at line 100: [loading vocabulary from /home/vimary/.deeppavlov/models/slotfill_dstc2/word.dict]\n",
      "2018-11-28 17:19:55.29 INFO in 'deeppavlov.core.data.simple_vocab'['simple_vocab'] at line 100: [loading vocabulary from /home/vimary/.deeppavlov/models/slotfill_dstc2/tag.dict]\n"
     ]
    },
    {
     "name": "stdout",
     "output_type": "stream",
     "text": [
      "{\"test\": {\"eval_examples_count\": 576, \"metrics\": {\"per_item_dialog_accuracy\": 0.5169}, \"time_spent\": \"0:00:23\"}}\n"
     ]
    },
    {
     "name": "stderr",
     "output_type": "stream",
     "text": [
      "2018-11-28 17:19:55.848 INFO in 'deeppavlov.core.models.tf_model'['tf_model'] at line 43: [loading model from /home/vimary/.deeppavlov/models/slotfill_dstc2/model]\n",
      "2018-11-28 17:19:55.861 INFO in 'tensorflow'['tf_logging'] at line 115: Restoring parameters from /home/vimary/.deeppavlov/models/slotfill_dstc2/model\n",
      "2018-11-28 17:19:55.882 INFO in 'deeppavlov.models.embedders.fasttext_embedder'['fasttext_embedder'] at line 52: [loading fastText embeddings from `/home/vimary/.deeppavlov/downloads/embeddings/wiki.en.bin`]\n",
      "2018-11-28 17:20:16.731 INFO in 'deeppavlov.models.go_bot.bot'['bot'] at line 108: [loading templates from /home/vimary/.deeppavlov/downloads/dstc2/dstc2-templates.txt]\n",
      "2018-11-28 17:20:16.732 INFO in 'deeppavlov.models.go_bot.bot'['bot'] at line 111: 46 templates loaded\n",
      "2018-11-28 17:20:16.732 INFO in 'deeppavlov.models.go_bot.bot'['bot'] at line 139: Calculated input size for `GoalOrientedBotNetwork` is 811\n",
      "2018-11-28 17:20:17.227 INFO in 'deeppavlov.models.go_bot.network'['network'] at line 120: [initializing `GoalOrientedBotNetwork` from saved]\n",
      "2018-11-28 17:20:17.228 INFO in 'deeppavlov.models.go_bot.network'['network'] at line 360: [loading parameters from /home/vimary/ipavlov/Pilot/examples/tutorials/models/my_gobot_ner/model.json]\n",
      "2018-11-28 17:20:17.230 INFO in 'deeppavlov.core.models.tf_model'['tf_model'] at line 43: [loading model from /home/vimary/ipavlov/Pilot/examples/tutorials/models/my_gobot_ner/model]\n",
      "2018-11-28 17:20:17.239 INFO in 'tensorflow'['tf_logging'] at line 115: Restoring parameters from /home/vimary/ipavlov/Pilot/examples/tutorials/models/my_gobot_ner/model\n"
     ]
    }
   ],
   "source": [
    "from deeppavlov.core.commands.train import train_evaluate_model_from_config\n",
    "\n",
    "def train_model(config, download=False):\n",
    "    train_evaluate_model_from_config(config, download=download, recursive=False)\n",
    "    return build_model(config, load_trained=True)\n",
    "\n",
    "\n",
    "bot_ner = train_model(config_ner, download=True)\n",
    "# bot_ner = build_model(config_ner)"
   ]
  },
  {
   "cell_type": "code",
   "execution_count": 49,
   "metadata": {},
   "outputs": [
    {
     "name": "stderr",
     "output_type": "stream",
     "text": [
      "2018-11-28 17:20:17.352 WARNING in 'deeppavlov.models.go_bot.bot'['bot'] at line 392: No database specified.\n",
      "2018-11-28 17:20:17.353 INFO in 'deeppavlov.models.go_bot.bot'['bot'] at line 393: Made api_call with {'pricerange': 'cheap', 'area': 'north'}, got 0 results.\n"
     ]
    },
    {
     "data": {
      "text/plain": [
       "['Sorry there is no #food restaurant in the north of town.']"
      ]
     },
     "execution_count": 49,
     "metadata": {},
     "output_type": "execute_result"
    }
   ],
   "source": [
    "bot_ner(['hi, i want some cheap food in the north part of town'])"
   ]
  },
  {
   "cell_type": "code",
   "execution_count": 50,
   "metadata": {},
   "outputs": [
    {
     "name": "stderr",
     "output_type": "stream",
     "text": [
      "2018-11-28 17:20:17.365 WARNING in 'deeppavlov.models.go_bot.bot'['bot'] at line 392: No database specified.\n",
      "2018-11-28 17:20:17.365 INFO in 'deeppavlov.models.go_bot.bot'['bot'] at line 393: Made api_call with {'pricerange': 'cheap', 'area': 'north'}, got 0 results.\n"
     ]
    },
    {
     "data": {
      "text/plain": [
       "['You are welcome!']"
      ]
     },
     "execution_count": 50,
     "metadata": {},
     "output_type": "execute_result"
    }
   ],
   "source": [
    "bot_ner(['thank you'])"
   ]
  },
  {
   "cell_type": "code",
   "execution_count": 51,
   "metadata": {},
   "outputs": [
    {
     "data": {
      "text/plain": [
       "['You are welcome!']"
      ]
     },
     "execution_count": 51,
     "metadata": {},
     "output_type": "execute_result"
    }
   ],
   "source": [
    "bot_ner(['bye'])"
   ]
  },
  {
   "cell_type": "code",
   "execution_count": 52,
   "metadata": {},
   "outputs": [],
   "source": [
    "# free memory\n",
    "del bot_ner"
   ]
  },
  {
   "cell_type": "code",
   "execution_count": null,
   "metadata": {},
   "outputs": [],
   "source": []
  }
 ],
 "metadata": {
  "kernelspec": {
   "display_name": "tensorflow_kernel2",
   "language": "python",
   "name": "tensorflow_kernel2"
  },
  "language_info": {
   "codemirror_mode": {
    "name": "ipython",
    "version": 3
   },
   "file_extension": ".py",
   "mimetype": "text/x-python",
   "name": "python",
   "nbconvert_exporter": "python",
   "pygments_lexer": "ipython3",
   "version": "3.6.6"
  }
 },
 "nbformat": 4,
 "nbformat_minor": 2
}
